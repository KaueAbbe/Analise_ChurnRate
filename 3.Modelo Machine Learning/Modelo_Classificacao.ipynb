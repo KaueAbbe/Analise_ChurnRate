{
  "cells": [
    {
      "cell_type": "markdown",
      "metadata": {
        "id": "view-in-github",
        "colab_type": "text"
      },
      "source": [
        "<a href=\"https://colab.research.google.com/github/KaueAbbe/Analise_ChurnRate/blob/main/3.Modelo%20Machine%20Learning/Modelo_Classificacao.ipynb\" target=\"_parent\"><img src=\"https://colab.research.google.com/assets/colab-badge.svg\" alt=\"Open In Colab\"/></a>"
      ]
    },
    {
      "cell_type": "markdown",
      "metadata": {
        "id": "vHQkdWW4B60A"
      },
      "source": [
        "# <font color = 'red' size = 10 > Modelo de Classificação </font>\n",
        "#### **Autor:** Kaue Hermann Abbehausen\n",
        "#### **Linkedin:** https://www.linkedin.com/in/kaue-abbehausen-5b1922165/\n",
        "## <font color = 'green'> Contextualizando</font>\n",
        "Eu atuo como cientista de dados pela operadora de telecomunicações Alura Voz. Na reunião inicial com as pessoas responsáveis pela área de vendas da empresa, foi explicada a importância de se reduzir a Taxa de Evasão de Clientes, conhecido como **Churn Rate**. Basicamente, o **Churn Rate indica o quanto a empresa perdeu de receita ou clientes em um período de tempo.**\n",
        "\n",
        "Eu sugeri, como passo inicial, a identificação de clientes que teriam uma maior chance de deixar a empresa. Para isso, expliquei que é interessante investigar algumas características de clientes ou dos planos de clientes para tentar CLASSIFICAR estas pessoas como potenciais candidatas a deixar a empresa ou não.\n",
        "\n",
        "Assim, solicitei o conjunto de dados para começar a explorar, tratar e modelar a partir de agora. Em seguida, o foco será na otimização de cada um dos modelos com a finalidade de obter o melhor resultado para a tomada de decisão da Alura Voz.\n",
        "\n",
        "* **Os dados foram retirados de uma API e podem ser encontrado no link abaixo:**\n",
        "\n",
        "https://github.com/sthemonica/alura-voz/blob/main/Dados/Telco-Customer-Churn.json\n",
        "\n",
        "* **Os dados foram tratados no arquivo Semana 1 e são encontrados no link abaixo:**\n",
        "\n",
        "https://github.com/KaueAbbe/Challenge_Data_Science1_Alura  \n",
        "* Versão Raw\n",
        "\n",
        "https://raw.githubusercontent.com/KaueAbbe/Challenge_Data_Science1_Alura/main/Telco-Customer-Churn-Corrigido.json\n",
        "\n",
        "\n",
        "* **A análise exploratório dos dados foi feita na semana 2.E agora é o momento de criar um modelo de machine learning em que é possível prever quais os clientes que podem vir a evadir da empresa AluraVoz**"
      ]
    },
    {
      "cell_type": "markdown",
      "metadata": {
        "id": "vpCTXLL2CCTK"
      },
      "source": [
        "## **Resultados da Análise exploratória**\n",
        "\n",
        "Durante a análise exploratória foram encontrados variáveis que apresentam diferença entre os grupos que evadiram e que não evadiram. Para as variáveis do tipo qualitativas (categóricas) temos:\n",
        "\n",
        " Desta lista de variáveis categóricas apenas Idoso, Parceiro, dependencia, Fatura_online, servico_internet, assinatura_tv e assinatura_filme são de duas categorias (sim ou não).\n",
        "\n",
        " # Importando as bibliotecas e os dados"
      ]
    },
    {
      "cell_type": "code",
      "execution_count": null,
      "metadata": {
        "id": "24exfvYHB1ub"
      },
      "outputs": [],
      "source": [
        "import pandas as pd\n",
        "from sklearn.svm import LinearSVC\n",
        "from sklearn.model_selection import train_test_split\n",
        "from sklearn.metrics import accuracy_score\n",
        "from sklearn.dummy import DummyClassifier\n",
        "import numpy as np\n",
        "import seaborn as sns\n",
        "import matplotlib.pyplot as plt"
      ]
    },
    {
      "cell_type": "code",
      "execution_count": null,
      "metadata": {
        "colab": {
          "base_uri": "https://localhost:8080/",
          "height": 342
        },
        "id": "QUwgsjJLCQWA",
        "outputId": "d26adf36-0930-4fc0-ecc8-ca45426ae900"
      },
      "outputs": [
        {
          "output_type": "execute_result",
          "data": {
            "text/plain": [
              "    IDcliente Evadiu  Genero Idoso Parceiro Dependencia  Meses_de_contrato  \\\n",
              "0  0002-ORFBO    Nao  Mulher   Nao      Sim         Sim                  9   \n",
              "1  0003-MKNFE    Nao   Homem   Nao      Nao         Nao                  9   \n",
              "2  0004-TLHLJ    Sim   Homem   Nao      Nao         Nao                  4   \n",
              "3  0011-IGKFF    Sim   Homem   Sim      Sim         Nao                 13   \n",
              "4  0013-EXCHZ    Sim  Mulher   Sim      Sim         Nao                  3   \n",
              "\n",
              "  Servico_celular linhas_multiplas Tipo_contrato  ... Gasto_mensal  \\\n",
              "0             Sim              Nao         Anual  ...         65.6   \n",
              "1             Sim              Sim     Mes a Mes  ...         59.9   \n",
              "2             Sim              Nao     Mes a Mes  ...         73.9   \n",
              "3             Sim              Nao     Mes a Mes  ...         98.0   \n",
              "4             Sim              Nao     Mes a Mes  ...         83.9   \n",
              "\n",
              "  Gasto_total  Servico_internet  Seguranca_online Backup_online  \\\n",
              "0      593.30               DSL               Nao           Sim   \n",
              "1      542.40               DSL               Nao           Nao   \n",
              "2      280.85      Fibra optica               Nao           Nao   \n",
              "3     1237.85      Fibra optica               Nao           Sim   \n",
              "4      267.40      Fibra optica               Nao           Nao   \n",
              "\n",
              "  Protecao_de_aparelho Suporte_tecnico Assinatura_tv Assinatura_filme  \\\n",
              "0                  Nao             Sim           Sim              Nao   \n",
              "1                  Nao             Nao           Nao              Sim   \n",
              "2                  Sim             Nao           Nao              Nao   \n",
              "3                  Sim             Nao           Sim              Sim   \n",
              "4                  Nao             Sim           Sim              Nao   \n",
              "\n",
              "  Gasto_diario  \n",
              "0     2.186667  \n",
              "1     1.996667  \n",
              "2     2.463333  \n",
              "3     3.266667  \n",
              "4     2.796667  \n",
              "\n",
              "[5 rows x 22 columns]"
            ],
            "text/html": [
              "\n",
              "  <div id=\"df-b9b0a20c-e518-4b77-98ee-52f996a26827\" class=\"colab-df-container\">\n",
              "    <div>\n",
              "<style scoped>\n",
              "    .dataframe tbody tr th:only-of-type {\n",
              "        vertical-align: middle;\n",
              "    }\n",
              "\n",
              "    .dataframe tbody tr th {\n",
              "        vertical-align: top;\n",
              "    }\n",
              "\n",
              "    .dataframe thead th {\n",
              "        text-align: right;\n",
              "    }\n",
              "</style>\n",
              "<table border=\"1\" class=\"dataframe\">\n",
              "  <thead>\n",
              "    <tr style=\"text-align: right;\">\n",
              "      <th></th>\n",
              "      <th>IDcliente</th>\n",
              "      <th>Evadiu</th>\n",
              "      <th>Genero</th>\n",
              "      <th>Idoso</th>\n",
              "      <th>Parceiro</th>\n",
              "      <th>Dependencia</th>\n",
              "      <th>Meses_de_contrato</th>\n",
              "      <th>Servico_celular</th>\n",
              "      <th>linhas_multiplas</th>\n",
              "      <th>Tipo_contrato</th>\n",
              "      <th>...</th>\n",
              "      <th>Gasto_mensal</th>\n",
              "      <th>Gasto_total</th>\n",
              "      <th>Servico_internet</th>\n",
              "      <th>Seguranca_online</th>\n",
              "      <th>Backup_online</th>\n",
              "      <th>Protecao_de_aparelho</th>\n",
              "      <th>Suporte_tecnico</th>\n",
              "      <th>Assinatura_tv</th>\n",
              "      <th>Assinatura_filme</th>\n",
              "      <th>Gasto_diario</th>\n",
              "    </tr>\n",
              "  </thead>\n",
              "  <tbody>\n",
              "    <tr>\n",
              "      <th>0</th>\n",
              "      <td>0002-ORFBO</td>\n",
              "      <td>Nao</td>\n",
              "      <td>Mulher</td>\n",
              "      <td>Nao</td>\n",
              "      <td>Sim</td>\n",
              "      <td>Sim</td>\n",
              "      <td>9</td>\n",
              "      <td>Sim</td>\n",
              "      <td>Nao</td>\n",
              "      <td>Anual</td>\n",
              "      <td>...</td>\n",
              "      <td>65.6</td>\n",
              "      <td>593.30</td>\n",
              "      <td>DSL</td>\n",
              "      <td>Nao</td>\n",
              "      <td>Sim</td>\n",
              "      <td>Nao</td>\n",
              "      <td>Sim</td>\n",
              "      <td>Sim</td>\n",
              "      <td>Nao</td>\n",
              "      <td>2.186667</td>\n",
              "    </tr>\n",
              "    <tr>\n",
              "      <th>1</th>\n",
              "      <td>0003-MKNFE</td>\n",
              "      <td>Nao</td>\n",
              "      <td>Homem</td>\n",
              "      <td>Nao</td>\n",
              "      <td>Nao</td>\n",
              "      <td>Nao</td>\n",
              "      <td>9</td>\n",
              "      <td>Sim</td>\n",
              "      <td>Sim</td>\n",
              "      <td>Mes a Mes</td>\n",
              "      <td>...</td>\n",
              "      <td>59.9</td>\n",
              "      <td>542.40</td>\n",
              "      <td>DSL</td>\n",
              "      <td>Nao</td>\n",
              "      <td>Nao</td>\n",
              "      <td>Nao</td>\n",
              "      <td>Nao</td>\n",
              "      <td>Nao</td>\n",
              "      <td>Sim</td>\n",
              "      <td>1.996667</td>\n",
              "    </tr>\n",
              "    <tr>\n",
              "      <th>2</th>\n",
              "      <td>0004-TLHLJ</td>\n",
              "      <td>Sim</td>\n",
              "      <td>Homem</td>\n",
              "      <td>Nao</td>\n",
              "      <td>Nao</td>\n",
              "      <td>Nao</td>\n",
              "      <td>4</td>\n",
              "      <td>Sim</td>\n",
              "      <td>Nao</td>\n",
              "      <td>Mes a Mes</td>\n",
              "      <td>...</td>\n",
              "      <td>73.9</td>\n",
              "      <td>280.85</td>\n",
              "      <td>Fibra optica</td>\n",
              "      <td>Nao</td>\n",
              "      <td>Nao</td>\n",
              "      <td>Sim</td>\n",
              "      <td>Nao</td>\n",
              "      <td>Nao</td>\n",
              "      <td>Nao</td>\n",
              "      <td>2.463333</td>\n",
              "    </tr>\n",
              "    <tr>\n",
              "      <th>3</th>\n",
              "      <td>0011-IGKFF</td>\n",
              "      <td>Sim</td>\n",
              "      <td>Homem</td>\n",
              "      <td>Sim</td>\n",
              "      <td>Sim</td>\n",
              "      <td>Nao</td>\n",
              "      <td>13</td>\n",
              "      <td>Sim</td>\n",
              "      <td>Nao</td>\n",
              "      <td>Mes a Mes</td>\n",
              "      <td>...</td>\n",
              "      <td>98.0</td>\n",
              "      <td>1237.85</td>\n",
              "      <td>Fibra optica</td>\n",
              "      <td>Nao</td>\n",
              "      <td>Sim</td>\n",
              "      <td>Sim</td>\n",
              "      <td>Nao</td>\n",
              "      <td>Sim</td>\n",
              "      <td>Sim</td>\n",
              "      <td>3.266667</td>\n",
              "    </tr>\n",
              "    <tr>\n",
              "      <th>4</th>\n",
              "      <td>0013-EXCHZ</td>\n",
              "      <td>Sim</td>\n",
              "      <td>Mulher</td>\n",
              "      <td>Sim</td>\n",
              "      <td>Sim</td>\n",
              "      <td>Nao</td>\n",
              "      <td>3</td>\n",
              "      <td>Sim</td>\n",
              "      <td>Nao</td>\n",
              "      <td>Mes a Mes</td>\n",
              "      <td>...</td>\n",
              "      <td>83.9</td>\n",
              "      <td>267.40</td>\n",
              "      <td>Fibra optica</td>\n",
              "      <td>Nao</td>\n",
              "      <td>Nao</td>\n",
              "      <td>Nao</td>\n",
              "      <td>Sim</td>\n",
              "      <td>Sim</td>\n",
              "      <td>Nao</td>\n",
              "      <td>2.796667</td>\n",
              "    </tr>\n",
              "  </tbody>\n",
              "</table>\n",
              "<p>5 rows × 22 columns</p>\n",
              "</div>\n",
              "    <div class=\"colab-df-buttons\">\n",
              "\n",
              "  <div class=\"colab-df-container\">\n",
              "    <button class=\"colab-df-convert\" onclick=\"convertToInteractive('df-b9b0a20c-e518-4b77-98ee-52f996a26827')\"\n",
              "            title=\"Convert this dataframe to an interactive table.\"\n",
              "            style=\"display:none;\">\n",
              "\n",
              "  <svg xmlns=\"http://www.w3.org/2000/svg\" height=\"24px\" viewBox=\"0 -960 960 960\">\n",
              "    <path d=\"M120-120v-720h720v720H120Zm60-500h600v-160H180v160Zm220 220h160v-160H400v160Zm0 220h160v-160H400v160ZM180-400h160v-160H180v160Zm440 0h160v-160H620v160ZM180-180h160v-160H180v160Zm440 0h160v-160H620v160Z\"/>\n",
              "  </svg>\n",
              "    </button>\n",
              "\n",
              "  <style>\n",
              "    .colab-df-container {\n",
              "      display:flex;\n",
              "      gap: 12px;\n",
              "    }\n",
              "\n",
              "    .colab-df-convert {\n",
              "      background-color: #E8F0FE;\n",
              "      border: none;\n",
              "      border-radius: 50%;\n",
              "      cursor: pointer;\n",
              "      display: none;\n",
              "      fill: #1967D2;\n",
              "      height: 32px;\n",
              "      padding: 0 0 0 0;\n",
              "      width: 32px;\n",
              "    }\n",
              "\n",
              "    .colab-df-convert:hover {\n",
              "      background-color: #E2EBFA;\n",
              "      box-shadow: 0px 1px 2px rgba(60, 64, 67, 0.3), 0px 1px 3px 1px rgba(60, 64, 67, 0.15);\n",
              "      fill: #174EA6;\n",
              "    }\n",
              "\n",
              "    .colab-df-buttons div {\n",
              "      margin-bottom: 4px;\n",
              "    }\n",
              "\n",
              "    [theme=dark] .colab-df-convert {\n",
              "      background-color: #3B4455;\n",
              "      fill: #D2E3FC;\n",
              "    }\n",
              "\n",
              "    [theme=dark] .colab-df-convert:hover {\n",
              "      background-color: #434B5C;\n",
              "      box-shadow: 0px 1px 3px 1px rgba(0, 0, 0, 0.15);\n",
              "      filter: drop-shadow(0px 1px 2px rgba(0, 0, 0, 0.3));\n",
              "      fill: #FFFFFF;\n",
              "    }\n",
              "  </style>\n",
              "\n",
              "    <script>\n",
              "      const buttonEl =\n",
              "        document.querySelector('#df-b9b0a20c-e518-4b77-98ee-52f996a26827 button.colab-df-convert');\n",
              "      buttonEl.style.display =\n",
              "        google.colab.kernel.accessAllowed ? 'block' : 'none';\n",
              "\n",
              "      async function convertToInteractive(key) {\n",
              "        const element = document.querySelector('#df-b9b0a20c-e518-4b77-98ee-52f996a26827');\n",
              "        const dataTable =\n",
              "          await google.colab.kernel.invokeFunction('convertToInteractive',\n",
              "                                                    [key], {});\n",
              "        if (!dataTable) return;\n",
              "\n",
              "        const docLinkHtml = 'Like what you see? Visit the ' +\n",
              "          '<a target=\"_blank\" href=https://colab.research.google.com/notebooks/data_table.ipynb>data table notebook</a>'\n",
              "          + ' to learn more about interactive tables.';\n",
              "        element.innerHTML = '';\n",
              "        dataTable['output_type'] = 'display_data';\n",
              "        await google.colab.output.renderOutput(dataTable, element);\n",
              "        const docLink = document.createElement('div');\n",
              "        docLink.innerHTML = docLinkHtml;\n",
              "        element.appendChild(docLink);\n",
              "      }\n",
              "    </script>\n",
              "  </div>\n",
              "\n",
              "\n",
              "<div id=\"df-424ee046-f117-4f18-9446-2eb95ed0baaf\">\n",
              "  <button class=\"colab-df-quickchart\" onclick=\"quickchart('df-424ee046-f117-4f18-9446-2eb95ed0baaf')\"\n",
              "            title=\"Suggest charts.\"\n",
              "            style=\"display:none;\">\n",
              "\n",
              "<svg xmlns=\"http://www.w3.org/2000/svg\" height=\"24px\"viewBox=\"0 0 24 24\"\n",
              "     width=\"24px\">\n",
              "    <g>\n",
              "        <path d=\"M19 3H5c-1.1 0-2 .9-2 2v14c0 1.1.9 2 2 2h14c1.1 0 2-.9 2-2V5c0-1.1-.9-2-2-2zM9 17H7v-7h2v7zm4 0h-2V7h2v10zm4 0h-2v-4h2v4z\"/>\n",
              "    </g>\n",
              "</svg>\n",
              "  </button>\n",
              "\n",
              "<style>\n",
              "  .colab-df-quickchart {\n",
              "      --bg-color: #E8F0FE;\n",
              "      --fill-color: #1967D2;\n",
              "      --hover-bg-color: #E2EBFA;\n",
              "      --hover-fill-color: #174EA6;\n",
              "      --disabled-fill-color: #AAA;\n",
              "      --disabled-bg-color: #DDD;\n",
              "  }\n",
              "\n",
              "  [theme=dark] .colab-df-quickchart {\n",
              "      --bg-color: #3B4455;\n",
              "      --fill-color: #D2E3FC;\n",
              "      --hover-bg-color: #434B5C;\n",
              "      --hover-fill-color: #FFFFFF;\n",
              "      --disabled-bg-color: #3B4455;\n",
              "      --disabled-fill-color: #666;\n",
              "  }\n",
              "\n",
              "  .colab-df-quickchart {\n",
              "    background-color: var(--bg-color);\n",
              "    border: none;\n",
              "    border-radius: 50%;\n",
              "    cursor: pointer;\n",
              "    display: none;\n",
              "    fill: var(--fill-color);\n",
              "    height: 32px;\n",
              "    padding: 0;\n",
              "    width: 32px;\n",
              "  }\n",
              "\n",
              "  .colab-df-quickchart:hover {\n",
              "    background-color: var(--hover-bg-color);\n",
              "    box-shadow: 0 1px 2px rgba(60, 64, 67, 0.3), 0 1px 3px 1px rgba(60, 64, 67, 0.15);\n",
              "    fill: var(--button-hover-fill-color);\n",
              "  }\n",
              "\n",
              "  .colab-df-quickchart-complete:disabled,\n",
              "  .colab-df-quickchart-complete:disabled:hover {\n",
              "    background-color: var(--disabled-bg-color);\n",
              "    fill: var(--disabled-fill-color);\n",
              "    box-shadow: none;\n",
              "  }\n",
              "\n",
              "  .colab-df-spinner {\n",
              "    border: 2px solid var(--fill-color);\n",
              "    border-color: transparent;\n",
              "    border-bottom-color: var(--fill-color);\n",
              "    animation:\n",
              "      spin 1s steps(1) infinite;\n",
              "  }\n",
              "\n",
              "  @keyframes spin {\n",
              "    0% {\n",
              "      border-color: transparent;\n",
              "      border-bottom-color: var(--fill-color);\n",
              "      border-left-color: var(--fill-color);\n",
              "    }\n",
              "    20% {\n",
              "      border-color: transparent;\n",
              "      border-left-color: var(--fill-color);\n",
              "      border-top-color: var(--fill-color);\n",
              "    }\n",
              "    30% {\n",
              "      border-color: transparent;\n",
              "      border-left-color: var(--fill-color);\n",
              "      border-top-color: var(--fill-color);\n",
              "      border-right-color: var(--fill-color);\n",
              "    }\n",
              "    40% {\n",
              "      border-color: transparent;\n",
              "      border-right-color: var(--fill-color);\n",
              "      border-top-color: var(--fill-color);\n",
              "    }\n",
              "    60% {\n",
              "      border-color: transparent;\n",
              "      border-right-color: var(--fill-color);\n",
              "    }\n",
              "    80% {\n",
              "      border-color: transparent;\n",
              "      border-right-color: var(--fill-color);\n",
              "      border-bottom-color: var(--fill-color);\n",
              "    }\n",
              "    90% {\n",
              "      border-color: transparent;\n",
              "      border-bottom-color: var(--fill-color);\n",
              "    }\n",
              "  }\n",
              "</style>\n",
              "\n",
              "  <script>\n",
              "    async function quickchart(key) {\n",
              "      const quickchartButtonEl =\n",
              "        document.querySelector('#' + key + ' button');\n",
              "      quickchartButtonEl.disabled = true;  // To prevent multiple clicks.\n",
              "      quickchartButtonEl.classList.add('colab-df-spinner');\n",
              "      try {\n",
              "        const charts = await google.colab.kernel.invokeFunction(\n",
              "            'suggestCharts', [key], {});\n",
              "      } catch (error) {\n",
              "        console.error('Error during call to suggestCharts:', error);\n",
              "      }\n",
              "      quickchartButtonEl.classList.remove('colab-df-spinner');\n",
              "      quickchartButtonEl.classList.add('colab-df-quickchart-complete');\n",
              "    }\n",
              "    (() => {\n",
              "      let quickchartButtonEl =\n",
              "        document.querySelector('#df-424ee046-f117-4f18-9446-2eb95ed0baaf button');\n",
              "      quickchartButtonEl.style.display =\n",
              "        google.colab.kernel.accessAllowed ? 'block' : 'none';\n",
              "    })();\n",
              "  </script>\n",
              "</div>\n",
              "    </div>\n",
              "  </div>\n"
            ]
          },
          "metadata": {},
          "execution_count": 69
        }
      ],
      "source": [
        "dados = pd.read_json('https://raw.githubusercontent.com/KaueAbbe/Challenge_Data_Science1_Alura/main/Telco-Customer-Churn-Corrigido.json')\n",
        "dados.head()"
      ]
    },
    {
      "cell_type": "code",
      "execution_count": null,
      "metadata": {
        "colab": {
          "base_uri": "https://localhost:8080/"
        },
        "id": "wSqB6IJHCVNu",
        "outputId": "8326cae8-fd5b-4f1d-b858-548c9bdc78c8"
      },
      "outputs": [
        {
          "output_type": "stream",
          "name": "stdout",
          "text": [
            "<class 'pandas.core.frame.DataFrame'>\n",
            "Int64Index: 7043 entries, 0 to 7042\n",
            "Data columns (total 22 columns):\n",
            " #   Column                Non-Null Count  Dtype  \n",
            "---  ------                --------------  -----  \n",
            " 0   IDcliente             7043 non-null   object \n",
            " 1   Evadiu                7043 non-null   object \n",
            " 2   Genero                7043 non-null   object \n",
            " 3   Idoso                 7043 non-null   object \n",
            " 4   Parceiro              7043 non-null   object \n",
            " 5   Dependencia           7043 non-null   object \n",
            " 6   Meses_de_contrato     7043 non-null   int64  \n",
            " 7   Servico_celular       7043 non-null   object \n",
            " 8   linhas_multiplas      7043 non-null   object \n",
            " 9   Tipo_contrato         7043 non-null   object \n",
            " 10  Fatura_online         7043 non-null   object \n",
            " 11  Metodo_pagamento      7043 non-null   object \n",
            " 12  Gasto_mensal          7043 non-null   float64\n",
            " 13  Gasto_total           7043 non-null   float64\n",
            " 14  Servico_internet      7043 non-null   object \n",
            " 15  Seguranca_online      7043 non-null   object \n",
            " 16  Backup_online         7043 non-null   object \n",
            " 17  Protecao_de_aparelho  7043 non-null   object \n",
            " 18  Suporte_tecnico       7043 non-null   object \n",
            " 19  Assinatura_tv         7043 non-null   object \n",
            " 20  Assinatura_filme      7043 non-null   object \n",
            " 21  Gasto_diario          7043 non-null   float64\n",
            "dtypes: float64(3), int64(1), object(18)\n",
            "memory usage: 1.2+ MB\n"
          ]
        }
      ],
      "source": [
        "dados.info()"
      ]
    },
    {
      "cell_type": "markdown",
      "metadata": {
        "id": "gQmtfOF8CsLb"
      },
      "source": [
        "# Preparar os dados para o modelo\n",
        "1. Tirar colunas altamente correlacionadas\n",
        "2. Enconde dos dados\n",
        "3. Balancear os dados\n",
        "4. Standard Scalar\n",
        "\n",
        "### 1 Visualizar colunas altamente correlacionadas"
      ]
    },
    {
      "cell_type": "code",
      "execution_count": null,
      "metadata": {
        "colab": {
          "base_uri": "https://localhost:8080/",
          "height": 561
        },
        "id": "rM0kSNpZCaju",
        "outputId": "7d381b7e-a91e-48ad-dad2-84c6b88eb460"
      },
      "outputs": [
        {
          "output_type": "stream",
          "name": "stderr",
          "text": [
            "<ipython-input-71-3c0e1fc7d43a>:1: FutureWarning: The default value of numeric_only in DataFrame.corr is deprecated. In a future version, it will default to False. Select only valid columns or specify the value of numeric_only to silence this warning.\n",
            "  sns.heatmap(dados.corr())\n"
          ]
        },
        {
          "output_type": "execute_result",
          "data": {
            "text/plain": [
              "<Axes: >"
            ]
          },
          "metadata": {},
          "execution_count": 71
        },
        {
          "output_type": "display_data",
          "data": {
            "text/plain": [
              "<Figure size 800x550 with 2 Axes>"
            ],
            "image/png": "[encoded data removed]"
          },
          "metadata": {}
        }
      ],
      "source": [
        "sns.heatmap(dados.corr())"
      ]
    },
    {
      "cell_type": "markdown",
      "source": [
        "### 2. Mudança de binários para 1 e 0"
      ],
      "metadata": {
        "id": "SR8r8zqoaqhz"
      }
    },
    {
      "cell_type": "code",
      "source": [
        "for i in dados.select_dtypes(include=['object']).columns:\n",
        "    if len(dados[i].unique()) > 2:\n",
        "       print(f\"{i}: {dados[i].unique()}\")"
      ],
      "metadata": {
        "colab": {
          "base_uri": "https://localhost:8080/"
        },
        "id": "4xDKWpqVarOa",
        "outputId": "1735e028-bcb4-46a1-dac6-d8cfe0940dce"
      },
      "execution_count": null,
      "outputs": [
        {
          "output_type": "stream",
          "name": "stdout",
          "text": [
            "IDcliente: ['0002-ORFBO' '0003-MKNFE' '0004-TLHLJ' ... '9992-UJOEL' '9993-LHIEB'\n",
            " '9995-HOTOH']\n",
            "linhas_multiplas: ['Nao' 'Sim' 'Sem servico celular']\n",
            "Tipo_contrato: ['Anual' 'Mes a Mes' 'Bianual']\n",
            "Metodo_pagamento: ['Cheque por Email' 'Cheque Eletronico' 'Cartao Credito (automatico)'\n",
            " 'Transferencia Bancaria (automatico)']\n",
            "Servico_internet: ['DSL' 'Fibra optica' 'Nao']\n",
            "Seguranca_online: ['Nao' 'Sim' 'Sem servico internet']\n",
            "Backup_online: ['Sim' 'Nao' 'Sem servico internet']\n",
            "Protecao_de_aparelho: ['Nao' 'Sim' 'Sem servico internet']\n",
            "Suporte_tecnico: ['Sim' 'Nao' 'Sem servico internet']\n",
            "Assinatura_tv: ['Sim' 'Nao' 'Sem servico internet']\n",
            "Assinatura_filme: ['Nao' 'Sim' 'Sem servico internet']\n"
          ]
        }
      ]
    },
    {
      "cell_type": "code",
      "source": [
        "colunas = ['Metodo_pagamento', 'Tipo_contrato', 'Servico_internet']"
      ],
      "metadata": {
        "id": "YSvJp9SDaq4N"
      },
      "execution_count": null,
      "outputs": []
    },
    {
      "cell_type": "code",
      "source": [
        "dados2 = dados.drop(colunas, axis = 1)\n",
        "dados2.columns"
      ],
      "metadata": {
        "colab": {
          "base_uri": "https://localhost:8080/"
        },
        "id": "xvCweqIUbIXX",
        "outputId": "99466f77-0b7e-47bd-c25d-c8f690e86bec"
      },
      "execution_count": null,
      "outputs": [
        {
          "output_type": "execute_result",
          "data": {
            "text/plain": [
              "Index(['IDcliente', 'Evadiu', 'Genero', 'Idoso', 'Parceiro', 'Dependencia',\n",
              "       'Meses_de_contrato', 'Servico_celular', 'linhas_multiplas',\n",
              "       'Fatura_online', 'Gasto_mensal', 'Gasto_total', 'Seguranca_online',\n",
              "       'Backup_online', 'Protecao_de_aparelho', 'Suporte_tecnico',\n",
              "       'Assinatura_tv', 'Assinatura_filme', 'Gasto_diario'],\n",
              "      dtype='object')"
            ]
          },
          "metadata": {},
          "execution_count": 87
        }
      ]
    },
    {
      "cell_type": "code",
      "source": [
        "dicionario = {'Sem servico internet':0,\n",
        "              'Sem servico celular': 0,\n",
        "              'Nao': 0,\n",
        "              'Sim': 1,\n",
        "              'Homem':0,\n",
        "              'Mulher':1}"
      ],
      "metadata": {
        "id": "6QX6HAENbISS"
      },
      "execution_count": null,
      "outputs": []
    },
    {
      "cell_type": "code",
      "source": [
        "dados2 = dados2.replace(dicionario)\n",
        "dados2.head()"
      ],
      "metadata": {
        "colab": {
          "base_uri": "https://localhost:8080/",
          "height": 313
        },
        "id": "1X9lkJ-sbILZ",
        "outputId": "4c87db8d-fe6f-4310-c07b-6cd2ab9003e1"
      },
      "execution_count": null,
      "outputs": [
        {
          "output_type": "execute_result",
          "data": {
            "text/plain": [
              "    IDcliente  Evadiu  Genero  Idoso  Parceiro  Dependencia  \\\n",
              "0  0002-ORFBO       0       1      0         1            1   \n",
              "1  0003-MKNFE       0       0      0         0            0   \n",
              "2  0004-TLHLJ       1       0      0         0            0   \n",
              "3  0011-IGKFF       1       0      1         1            0   \n",
              "4  0013-EXCHZ       1       1      1         1            0   \n",
              "\n",
              "   Meses_de_contrato  Servico_celular  linhas_multiplas  Fatura_online  \\\n",
              "0                  9                1                 0              1   \n",
              "1                  9                1                 1              0   \n",
              "2                  4                1                 0              1   \n",
              "3                 13                1                 0              1   \n",
              "4                  3                1                 0              1   \n",
              "\n",
              "   Gasto_mensal  Gasto_total  Seguranca_online  Backup_online  \\\n",
              "0          65.6       593.30                 0              1   \n",
              "1          59.9       542.40                 0              0   \n",
              "2          73.9       280.85                 0              0   \n",
              "3          98.0      1237.85                 0              1   \n",
              "4          83.9       267.40                 0              0   \n",
              "\n",
              "   Protecao_de_aparelho  Suporte_tecnico  Assinatura_tv  Assinatura_filme  \\\n",
              "0                     0                1              1                 0   \n",
              "1                     0                0              0                 1   \n",
              "2                     1                0              0                 0   \n",
              "3                     1                0              1                 1   \n",
              "4                     0                1              1                 0   \n",
              "\n",
              "   Gasto_diario  \n",
              "0      2.186667  \n",
              "1      1.996667  \n",
              "2      2.463333  \n",
              "3      3.266667  \n",
              "4      2.796667  "
            ],
            "text/html": [
              "\n",
              "  <div id=\"df-82834135-b947-40a1-83ea-0e8d0c9c7117\" class=\"colab-df-container\">\n",
              "    <div>\n",
              "<style scoped>\n",
              "    .dataframe tbody tr th:only-of-type {\n",
              "        vertical-align: middle;\n",
              "    }\n",
              "\n",
              "    .dataframe tbody tr th {\n",
              "        vertical-align: top;\n",
              "    }\n",
              "\n",
              "    .dataframe thead th {\n",
              "        text-align: right;\n",
              "    }\n",
              "</style>\n",
              "<table border=\"1\" class=\"dataframe\">\n",
              "  <thead>\n",
              "    <tr style=\"text-align: right;\">\n",
              "      <th></th>\n",
              "      <th>IDcliente</th>\n",
              "      <th>Evadiu</th>\n",
              "      <th>Genero</th>\n",
              "      <th>Idoso</th>\n",
              "      <th>Parceiro</th>\n",
              "      <th>Dependencia</th>\n",
              "      <th>Meses_de_contrato</th>\n",
              "      <th>Servico_celular</th>\n",
              "      <th>linhas_multiplas</th>\n",
              "      <th>Fatura_online</th>\n",
              "      <th>Gasto_mensal</th>\n",
              "      <th>Gasto_total</th>\n",
              "      <th>Seguranca_online</th>\n",
              "      <th>Backup_online</th>\n",
              "      <th>Protecao_de_aparelho</th>\n",
              "      <th>Suporte_tecnico</th>\n",
              "      <th>Assinatura_tv</th>\n",
              "      <th>Assinatura_filme</th>\n",
              "      <th>Gasto_diario</th>\n",
              "    </tr>\n",
              "  </thead>\n",
              "  <tbody>\n",
              "    <tr>\n",
              "      <th>0</th>\n",
              "      <td>0002-ORFBO</td>\n",
              "      <td>0</td>\n",
              "      <td>1</td>\n",
              "      <td>0</td>\n",
              "      <td>1</td>\n",
              "      <td>1</td>\n",
              "      <td>9</td>\n",
              "      <td>1</td>\n",
              "      <td>0</td>\n",
              "      <td>1</td>\n",
              "      <td>65.6</td>\n",
              "      <td>593.30</td>\n",
              "      <td>0</td>\n",
              "      <td>1</td>\n",
              "      <td>0</td>\n",
              "      <td>1</td>\n",
              "      <td>1</td>\n",
              "      <td>0</td>\n",
              "      <td>2.186667</td>\n",
              "    </tr>\n",
              "    <tr>\n",
              "      <th>1</th>\n",
              "      <td>0003-MKNFE</td>\n",
              "      <td>0</td>\n",
              "      <td>0</td>\n",
              "      <td>0</td>\n",
              "      <td>0</td>\n",
              "      <td>0</td>\n",
              "      <td>9</td>\n",
              "      <td>1</td>\n",
              "      <td>1</td>\n",
              "      <td>0</td>\n",
              "      <td>59.9</td>\n",
              "      <td>542.40</td>\n",
              "      <td>0</td>\n",
              "      <td>0</td>\n",
              "      <td>0</td>\n",
              "      <td>0</td>\n",
              "      <td>0</td>\n",
              "      <td>1</td>\n",
              "      <td>1.996667</td>\n",
              "    </tr>\n",
              "    <tr>\n",
              "      <th>2</th>\n",
              "      <td>0004-TLHLJ</td>\n",
              "      <td>1</td>\n",
              "      <td>0</td>\n",
              "      <td>0</td>\n",
              "      <td>0</td>\n",
              "      <td>0</td>\n",
              "      <td>4</td>\n",
              "      <td>1</td>\n",
              "      <td>0</td>\n",
              "      <td>1</td>\n",
              "      <td>73.9</td>\n",
              "      <td>280.85</td>\n",
              "      <td>0</td>\n",
              "      <td>0</td>\n",
              "      <td>1</td>\n",
              "      <td>0</td>\n",
              "      <td>0</td>\n",
              "      <td>0</td>\n",
              "      <td>2.463333</td>\n",
              "    </tr>\n",
              "    <tr>\n",
              "      <th>3</th>\n",
              "      <td>0011-IGKFF</td>\n",
              "      <td>1</td>\n",
              "      <td>0</td>\n",
              "      <td>1</td>\n",
              "      <td>1</td>\n",
              "      <td>0</td>\n",
              "      <td>13</td>\n",
              "      <td>1</td>\n",
              "      <td>0</td>\n",
              "      <td>1</td>\n",
              "      <td>98.0</td>\n",
              "      <td>1237.85</td>\n",
              "      <td>0</td>\n",
              "      <td>1</td>\n",
              "      <td>1</td>\n",
              "      <td>0</td>\n",
              "      <td>1</td>\n",
              "      <td>1</td>\n",
              "      <td>3.266667</td>\n",
              "    </tr>\n",
              "    <tr>\n",
              "      <th>4</th>\n",
              "      <td>0013-EXCHZ</td>\n",
              "      <td>1</td>\n",
              "      <td>1</td>\n",
              "      <td>1</td>\n",
              "      <td>1</td>\n",
              "      <td>0</td>\n",
              "      <td>3</td>\n",
              "      <td>1</td>\n",
              "      <td>0</td>\n",
              "      <td>1</td>\n",
              "      <td>83.9</td>\n",
              "      <td>267.40</td>\n",
              "      <td>0</td>\n",
              "      <td>0</td>\n",
              "      <td>0</td>\n",
              "      <td>1</td>\n",
              "      <td>1</td>\n",
              "      <td>0</td>\n",
              "      <td>2.796667</td>\n",
              "    </tr>\n",
              "  </tbody>\n",
              "</table>\n",
              "</div>\n",
              "    <div class=\"colab-df-buttons\">\n",
              "\n",
              "  <div class=\"colab-df-container\">\n",
              "    <button class=\"colab-df-convert\" onclick=\"convertToInteractive('df-82834135-b947-40a1-83ea-0e8d0c9c7117')\"\n",
              "            title=\"Convert this dataframe to an interactive table.\"\n",
              "            style=\"display:none;\">\n",
              "\n",
              "  <svg xmlns=\"http://www.w3.org/2000/svg\" height=\"24px\" viewBox=\"0 -960 960 960\">\n",
              "    <path d=\"M120-120v-720h720v720H120Zm60-500h600v-160H180v160Zm220 220h160v-160H400v160Zm0 220h160v-160H400v160ZM180-400h160v-160H180v160Zm440 0h160v-160H620v160ZM180-180h160v-160H180v160Zm440 0h160v-160H620v160Z\"/>\n",
              "  </svg>\n",
              "    </button>\n",
              "\n",
              "  <style>\n",
              "    .colab-df-container {\n",
              "      display:flex;\n",
              "      gap: 12px;\n",
              "    }\n",
              "\n",
              "    .colab-df-convert {\n",
              "      background-color: #E8F0FE;\n",
              "      border: none;\n",
              "      border-radius: 50%;\n",
              "      cursor: pointer;\n",
              "      display: none;\n",
              "      fill: #1967D2;\n",
              "      height: 32px;\n",
              "      padding: 0 0 0 0;\n",
              "      width: 32px;\n",
              "    }\n",
              "\n",
              "    .colab-df-convert:hover {\n",
              "      background-color: #E2EBFA;\n",
              "      box-shadow: 0px 1px 2px rgba(60, 64, 67, 0.3), 0px 1px 3px 1px rgba(60, 64, 67, 0.15);\n",
              "      fill: #174EA6;\n",
              "    }\n",
              "\n",
              "    .colab-df-buttons div {\n",
              "      margin-bottom: 4px;\n",
              "    }\n",
              "\n",
              "    [theme=dark] .colab-df-convert {\n",
              "      background-color: #3B4455;\n",
              "      fill: #D2E3FC;\n",
              "    }\n",
              "\n",
              "    [theme=dark] .colab-df-convert:hover {\n",
              "      background-color: #434B5C;\n",
              "      box-shadow: 0px 1px 3px 1px rgba(0, 0, 0, 0.15);\n",
              "      filter: drop-shadow(0px 1px 2px rgba(0, 0, 0, 0.3));\n",
              "      fill: #FFFFFF;\n",
              "    }\n",
              "  </style>\n",
              "\n",
              "    <script>\n",
              "      const buttonEl =\n",
              "        document.querySelector('#df-82834135-b947-40a1-83ea-0e8d0c9c7117 button.colab-df-convert');\n",
              "      buttonEl.style.display =\n",
              "        google.colab.kernel.accessAllowed ? 'block' : 'none';\n",
              "\n",
              "      async function convertToInteractive(key) {\n",
              "        const element = document.querySelector('#df-82834135-b947-40a1-83ea-0e8d0c9c7117');\n",
              "        const dataTable =\n",
              "          await google.colab.kernel.invokeFunction('convertToInteractive',\n",
              "                                                    [key], {});\n",
              "        if (!dataTable) return;\n",
              "\n",
              "        const docLinkHtml = 'Like what you see? Visit the ' +\n",
              "          '<a target=\"_blank\" href=https://colab.research.google.com/notebooks/data_table.ipynb>data table notebook</a>'\n",
              "          + ' to learn more about interactive tables.';\n",
              "        element.innerHTML = '';\n",
              "        dataTable['output_type'] = 'display_data';\n",
              "        await google.colab.output.renderOutput(dataTable, element);\n",
              "        const docLink = document.createElement('div');\n",
              "        docLink.innerHTML = docLinkHtml;\n",
              "        element.appendChild(docLink);\n",
              "      }\n",
              "    </script>\n",
              "  </div>\n",
              "\n",
              "\n",
              "<div id=\"df-7dbae274-f126-4aa4-ae68-45081e98c62d\">\n",
              "  <button class=\"colab-df-quickchart\" onclick=\"quickchart('df-7dbae274-f126-4aa4-ae68-45081e98c62d')\"\n",
              "            title=\"Suggest charts.\"\n",
              "            style=\"display:none;\">\n",
              "\n",
              "<svg xmlns=\"http://www.w3.org/2000/svg\" height=\"24px\"viewBox=\"0 0 24 24\"\n",
              "     width=\"24px\">\n",
              "    <g>\n",
              "        <path d=\"M19 3H5c-1.1 0-2 .9-2 2v14c0 1.1.9 2 2 2h14c1.1 0 2-.9 2-2V5c0-1.1-.9-2-2-2zM9 17H7v-7h2v7zm4 0h-2V7h2v10zm4 0h-2v-4h2v4z\"/>\n",
              "    </g>\n",
              "</svg>\n",
              "  </button>\n",
              "\n",
              "<style>\n",
              "  .colab-df-quickchart {\n",
              "      --bg-color: #E8F0FE;\n",
              "      --fill-color: #1967D2;\n",
              "      --hover-bg-color: #E2EBFA;\n",
              "      --hover-fill-color: #174EA6;\n",
              "      --disabled-fill-color: #AAA;\n",
              "      --disabled-bg-color: #DDD;\n",
              "  }\n",
              "\n",
              "  [theme=dark] .colab-df-quickchart {\n",
              "      --bg-color: #3B4455;\n",
              "      --fill-color: #D2E3FC;\n",
              "      --hover-bg-color: #434B5C;\n",
              "      --hover-fill-color: #FFFFFF;\n",
              "      --disabled-bg-color: #3B4455;\n",
              "      --disabled-fill-color: #666;\n",
              "  }\n",
              "\n",
              "  .colab-df-quickchart {\n",
              "    background-color: var(--bg-color);\n",
              "    border: none;\n",
              "    border-radius: 50%;\n",
              "    cursor: pointer;\n",
              "    display: none;\n",
              "    fill: var(--fill-color);\n",
              "    height: 32px;\n",
              "    padding: 0;\n",
              "    width: 32px;\n",
              "  }\n",
              "\n",
              "  .colab-df-quickchart:hover {\n",
              "    background-color: var(--hover-bg-color);\n",
              "    box-shadow: 0 1px 2px rgba(60, 64, 67, 0.3), 0 1px 3px 1px rgba(60, 64, 67, 0.15);\n",
              "    fill: var(--button-hover-fill-color);\n",
              "  }\n",
              "\n",
              "  .colab-df-quickchart-complete:disabled,\n",
              "  .colab-df-quickchart-complete:disabled:hover {\n",
              "    background-color: var(--disabled-bg-color);\n",
              "    fill: var(--disabled-fill-color);\n",
              "    box-shadow: none;\n",
              "  }\n",
              "\n",
              "  .colab-df-spinner {\n",
              "    border: 2px solid var(--fill-color);\n",
              "    border-color: transparent;\n",
              "    border-bottom-color: var(--fill-color);\n",
              "    animation:\n",
              "      spin 1s steps(1) infinite;\n",
              "  }\n",
              "\n",
              "  @keyframes spin {\n",
              "    0% {\n",
              "      border-color: transparent;\n",
              "      border-bottom-color: var(--fill-color);\n",
              "      border-left-color: var(--fill-color);\n",
              "    }\n",
              "    20% {\n",
              "      border-color: transparent;\n",
              "      border-left-color: var(--fill-color);\n",
              "      border-top-color: var(--fill-color);\n",
              "    }\n",
              "    30% {\n",
              "      border-color: transparent;\n",
              "      border-left-color: var(--fill-color);\n",
              "      border-top-color: var(--fill-color);\n",
              "      border-right-color: var(--fill-color);\n",
              "    }\n",
              "    40% {\n",
              "      border-color: transparent;\n",
              "      border-right-color: var(--fill-color);\n",
              "      border-top-color: var(--fill-color);\n",
              "    }\n",
              "    60% {\n",
              "      border-color: transparent;\n",
              "      border-right-color: var(--fill-color);\n",
              "    }\n",
              "    80% {\n",
              "      border-color: transparent;\n",
              "      border-right-color: var(--fill-color);\n",
              "      border-bottom-color: var(--fill-color);\n",
              "    }\n",
              "    90% {\n",
              "      border-color: transparent;\n",
              "      border-bottom-color: var(--fill-color);\n",
              "    }\n",
              "  }\n",
              "</style>\n",
              "\n",
              "  <script>\n",
              "    async function quickchart(key) {\n",
              "      const quickchartButtonEl =\n",
              "        document.querySelector('#' + key + ' button');\n",
              "      quickchartButtonEl.disabled = true;  // To prevent multiple clicks.\n",
              "      quickchartButtonEl.classList.add('colab-df-spinner');\n",
              "      try {\n",
              "        const charts = await google.colab.kernel.invokeFunction(\n",
              "            'suggestCharts', [key], {});\n",
              "      } catch (error) {\n",
              "        console.error('Error during call to suggestCharts:', error);\n",
              "      }\n",
              "      quickchartButtonEl.classList.remove('colab-df-spinner');\n",
              "      quickchartButtonEl.classList.add('colab-df-quickchart-complete');\n",
              "    }\n",
              "    (() => {\n",
              "      let quickchartButtonEl =\n",
              "        document.querySelector('#df-7dbae274-f126-4aa4-ae68-45081e98c62d button');\n",
              "      quickchartButtonEl.style.display =\n",
              "        google.colab.kernel.accessAllowed ? 'block' : 'none';\n",
              "    })();\n",
              "  </script>\n",
              "</div>\n",
              "    </div>\n",
              "  </div>\n"
            ]
          },
          "metadata": {},
          "execution_count": 89
        }
      ]
    },
    {
      "cell_type": "markdown",
      "metadata": {
        "id": "iKCMSjtFDLvr"
      },
      "source": [
        "* Não vou adicionar a coluna gasto mensal porque está altamente correlacionada com gasto diário. Vou manter o gasto diário.\n",
        "### 2 Enconde dos dados"
      ]
    },
    {
      "cell_type": "code",
      "execution_count": null,
      "metadata": {
        "colab": {
          "base_uri": "https://localhost:8080/"
        },
        "id": "XdRKkFOEDatG",
        "outputId": "1bf1d606-ebc7-43e4-f60a-c8050d81b74f"
      },
      "outputs": [
        {
          "output_type": "execute_result",
          "data": {
            "text/plain": [
              "Index(['IDcliente', 'Evadiu', 'Genero', 'Idoso', 'Parceiro', 'Dependencia',\n",
              "       'Meses_de_contrato', 'Servico_celular', 'linhas_multiplas',\n",
              "       'Tipo_contrato', 'Fatura_online', 'Metodo_pagamento', 'Gasto_mensal',\n",
              "       'Gasto_total', 'Servico_internet', 'Seguranca_online', 'Backup_online',\n",
              "       'Protecao_de_aparelho', 'Suporte_tecnico', 'Assinatura_tv',\n",
              "       'Assinatura_filme', 'Gasto_diario'],\n",
              "      dtype='object')"
            ]
          },
          "metadata": {},
          "execution_count": 90
        }
      ],
      "source": [
        "dados.columns"
      ]
    },
    {
      "cell_type": "code",
      "execution_count": null,
      "metadata": {
        "colab": {
          "base_uri": "https://localhost:8080/",
          "height": 149
        },
        "id": "ECosJTA_DBrf",
        "outputId": "d11c4c2b-feee-4664-d3c3-b2f871cefb83"
      },
      "outputs": [
        {
          "output_type": "execute_result",
          "data": {
            "text/plain": [
              "   Metodo_pagamento_Cartao Credito (automatico)  \\\n",
              "0                                             0   \n",
              "1                                             0   \n",
              "\n",
              "   Metodo_pagamento_Cheque Eletronico  Metodo_pagamento_Cheque por Email  \\\n",
              "0                                   0                                  1   \n",
              "1                                   0                                  1   \n",
              "\n",
              "   Metodo_pagamento_Transferencia Bancaria (automatico)  Tipo_contrato_Anual  \\\n",
              "0                                                  0                       1   \n",
              "1                                                  0                       0   \n",
              "\n",
              "   Tipo_contrato_Bianual  Tipo_contrato_Mes a Mes  Servico_internet_DSL  \\\n",
              "0                      0                        0                     1   \n",
              "1                      0                        1                     1   \n",
              "\n",
              "   Servico_internet_Fibra optica  Servico_internet_Nao  \n",
              "0                              0                     0  \n",
              "1                              0                     0  "
            ],
            "text/html": [
              "\n",
              "  <div id=\"df-86967260-302f-43ae-9267-387895dfbdc2\" class=\"colab-df-container\">\n",
              "    <div>\n",
              "<style scoped>\n",
              "    .dataframe tbody tr th:only-of-type {\n",
              "        vertical-align: middle;\n",
              "    }\n",
              "\n",
              "    .dataframe tbody tr th {\n",
              "        vertical-align: top;\n",
              "    }\n",
              "\n",
              "    .dataframe thead th {\n",
              "        text-align: right;\n",
              "    }\n",
              "</style>\n",
              "<table border=\"1\" class=\"dataframe\">\n",
              "  <thead>\n",
              "    <tr style=\"text-align: right;\">\n",
              "      <th></th>\n",
              "      <th>Metodo_pagamento_Cartao Credito (automatico)</th>\n",
              "      <th>Metodo_pagamento_Cheque Eletronico</th>\n",
              "      <th>Metodo_pagamento_Cheque por Email</th>\n",
              "      <th>Metodo_pagamento_Transferencia Bancaria (automatico)</th>\n",
              "      <th>Tipo_contrato_Anual</th>\n",
              "      <th>Tipo_contrato_Bianual</th>\n",
              "      <th>Tipo_contrato_Mes a Mes</th>\n",
              "      <th>Servico_internet_DSL</th>\n",
              "      <th>Servico_internet_Fibra optica</th>\n",
              "      <th>Servico_internet_Nao</th>\n",
              "    </tr>\n",
              "  </thead>\n",
              "  <tbody>\n",
              "    <tr>\n",
              "      <th>0</th>\n",
              "      <td>0</td>\n",
              "      <td>0</td>\n",
              "      <td>1</td>\n",
              "      <td>0</td>\n",
              "      <td>1</td>\n",
              "      <td>0</td>\n",
              "      <td>0</td>\n",
              "      <td>1</td>\n",
              "      <td>0</td>\n",
              "      <td>0</td>\n",
              "    </tr>\n",
              "    <tr>\n",
              "      <th>1</th>\n",
              "      <td>0</td>\n",
              "      <td>0</td>\n",
              "      <td>1</td>\n",
              "      <td>0</td>\n",
              "      <td>0</td>\n",
              "      <td>0</td>\n",
              "      <td>1</td>\n",
              "      <td>1</td>\n",
              "      <td>0</td>\n",
              "      <td>0</td>\n",
              "    </tr>\n",
              "  </tbody>\n",
              "</table>\n",
              "</div>\n",
              "    <div class=\"colab-df-buttons\">\n",
              "\n",
              "  <div class=\"colab-df-container\">\n",
              "    <button class=\"colab-df-convert\" onclick=\"convertToInteractive('df-86967260-302f-43ae-9267-387895dfbdc2')\"\n",
              "            title=\"Convert this dataframe to an interactive table.\"\n",
              "            style=\"display:none;\">\n",
              "\n",
              "  <svg xmlns=\"http://www.w3.org/2000/svg\" height=\"24px\" viewBox=\"0 -960 960 960\">\n",
              "    <path d=\"M120-120v-720h720v720H120Zm60-500h600v-160H180v160Zm220 220h160v-160H400v160Zm0 220h160v-160H400v160ZM180-400h160v-160H180v160Zm440 0h160v-160H620v160ZM180-180h160v-160H180v160Zm440 0h160v-160H620v160Z\"/>\n",
              "  </svg>\n",
              "    </button>\n",
              "\n",
              "  <style>\n",
              "    .colab-df-container {\n",
              "      display:flex;\n",
              "      gap: 12px;\n",
              "    }\n",
              "\n",
              "    .colab-df-convert {\n",
              "      background-color: #E8F0FE;\n",
              "      border: none;\n",
              "      border-radius: 50%;\n",
              "      cursor: pointer;\n",
              "      display: none;\n",
              "      fill: #1967D2;\n",
              "      height: 32px;\n",
              "      padding: 0 0 0 0;\n",
              "      width: 32px;\n",
              "    }\n",
              "\n",
              "    .colab-df-convert:hover {\n",
              "      background-color: #E2EBFA;\n",
              "      box-shadow: 0px 1px 2px rgba(60, 64, 67, 0.3), 0px 1px 3px 1px rgba(60, 64, 67, 0.15);\n",
              "      fill: #174EA6;\n",
              "    }\n",
              "\n",
              "    .colab-df-buttons div {\n",
              "      margin-bottom: 4px;\n",
              "    }\n",
              "\n",
              "    [theme=dark] .colab-df-convert {\n",
              "      background-color: #3B4455;\n",
              "      fill: #D2E3FC;\n",
              "    }\n",
              "\n",
              "    [theme=dark] .colab-df-convert:hover {\n",
              "      background-color: #434B5C;\n",
              "      box-shadow: 0px 1px 3px 1px rgba(0, 0, 0, 0.15);\n",
              "      filter: drop-shadow(0px 1px 2px rgba(0, 0, 0, 0.3));\n",
              "      fill: #FFFFFF;\n",
              "    }\n",
              "  </style>\n",
              "\n",
              "    <script>\n",
              "      const buttonEl =\n",
              "        document.querySelector('#df-86967260-302f-43ae-9267-387895dfbdc2 button.colab-df-convert');\n",
              "      buttonEl.style.display =\n",
              "        google.colab.kernel.accessAllowed ? 'block' : 'none';\n",
              "\n",
              "      async function convertToInteractive(key) {\n",
              "        const element = document.querySelector('#df-86967260-302f-43ae-9267-387895dfbdc2');\n",
              "        const dataTable =\n",
              "          await google.colab.kernel.invokeFunction('convertToInteractive',\n",
              "                                                    [key], {});\n",
              "        if (!dataTable) return;\n",
              "\n",
              "        const docLinkHtml = 'Like what you see? Visit the ' +\n",
              "          '<a target=\"_blank\" href=https://colab.research.google.com/notebooks/data_table.ipynb>data table notebook</a>'\n",
              "          + ' to learn more about interactive tables.';\n",
              "        element.innerHTML = '';\n",
              "        dataTable['output_type'] = 'display_data';\n",
              "        await google.colab.output.renderOutput(dataTable, element);\n",
              "        const docLink = document.createElement('div');\n",
              "        docLink.innerHTML = docLinkHtml;\n",
              "        element.appendChild(docLink);\n",
              "      }\n",
              "    </script>\n",
              "  </div>\n",
              "\n",
              "\n",
              "<div id=\"df-515c5244-f42a-4ec7-be1e-9b9ba2aa4de5\">\n",
              "  <button class=\"colab-df-quickchart\" onclick=\"quickchart('df-515c5244-f42a-4ec7-be1e-9b9ba2aa4de5')\"\n",
              "            title=\"Suggest charts.\"\n",
              "            style=\"display:none;\">\n",
              "\n",
              "<svg xmlns=\"http://www.w3.org/2000/svg\" height=\"24px\"viewBox=\"0 0 24 24\"\n",
              "     width=\"24px\">\n",
              "    <g>\n",
              "        <path d=\"M19 3H5c-1.1 0-2 .9-2 2v14c0 1.1.9 2 2 2h14c1.1 0 2-.9 2-2V5c0-1.1-.9-2-2-2zM9 17H7v-7h2v7zm4 0h-2V7h2v10zm4 0h-2v-4h2v4z\"/>\n",
              "    </g>\n",
              "</svg>\n",
              "  </button>\n",
              "\n",
              "<style>\n",
              "  .colab-df-quickchart {\n",
              "      --bg-color: #E8F0FE;\n",
              "      --fill-color: #1967D2;\n",
              "      --hover-bg-color: #E2EBFA;\n",
              "      --hover-fill-color: #174EA6;\n",
              "      --disabled-fill-color: #AAA;\n",
              "      --disabled-bg-color: #DDD;\n",
              "  }\n",
              "\n",
              "  [theme=dark] .colab-df-quickchart {\n",
              "      --bg-color: #3B4455;\n",
              "      --fill-color: #D2E3FC;\n",
              "      --hover-bg-color: #434B5C;\n",
              "      --hover-fill-color: #FFFFFF;\n",
              "      --disabled-bg-color: #3B4455;\n",
              "      --disabled-fill-color: #666;\n",
              "  }\n",
              "\n",
              "  .colab-df-quickchart {\n",
              "    background-color: var(--bg-color);\n",
              "    border: none;\n",
              "    border-radius: 50%;\n",
              "    cursor: pointer;\n",
              "    display: none;\n",
              "    fill: var(--fill-color);\n",
              "    height: 32px;\n",
              "    padding: 0;\n",
              "    width: 32px;\n",
              "  }\n",
              "\n",
              "  .colab-df-quickchart:hover {\n",
              "    background-color: var(--hover-bg-color);\n",
              "    box-shadow: 0 1px 2px rgba(60, 64, 67, 0.3), 0 1px 3px 1px rgba(60, 64, 67, 0.15);\n",
              "    fill: var(--button-hover-fill-color);\n",
              "  }\n",
              "\n",
              "  .colab-df-quickchart-complete:disabled,\n",
              "  .colab-df-quickchart-complete:disabled:hover {\n",
              "    background-color: var(--disabled-bg-color);\n",
              "    fill: var(--disabled-fill-color);\n",
              "    box-shadow: none;\n",
              "  }\n",
              "\n",
              "  .colab-df-spinner {\n",
              "    border: 2px solid var(--fill-color);\n",
              "    border-color: transparent;\n",
              "    border-bottom-color: var(--fill-color);\n",
              "    animation:\n",
              "      spin 1s steps(1) infinite;\n",
              "  }\n",
              "\n",
              "  @keyframes spin {\n",
              "    0% {\n",
              "      border-color: transparent;\n",
              "      border-bottom-color: var(--fill-color);\n",
              "      border-left-color: var(--fill-color);\n",
              "    }\n",
              "    20% {\n",
              "      border-color: transparent;\n",
              "      border-left-color: var(--fill-color);\n",
              "      border-top-color: var(--fill-color);\n",
              "    }\n",
              "    30% {\n",
              "      border-color: transparent;\n",
              "      border-left-color: var(--fill-color);\n",
              "      border-top-color: var(--fill-color);\n",
              "      border-right-color: var(--fill-color);\n",
              "    }\n",
              "    40% {\n",
              "      border-color: transparent;\n",
              "      border-right-color: var(--fill-color);\n",
              "      border-top-color: var(--fill-color);\n",
              "    }\n",
              "    60% {\n",
              "      border-color: transparent;\n",
              "      border-right-color: var(--fill-color);\n",
              "    }\n",
              "    80% {\n",
              "      border-color: transparent;\n",
              "      border-right-color: var(--fill-color);\n",
              "      border-bottom-color: var(--fill-color);\n",
              "    }\n",
              "    90% {\n",
              "      border-color: transparent;\n",
              "      border-bottom-color: var(--fill-color);\n",
              "    }\n",
              "  }\n",
              "</style>\n",
              "\n",
              "  <script>\n",
              "    async function quickchart(key) {\n",
              "      const quickchartButtonEl =\n",
              "        document.querySelector('#' + key + ' button');\n",
              "      quickchartButtonEl.disabled = true;  // To prevent multiple clicks.\n",
              "      quickchartButtonEl.classList.add('colab-df-spinner');\n",
              "      try {\n",
              "        const charts = await google.colab.kernel.invokeFunction(\n",
              "            'suggestCharts', [key], {});\n",
              "      } catch (error) {\n",
              "        console.error('Error during call to suggestCharts:', error);\n",
              "      }\n",
              "      quickchartButtonEl.classList.remove('colab-df-spinner');\n",
              "      quickchartButtonEl.classList.add('colab-df-quickchart-complete');\n",
              "    }\n",
              "    (() => {\n",
              "      let quickchartButtonEl =\n",
              "        document.querySelector('#df-515c5244-f42a-4ec7-be1e-9b9ba2aa4de5 button');\n",
              "      quickchartButtonEl.style.display =\n",
              "        google.colab.kernel.accessAllowed ? 'block' : 'none';\n",
              "    })();\n",
              "  </script>\n",
              "</div>\n",
              "    </div>\n",
              "  </div>\n"
            ]
          },
          "metadata": {},
          "execution_count": 91
        }
      ],
      "source": [
        "dados_encode_cat = pd.get_dummies(dados[colunas])\n",
        "dados_encode_cat.head(2)"
      ]
    },
    {
      "cell_type": "code",
      "execution_count": null,
      "metadata": {
        "colab": {
          "base_uri": "https://localhost:8080/",
          "height": 273
        },
        "id": "j2HU66hSDulG",
        "outputId": "d74d969d-3a17-4783-cc64-a2b03c4dba36"
      },
      "outputs": [
        {
          "output_type": "execute_result",
          "data": {
            "text/plain": [
              "   Metodo_pagamento_Cartao Credito (automatico)  \\\n",
              "0                                             0   \n",
              "1                                             0   \n",
              "2                                             0   \n",
              "3                                             0   \n",
              "4                                             0   \n",
              "\n",
              "   Metodo_pagamento_Cheque Eletronico  Metodo_pagamento_Cheque por Email  \\\n",
              "0                                   0                                  1   \n",
              "1                                   0                                  1   \n",
              "2                                   1                                  0   \n",
              "3                                   1                                  0   \n",
              "4                                   0                                  1   \n",
              "\n",
              "   Metodo_pagamento_Transferencia Bancaria (automatico)  Tipo_contrato_Anual  \\\n",
              "0                                                  0                       1   \n",
              "1                                                  0                       0   \n",
              "2                                                  0                       0   \n",
              "3                                                  0                       0   \n",
              "4                                                  0                       0   \n",
              "\n",
              "   Tipo_contrato_Bianual  Tipo_contrato_Mes a Mes  Servico_internet_DSL  \\\n",
              "0                      0                        0                     1   \n",
              "1                      0                        1                     1   \n",
              "2                      0                        1                     0   \n",
              "3                      0                        1                     0   \n",
              "4                      0                        1                     0   \n",
              "\n",
              "   Servico_internet_Fibra optica  Servico_internet_Nao  ... Fatura_online  \\\n",
              "0                              0                     0  ...             1   \n",
              "1                              0                     0  ...             0   \n",
              "2                              1                     0  ...             1   \n",
              "3                              1                     0  ...             1   \n",
              "4                              1                     0  ...             1   \n",
              "\n",
              "   Gasto_mensal  Gasto_total  Seguranca_online  Backup_online  \\\n",
              "0          65.6       593.30                 0              1   \n",
              "1          59.9       542.40                 0              0   \n",
              "2          73.9       280.85                 0              0   \n",
              "3          98.0      1237.85                 0              1   \n",
              "4          83.9       267.40                 0              0   \n",
              "\n",
              "   Protecao_de_aparelho  Suporte_tecnico  Assinatura_tv  Assinatura_filme  \\\n",
              "0                     0                1              1                 0   \n",
              "1                     0                0              0                 1   \n",
              "2                     1                0              0                 0   \n",
              "3                     1                0              1                 1   \n",
              "4                     0                1              1                 0   \n",
              "\n",
              "   Gasto_diario  \n",
              "0      2.186667  \n",
              "1      1.996667  \n",
              "2      2.463333  \n",
              "3      3.266667  \n",
              "4      2.796667  \n",
              "\n",
              "[5 rows x 29 columns]"
            ],
            "text/html": [
              "\n",
              "  <div id=\"df-c65dc71d-acbd-4c92-9771-f56f296ea5de\" class=\"colab-df-container\">\n",
              "    <div>\n",
              "<style scoped>\n",
              "    .dataframe tbody tr th:only-of-type {\n",
              "        vertical-align: middle;\n",
              "    }\n",
              "\n",
              "    .dataframe tbody tr th {\n",
              "        vertical-align: top;\n",
              "    }\n",
              "\n",
              "    .dataframe thead th {\n",
              "        text-align: right;\n",
              "    }\n",
              "</style>\n",
              "<table border=\"1\" class=\"dataframe\">\n",
              "  <thead>\n",
              "    <tr style=\"text-align: right;\">\n",
              "      <th></th>\n",
              "      <th>Metodo_pagamento_Cartao Credito (automatico)</th>\n",
              "      <th>Metodo_pagamento_Cheque Eletronico</th>\n",
              "      <th>Metodo_pagamento_Cheque por Email</th>\n",
              "      <th>Metodo_pagamento_Transferencia Bancaria (automatico)</th>\n",
              "      <th>Tipo_contrato_Anual</th>\n",
              "      <th>Tipo_contrato_Bianual</th>\n",
              "      <th>Tipo_contrato_Mes a Mes</th>\n",
              "      <th>Servico_internet_DSL</th>\n",
              "      <th>Servico_internet_Fibra optica</th>\n",
              "      <th>Servico_internet_Nao</th>\n",
              "      <th>...</th>\n",
              "      <th>Fatura_online</th>\n",
              "      <th>Gasto_mensal</th>\n",
              "      <th>Gasto_total</th>\n",
              "      <th>Seguranca_online</th>\n",
              "      <th>Backup_online</th>\n",
              "      <th>Protecao_de_aparelho</th>\n",
              "      <th>Suporte_tecnico</th>\n",
              "      <th>Assinatura_tv</th>\n",
              "      <th>Assinatura_filme</th>\n",
              "      <th>Gasto_diario</th>\n",
              "    </tr>\n",
              "  </thead>\n",
              "  <tbody>\n",
              "    <tr>\n",
              "      <th>0</th>\n",
              "      <td>0</td>\n",
              "      <td>0</td>\n",
              "      <td>1</td>\n",
              "      <td>0</td>\n",
              "      <td>1</td>\n",
              "      <td>0</td>\n",
              "      <td>0</td>\n",
              "      <td>1</td>\n",
              "      <td>0</td>\n",
              "      <td>0</td>\n",
              "      <td>...</td>\n",
              "      <td>1</td>\n",
              "      <td>65.6</td>\n",
              "      <td>593.30</td>\n",
              "      <td>0</td>\n",
              "      <td>1</td>\n",
              "      <td>0</td>\n",
              "      <td>1</td>\n",
              "      <td>1</td>\n",
              "      <td>0</td>\n",
              "      <td>2.186667</td>\n",
              "    </tr>\n",
              "    <tr>\n",
              "      <th>1</th>\n",
              "      <td>0</td>\n",
              "      <td>0</td>\n",
              "      <td>1</td>\n",
              "      <td>0</td>\n",
              "      <td>0</td>\n",
              "      <td>0</td>\n",
              "      <td>1</td>\n",
              "      <td>1</td>\n",
              "      <td>0</td>\n",
              "      <td>0</td>\n",
              "      <td>...</td>\n",
              "      <td>0</td>\n",
              "      <td>59.9</td>\n",
              "      <td>542.40</td>\n",
              "      <td>0</td>\n",
              "      <td>0</td>\n",
              "      <td>0</td>\n",
              "      <td>0</td>\n",
              "      <td>0</td>\n",
              "      <td>1</td>\n",
              "      <td>1.996667</td>\n",
              "    </tr>\n",
              "    <tr>\n",
              "      <th>2</th>\n",
              "      <td>0</td>\n",
              "      <td>1</td>\n",
              "      <td>0</td>\n",
              "      <td>0</td>\n",
              "      <td>0</td>\n",
              "      <td>0</td>\n",
              "      <td>1</td>\n",
              "      <td>0</td>\n",
              "      <td>1</td>\n",
              "      <td>0</td>\n",
              "      <td>...</td>\n",
              "      <td>1</td>\n",
              "      <td>73.9</td>\n",
              "      <td>280.85</td>\n",
              "      <td>0</td>\n",
              "      <td>0</td>\n",
              "      <td>1</td>\n",
              "      <td>0</td>\n",
              "      <td>0</td>\n",
              "      <td>0</td>\n",
              "      <td>2.463333</td>\n",
              "    </tr>\n",
              "    <tr>\n",
              "      <th>3</th>\n",
              "      <td>0</td>\n",
              "      <td>1</td>\n",
              "      <td>0</td>\n",
              "      <td>0</td>\n",
              "      <td>0</td>\n",
              "      <td>0</td>\n",
              "      <td>1</td>\n",
              "      <td>0</td>\n",
              "      <td>1</td>\n",
              "      <td>0</td>\n",
              "      <td>...</td>\n",
              "      <td>1</td>\n",
              "      <td>98.0</td>\n",
              "      <td>1237.85</td>\n",
              "      <td>0</td>\n",
              "      <td>1</td>\n",
              "      <td>1</td>\n",
              "      <td>0</td>\n",
              "      <td>1</td>\n",
              "      <td>1</td>\n",
              "      <td>3.266667</td>\n",
              "    </tr>\n",
              "    <tr>\n",
              "      <th>4</th>\n",
              "      <td>0</td>\n",
              "      <td>0</td>\n",
              "      <td>1</td>\n",
              "      <td>0</td>\n",
              "      <td>0</td>\n",
              "      <td>0</td>\n",
              "      <td>1</td>\n",
              "      <td>0</td>\n",
              "      <td>1</td>\n",
              "      <td>0</td>\n",
              "      <td>...</td>\n",
              "      <td>1</td>\n",
              "      <td>83.9</td>\n",
              "      <td>267.40</td>\n",
              "      <td>0</td>\n",
              "      <td>0</td>\n",
              "      <td>0</td>\n",
              "      <td>1</td>\n",
              "      <td>1</td>\n",
              "      <td>0</td>\n",
              "      <td>2.796667</td>\n",
              "    </tr>\n",
              "  </tbody>\n",
              "</table>\n",
              "<p>5 rows × 29 columns</p>\n",
              "</div>\n",
              "    <div class=\"colab-df-buttons\">\n",
              "\n",
              "  <div class=\"colab-df-container\">\n",
              "    <button class=\"colab-df-convert\" onclick=\"convertToInteractive('df-c65dc71d-acbd-4c92-9771-f56f296ea5de')\"\n",
              "            title=\"Convert this dataframe to an interactive table.\"\n",
              "            style=\"display:none;\">\n",
              "\n",
              "  <svg xmlns=\"http://www.w3.org/2000/svg\" height=\"24px\" viewBox=\"0 -960 960 960\">\n",
              "    <path d=\"M120-120v-720h720v720H120Zm60-500h600v-160H180v160Zm220 220h160v-160H400v160Zm0 220h160v-160H400v160ZM180-400h160v-160H180v160Zm440 0h160v-160H620v160ZM180-180h160v-160H180v160Zm440 0h160v-160H620v160Z\"/>\n",
              "  </svg>\n",
              "    </button>\n",
              "\n",
              "  <style>\n",
              "    .colab-df-container {\n",
              "      display:flex;\n",
              "      gap: 12px;\n",
              "    }\n",
              "\n",
              "    .colab-df-convert {\n",
              "      background-color: #E8F0FE;\n",
              "      border: none;\n",
              "      border-radius: 50%;\n",
              "      cursor: pointer;\n",
              "      display: none;\n",
              "      fill: #1967D2;\n",
              "      height: 32px;\n",
              "      padding: 0 0 0 0;\n",
              "      width: 32px;\n",
              "    }\n",
              "\n",
              "    .colab-df-convert:hover {\n",
              "      background-color: #E2EBFA;\n",
              "      box-shadow: 0px 1px 2px rgba(60, 64, 67, 0.3), 0px 1px 3px 1px rgba(60, 64, 67, 0.15);\n",
              "      fill: #174EA6;\n",
              "    }\n",
              "\n",
              "    .colab-df-buttons div {\n",
              "      margin-bottom: 4px;\n",
              "    }\n",
              "\n",
              "    [theme=dark] .colab-df-convert {\n",
              "      background-color: #3B4455;\n",
              "      fill: #D2E3FC;\n",
              "    }\n",
              "\n",
              "    [theme=dark] .colab-df-convert:hover {\n",
              "      background-color: #434B5C;\n",
              "      box-shadow: 0px 1px 3px 1px rgba(0, 0, 0, 0.15);\n",
              "      filter: drop-shadow(0px 1px 2px rgba(0, 0, 0, 0.3));\n",
              "      fill: #FFFFFF;\n",
              "    }\n",
              "  </style>\n",
              "\n",
              "    <script>\n",
              "      const buttonEl =\n",
              "        document.querySelector('#df-c65dc71d-acbd-4c92-9771-f56f296ea5de button.colab-df-convert');\n",
              "      buttonEl.style.display =\n",
              "        google.colab.kernel.accessAllowed ? 'block' : 'none';\n",
              "\n",
              "      async function convertToInteractive(key) {\n",
              "        const element = document.querySelector('#df-c65dc71d-acbd-4c92-9771-f56f296ea5de');\n",
              "        const dataTable =\n",
              "          await google.colab.kernel.invokeFunction('convertToInteractive',\n",
              "                                                    [key], {});\n",
              "        if (!dataTable) return;\n",
              "\n",
              "        const docLinkHtml = 'Like what you see? Visit the ' +\n",
              "          '<a target=\"_blank\" href=https://colab.research.google.com/notebooks/data_table.ipynb>data table notebook</a>'\n",
              "          + ' to learn more about interactive tables.';\n",
              "        element.innerHTML = '';\n",
              "        dataTable['output_type'] = 'display_data';\n",
              "        await google.colab.output.renderOutput(dataTable, element);\n",
              "        const docLink = document.createElement('div');\n",
              "        docLink.innerHTML = docLinkHtml;\n",
              "        element.appendChild(docLink);\n",
              "      }\n",
              "    </script>\n",
              "  </div>\n",
              "\n",
              "\n",
              "<div id=\"df-61b74bad-f4ac-4786-ae20-4d2d07a21c5d\">\n",
              "  <button class=\"colab-df-quickchart\" onclick=\"quickchart('df-61b74bad-f4ac-4786-ae20-4d2d07a21c5d')\"\n",
              "            title=\"Suggest charts.\"\n",
              "            style=\"display:none;\">\n",
              "\n",
              "<svg xmlns=\"http://www.w3.org/2000/svg\" height=\"24px\"viewBox=\"0 0 24 24\"\n",
              "     width=\"24px\">\n",
              "    <g>\n",
              "        <path d=\"M19 3H5c-1.1 0-2 .9-2 2v14c0 1.1.9 2 2 2h14c1.1 0 2-.9 2-2V5c0-1.1-.9-2-2-2zM9 17H7v-7h2v7zm4 0h-2V7h2v10zm4 0h-2v-4h2v4z\"/>\n",
              "    </g>\n",
              "</svg>\n",
              "  </button>\n",
              "\n",
              "<style>\n",
              "  .colab-df-quickchart {\n",
              "      --bg-color: #E8F0FE;\n",
              "      --fill-color: #1967D2;\n",
              "      --hover-bg-color: #E2EBFA;\n",
              "      --hover-fill-color: #174EA6;\n",
              "      --disabled-fill-color: #AAA;\n",
              "      --disabled-bg-color: #DDD;\n",
              "  }\n",
              "\n",
              "  [theme=dark] .colab-df-quickchart {\n",
              "      --bg-color: #3B4455;\n",
              "      --fill-color: #D2E3FC;\n",
              "      --hover-bg-color: #434B5C;\n",
              "      --hover-fill-color: #FFFFFF;\n",
              "      --disabled-bg-color: #3B4455;\n",
              "      --disabled-fill-color: #666;\n",
              "  }\n",
              "\n",
              "  .colab-df-quickchart {\n",
              "    background-color: var(--bg-color);\n",
              "    border: none;\n",
              "    border-radius: 50%;\n",
              "    cursor: pointer;\n",
              "    display: none;\n",
              "    fill: var(--fill-color);\n",
              "    height: 32px;\n",
              "    padding: 0;\n",
              "    width: 32px;\n",
              "  }\n",
              "\n",
              "  .colab-df-quickchart:hover {\n",
              "    background-color: var(--hover-bg-color);\n",
              "    box-shadow: 0 1px 2px rgba(60, 64, 67, 0.3), 0 1px 3px 1px rgba(60, 64, 67, 0.15);\n",
              "    fill: var(--button-hover-fill-color);\n",
              "  }\n",
              "\n",
              "  .colab-df-quickchart-complete:disabled,\n",
              "  .colab-df-quickchart-complete:disabled:hover {\n",
              "    background-color: var(--disabled-bg-color);\n",
              "    fill: var(--disabled-fill-color);\n",
              "    box-shadow: none;\n",
              "  }\n",
              "\n",
              "  .colab-df-spinner {\n",
              "    border: 2px solid var(--fill-color);\n",
              "    border-color: transparent;\n",
              "    border-bottom-color: var(--fill-color);\n",
              "    animation:\n",
              "      spin 1s steps(1) infinite;\n",
              "  }\n",
              "\n",
              "  @keyframes spin {\n",
              "    0% {\n",
              "      border-color: transparent;\n",
              "      border-bottom-color: var(--fill-color);\n",
              "      border-left-color: var(--fill-color);\n",
              "    }\n",
              "    20% {\n",
              "      border-color: transparent;\n",
              "      border-left-color: var(--fill-color);\n",
              "      border-top-color: var(--fill-color);\n",
              "    }\n",
              "    30% {\n",
              "      border-color: transparent;\n",
              "      border-left-color: var(--fill-color);\n",
              "      border-top-color: var(--fill-color);\n",
              "      border-right-color: var(--fill-color);\n",
              "    }\n",
              "    40% {\n",
              "      border-color: transparent;\n",
              "      border-right-color: var(--fill-color);\n",
              "      border-top-color: var(--fill-color);\n",
              "    }\n",
              "    60% {\n",
              "      border-color: transparent;\n",
              "      border-right-color: var(--fill-color);\n",
              "    }\n",
              "    80% {\n",
              "      border-color: transparent;\n",
              "      border-right-color: var(--fill-color);\n",
              "      border-bottom-color: var(--fill-color);\n",
              "    }\n",
              "    90% {\n",
              "      border-color: transparent;\n",
              "      border-bottom-color: var(--fill-color);\n",
              "    }\n",
              "  }\n",
              "</style>\n",
              "\n",
              "  <script>\n",
              "    async function quickchart(key) {\n",
              "      const quickchartButtonEl =\n",
              "        document.querySelector('#' + key + ' button');\n",
              "      quickchartButtonEl.disabled = true;  // To prevent multiple clicks.\n",
              "      quickchartButtonEl.classList.add('colab-df-spinner');\n",
              "      try {\n",
              "        const charts = await google.colab.kernel.invokeFunction(\n",
              "            'suggestCharts', [key], {});\n",
              "      } catch (error) {\n",
              "        console.error('Error during call to suggestCharts:', error);\n",
              "      }\n",
              "      quickchartButtonEl.classList.remove('colab-df-spinner');\n",
              "      quickchartButtonEl.classList.add('colab-df-quickchart-complete');\n",
              "    }\n",
              "    (() => {\n",
              "      let quickchartButtonEl =\n",
              "        document.querySelector('#df-61b74bad-f4ac-4786-ae20-4d2d07a21c5d button');\n",
              "      quickchartButtonEl.style.display =\n",
              "        google.colab.kernel.accessAllowed ? 'block' : 'none';\n",
              "    })();\n",
              "  </script>\n",
              "</div>\n",
              "    </div>\n",
              "  </div>\n"
            ]
          },
          "metadata": {},
          "execution_count": 92
        }
      ],
      "source": [
        "dados_encode = pd.concat([dados_encode_cat, dados2], axis = 1)\n",
        "dados_encode.head()"
      ]
    },
    {
      "cell_type": "code",
      "source": [
        "dados_encode.columns"
      ],
      "metadata": {
        "colab": {
          "base_uri": "https://localhost:8080/"
        },
        "id": "POvzJG3ScESa",
        "outputId": "893fedbc-7eaf-49c2-9f1b-bcec6ab1d8bb"
      },
      "execution_count": null,
      "outputs": [
        {
          "output_type": "execute_result",
          "data": {
            "text/plain": [
              "Index(['Metodo_pagamento_Cartao Credito (automatico)',\n",
              "       'Metodo_pagamento_Cheque Eletronico',\n",
              "       'Metodo_pagamento_Cheque por Email',\n",
              "       'Metodo_pagamento_Transferencia Bancaria (automatico)',\n",
              "       'Tipo_contrato_Anual', 'Tipo_contrato_Bianual',\n",
              "       'Tipo_contrato_Mes a Mes', 'Servico_internet_DSL',\n",
              "       'Servico_internet_Fibra optica', 'Servico_internet_Nao', 'IDcliente',\n",
              "       'Evadiu', 'Genero', 'Idoso', 'Parceiro', 'Dependencia',\n",
              "       'Meses_de_contrato', 'Servico_celular', 'linhas_multiplas',\n",
              "       'Fatura_online', 'Gasto_mensal', 'Gasto_total', 'Seguranca_online',\n",
              "       'Backup_online', 'Protecao_de_aparelho', 'Suporte_tecnico',\n",
              "       'Assinatura_tv', 'Assinatura_filme', 'Gasto_diario'],\n",
              "      dtype='object')"
            ]
          },
          "metadata": {},
          "execution_count": 93
        }
      ]
    },
    {
      "cell_type": "code",
      "source": [
        "dados_encode = dados_encode.drop('IDcliente', axis = 1)\n",
        "dados_encode.columns"
      ],
      "metadata": {
        "colab": {
          "base_uri": "https://localhost:8080/"
        },
        "id": "nkwtu6ZrcJkX",
        "outputId": "103b0cf8-f4ab-4b9d-9dc1-7bd53960cc14"
      },
      "execution_count": null,
      "outputs": [
        {
          "output_type": "execute_result",
          "data": {
            "text/plain": [
              "Index(['Metodo_pagamento_Cartao Credito (automatico)',\n",
              "       'Metodo_pagamento_Cheque Eletronico',\n",
              "       'Metodo_pagamento_Cheque por Email',\n",
              "       'Metodo_pagamento_Transferencia Bancaria (automatico)',\n",
              "       'Tipo_contrato_Anual', 'Tipo_contrato_Bianual',\n",
              "       'Tipo_contrato_Mes a Mes', 'Servico_internet_DSL',\n",
              "       'Servico_internet_Fibra optica', 'Servico_internet_Nao', 'Evadiu',\n",
              "       'Genero', 'Idoso', 'Parceiro', 'Dependencia', 'Meses_de_contrato',\n",
              "       'Servico_celular', 'linhas_multiplas', 'Fatura_online', 'Gasto_mensal',\n",
              "       'Gasto_total', 'Seguranca_online', 'Backup_online',\n",
              "       'Protecao_de_aparelho', 'Suporte_tecnico', 'Assinatura_tv',\n",
              "       'Assinatura_filme', 'Gasto_diario'],\n",
              "      dtype='object')"
            ]
          },
          "metadata": {},
          "execution_count": 94
        }
      ]
    },
    {
      "cell_type": "markdown",
      "metadata": {
        "id": "AcBvGD0LExAM"
      },
      "source": [
        "### Balancear os dados\n",
        "1. Terei que adicionar a variável target.\n",
        "2. Escolher um método de balanceamente: Undersampling ou Oversampling"
      ]
    },
    {
      "cell_type": "code",
      "execution_count": null,
      "metadata": {
        "id": "yos-OpZsFCKr"
      },
      "outputs": [],
      "source": [
        "#2- Vou utilizar o Oversampler\n",
        "from imblearn.over_sampling import RandomOverSampler\n"
      ]
    },
    {
      "cell_type": "code",
      "execution_count": null,
      "metadata": {
        "colab": {
          "base_uri": "https://localhost:8080/",
          "height": 273
        },
        "id": "WvCRKjepFh7U",
        "outputId": "6c0a9fcf-2351-440f-cb4a-f078acad9fa4"
      },
      "outputs": [
        {
          "output_type": "execute_result",
          "data": {
            "text/plain": [
              "   Metodo_pagamento_Cartao Credito (automatico)  \\\n",
              "0                                             0   \n",
              "1                                             0   \n",
              "2                                             0   \n",
              "3                                             0   \n",
              "4                                             0   \n",
              "\n",
              "   Metodo_pagamento_Cheque Eletronico  Metodo_pagamento_Cheque por Email  \\\n",
              "0                                   0                                  1   \n",
              "1                                   0                                  1   \n",
              "2                                   1                                  0   \n",
              "3                                   1                                  0   \n",
              "4                                   0                                  1   \n",
              "\n",
              "   Metodo_pagamento_Transferencia Bancaria (automatico)  Tipo_contrato_Anual  \\\n",
              "0                                                  0                       1   \n",
              "1                                                  0                       0   \n",
              "2                                                  0                       0   \n",
              "3                                                  0                       0   \n",
              "4                                                  0                       0   \n",
              "\n",
              "   Tipo_contrato_Bianual  Tipo_contrato_Mes a Mes  Servico_internet_DSL  \\\n",
              "0                      0                        0                     1   \n",
              "1                      0                        1                     1   \n",
              "2                      0                        1                     0   \n",
              "3                      0                        1                     0   \n",
              "4                      0                        1                     0   \n",
              "\n",
              "   Servico_internet_Fibra optica  Servico_internet_Nao  ...  Fatura_online  \\\n",
              "0                              0                     0  ...              1   \n",
              "1                              0                     0  ...              0   \n",
              "2                              1                     0  ...              1   \n",
              "3                              1                     0  ...              1   \n",
              "4                              1                     0  ...              1   \n",
              "\n",
              "   Gasto_mensal  Gasto_total  Seguranca_online  Backup_online  \\\n",
              "0          65.6       593.30                 0              1   \n",
              "1          59.9       542.40                 0              0   \n",
              "2          73.9       280.85                 0              0   \n",
              "3          98.0      1237.85                 0              1   \n",
              "4          83.9       267.40                 0              0   \n",
              "\n",
              "   Protecao_de_aparelho  Suporte_tecnico  Assinatura_tv  Assinatura_filme  \\\n",
              "0                     0                1              1                 0   \n",
              "1                     0                0              0                 1   \n",
              "2                     1                0              0                 0   \n",
              "3                     1                0              1                 1   \n",
              "4                     0                1              1                 0   \n",
              "\n",
              "   Gasto_diario  \n",
              "0      2.186667  \n",
              "1      1.996667  \n",
              "2      2.463333  \n",
              "3      3.266667  \n",
              "4      2.796667  \n",
              "\n",
              "[5 rows x 27 columns]"
            ],
            "text/html": [
              "\n",
              "  <div id=\"df-88cc59ad-2780-4e24-a637-2ec16fe91016\" class=\"colab-df-container\">\n",
              "    <div>\n",
              "<style scoped>\n",
              "    .dataframe tbody tr th:only-of-type {\n",
              "        vertical-align: middle;\n",
              "    }\n",
              "\n",
              "    .dataframe tbody tr th {\n",
              "        vertical-align: top;\n",
              "    }\n",
              "\n",
              "    .dataframe thead th {\n",
              "        text-align: right;\n",
              "    }\n",
              "</style>\n",
              "<table border=\"1\" class=\"dataframe\">\n",
              "  <thead>\n",
              "    <tr style=\"text-align: right;\">\n",
              "      <th></th>\n",
              "      <th>Metodo_pagamento_Cartao Credito (automatico)</th>\n",
              "      <th>Metodo_pagamento_Cheque Eletronico</th>\n",
              "      <th>Metodo_pagamento_Cheque por Email</th>\n",
              "      <th>Metodo_pagamento_Transferencia Bancaria (automatico)</th>\n",
              "      <th>Tipo_contrato_Anual</th>\n",
              "      <th>Tipo_contrato_Bianual</th>\n",
              "      <th>Tipo_contrato_Mes a Mes</th>\n",
              "      <th>Servico_internet_DSL</th>\n",
              "      <th>Servico_internet_Fibra optica</th>\n",
              "      <th>Servico_internet_Nao</th>\n",
              "      <th>...</th>\n",
              "      <th>Fatura_online</th>\n",
              "      <th>Gasto_mensal</th>\n",
              "      <th>Gasto_total</th>\n",
              "      <th>Seguranca_online</th>\n",
              "      <th>Backup_online</th>\n",
              "      <th>Protecao_de_aparelho</th>\n",
              "      <th>Suporte_tecnico</th>\n",
              "      <th>Assinatura_tv</th>\n",
              "      <th>Assinatura_filme</th>\n",
              "      <th>Gasto_diario</th>\n",
              "    </tr>\n",
              "  </thead>\n",
              "  <tbody>\n",
              "    <tr>\n",
              "      <th>0</th>\n",
              "      <td>0</td>\n",
              "      <td>0</td>\n",
              "      <td>1</td>\n",
              "      <td>0</td>\n",
              "      <td>1</td>\n",
              "      <td>0</td>\n",
              "      <td>0</td>\n",
              "      <td>1</td>\n",
              "      <td>0</td>\n",
              "      <td>0</td>\n",
              "      <td>...</td>\n",
              "      <td>1</td>\n",
              "      <td>65.6</td>\n",
              "      <td>593.30</td>\n",
              "      <td>0</td>\n",
              "      <td>1</td>\n",
              "      <td>0</td>\n",
              "      <td>1</td>\n",
              "      <td>1</td>\n",
              "      <td>0</td>\n",
              "      <td>2.186667</td>\n",
              "    </tr>\n",
              "    <tr>\n",
              "      <th>1</th>\n",
              "      <td>0</td>\n",
              "      <td>0</td>\n",
              "      <td>1</td>\n",
              "      <td>0</td>\n",
              "      <td>0</td>\n",
              "      <td>0</td>\n",
              "      <td>1</td>\n",
              "      <td>1</td>\n",
              "      <td>0</td>\n",
              "      <td>0</td>\n",
              "      <td>...</td>\n",
              "      <td>0</td>\n",
              "      <td>59.9</td>\n",
              "      <td>542.40</td>\n",
              "      <td>0</td>\n",
              "      <td>0</td>\n",
              "      <td>0</td>\n",
              "      <td>0</td>\n",
              "      <td>0</td>\n",
              "      <td>1</td>\n",
              "      <td>1.996667</td>\n",
              "    </tr>\n",
              "    <tr>\n",
              "      <th>2</th>\n",
              "      <td>0</td>\n",
              "      <td>1</td>\n",
              "      <td>0</td>\n",
              "      <td>0</td>\n",
              "      <td>0</td>\n",
              "      <td>0</td>\n",
              "      <td>1</td>\n",
              "      <td>0</td>\n",
              "      <td>1</td>\n",
              "      <td>0</td>\n",
              "      <td>...</td>\n",
              "      <td>1</td>\n",
              "      <td>73.9</td>\n",
              "      <td>280.85</td>\n",
              "      <td>0</td>\n",
              "      <td>0</td>\n",
              "      <td>1</td>\n",
              "      <td>0</td>\n",
              "      <td>0</td>\n",
              "      <td>0</td>\n",
              "      <td>2.463333</td>\n",
              "    </tr>\n",
              "    <tr>\n",
              "      <th>3</th>\n",
              "      <td>0</td>\n",
              "      <td>1</td>\n",
              "      <td>0</td>\n",
              "      <td>0</td>\n",
              "      <td>0</td>\n",
              "      <td>0</td>\n",
              "      <td>1</td>\n",
              "      <td>0</td>\n",
              "      <td>1</td>\n",
              "      <td>0</td>\n",
              "      <td>...</td>\n",
              "      <td>1</td>\n",
              "      <td>98.0</td>\n",
              "      <td>1237.85</td>\n",
              "      <td>0</td>\n",
              "      <td>1</td>\n",
              "      <td>1</td>\n",
              "      <td>0</td>\n",
              "      <td>1</td>\n",
              "      <td>1</td>\n",
              "      <td>3.266667</td>\n",
              "    </tr>\n",
              "    <tr>\n",
              "      <th>4</th>\n",
              "      <td>0</td>\n",
              "      <td>0</td>\n",
              "      <td>1</td>\n",
              "      <td>0</td>\n",
              "      <td>0</td>\n",
              "      <td>0</td>\n",
              "      <td>1</td>\n",
              "      <td>0</td>\n",
              "      <td>1</td>\n",
              "      <td>0</td>\n",
              "      <td>...</td>\n",
              "      <td>1</td>\n",
              "      <td>83.9</td>\n",
              "      <td>267.40</td>\n",
              "      <td>0</td>\n",
              "      <td>0</td>\n",
              "      <td>0</td>\n",
              "      <td>1</td>\n",
              "      <td>1</td>\n",
              "      <td>0</td>\n",
              "      <td>2.796667</td>\n",
              "    </tr>\n",
              "  </tbody>\n",
              "</table>\n",
              "<p>5 rows × 27 columns</p>\n",
              "</div>\n",
              "    <div class=\"colab-df-buttons\">\n",
              "\n",
              "  <div class=\"colab-df-container\">\n",
              "    <button class=\"colab-df-convert\" onclick=\"convertToInteractive('df-88cc59ad-2780-4e24-a637-2ec16fe91016')\"\n",
              "            title=\"Convert this dataframe to an interactive table.\"\n",
              "            style=\"display:none;\">\n",
              "\n",
              "  <svg xmlns=\"http://www.w3.org/2000/svg\" height=\"24px\" viewBox=\"0 -960 960 960\">\n",
              "    <path d=\"M120-120v-720h720v720H120Zm60-500h600v-160H180v160Zm220 220h160v-160H400v160Zm0 220h160v-160H400v160ZM180-400h160v-160H180v160Zm440 0h160v-160H620v160ZM180-180h160v-160H180v160Zm440 0h160v-160H620v160Z\"/>\n",
              "  </svg>\n",
              "    </button>\n",
              "\n",
              "  <style>\n",
              "    .colab-df-container {\n",
              "      display:flex;\n",
              "      gap: 12px;\n",
              "    }\n",
              "\n",
              "    .colab-df-convert {\n",
              "      background-color: #E8F0FE;\n",
              "      border: none;\n",
              "      border-radius: 50%;\n",
              "      cursor: pointer;\n",
              "      display: none;\n",
              "      fill: #1967D2;\n",
              "      height: 32px;\n",
              "      padding: 0 0 0 0;\n",
              "      width: 32px;\n",
              "    }\n",
              "\n",
              "    .colab-df-convert:hover {\n",
              "      background-color: #E2EBFA;\n",
              "      box-shadow: 0px 1px 2px rgba(60, 64, 67, 0.3), 0px 1px 3px 1px rgba(60, 64, 67, 0.15);\n",
              "      fill: #174EA6;\n",
              "    }\n",
              "\n",
              "    .colab-df-buttons div {\n",
              "      margin-bottom: 4px;\n",
              "    }\n",
              "\n",
              "    [theme=dark] .colab-df-convert {\n",
              "      background-color: #3B4455;\n",
              "      fill: #D2E3FC;\n",
              "    }\n",
              "\n",
              "    [theme=dark] .colab-df-convert:hover {\n",
              "      background-color: #434B5C;\n",
              "      box-shadow: 0px 1px 3px 1px rgba(0, 0, 0, 0.15);\n",
              "      filter: drop-shadow(0px 1px 2px rgba(0, 0, 0, 0.3));\n",
              "      fill: #FFFFFF;\n",
              "    }\n",
              "  </style>\n",
              "\n",
              "    <script>\n",
              "      const buttonEl =\n",
              "        document.querySelector('#df-88cc59ad-2780-4e24-a637-2ec16fe91016 button.colab-df-convert');\n",
              "      buttonEl.style.display =\n",
              "        google.colab.kernel.accessAllowed ? 'block' : 'none';\n",
              "\n",
              "      async function convertToInteractive(key) {\n",
              "        const element = document.querySelector('#df-88cc59ad-2780-4e24-a637-2ec16fe91016');\n",
              "        const dataTable =\n",
              "          await google.colab.kernel.invokeFunction('convertToInteractive',\n",
              "                                                    [key], {});\n",
              "        if (!dataTable) return;\n",
              "\n",
              "        const docLinkHtml = 'Like what you see? Visit the ' +\n",
              "          '<a target=\"_blank\" href=https://colab.research.google.com/notebooks/data_table.ipynb>data table notebook</a>'\n",
              "          + ' to learn more about interactive tables.';\n",
              "        element.innerHTML = '';\n",
              "        dataTable['output_type'] = 'display_data';\n",
              "        await google.colab.output.renderOutput(dataTable, element);\n",
              "        const docLink = document.createElement('div');\n",
              "        docLink.innerHTML = docLinkHtml;\n",
              "        element.appendChild(docLink);\n",
              "      }\n",
              "    </script>\n",
              "  </div>\n",
              "\n",
              "\n",
              "<div id=\"df-94ca871c-7da1-488e-af5b-788d448216d0\">\n",
              "  <button class=\"colab-df-quickchart\" onclick=\"quickchart('df-94ca871c-7da1-488e-af5b-788d448216d0')\"\n",
              "            title=\"Suggest charts.\"\n",
              "            style=\"display:none;\">\n",
              "\n",
              "<svg xmlns=\"http://www.w3.org/2000/svg\" height=\"24px\"viewBox=\"0 0 24 24\"\n",
              "     width=\"24px\">\n",
              "    <g>\n",
              "        <path d=\"M19 3H5c-1.1 0-2 .9-2 2v14c0 1.1.9 2 2 2h14c1.1 0 2-.9 2-2V5c0-1.1-.9-2-2-2zM9 17H7v-7h2v7zm4 0h-2V7h2v10zm4 0h-2v-4h2v4z\"/>\n",
              "    </g>\n",
              "</svg>\n",
              "  </button>\n",
              "\n",
              "<style>\n",
              "  .colab-df-quickchart {\n",
              "      --bg-color: #E8F0FE;\n",
              "      --fill-color: #1967D2;\n",
              "      --hover-bg-color: #E2EBFA;\n",
              "      --hover-fill-color: #174EA6;\n",
              "      --disabled-fill-color: #AAA;\n",
              "      --disabled-bg-color: #DDD;\n",
              "  }\n",
              "\n",
              "  [theme=dark] .colab-df-quickchart {\n",
              "      --bg-color: #3B4455;\n",
              "      --fill-color: #D2E3FC;\n",
              "      --hover-bg-color: #434B5C;\n",
              "      --hover-fill-color: #FFFFFF;\n",
              "      --disabled-bg-color: #3B4455;\n",
              "      --disabled-fill-color: #666;\n",
              "  }\n",
              "\n",
              "  .colab-df-quickchart {\n",
              "    background-color: var(--bg-color);\n",
              "    border: none;\n",
              "    border-radius: 50%;\n",
              "    cursor: pointer;\n",
              "    display: none;\n",
              "    fill: var(--fill-color);\n",
              "    height: 32px;\n",
              "    padding: 0;\n",
              "    width: 32px;\n",
              "  }\n",
              "\n",
              "  .colab-df-quickchart:hover {\n",
              "    background-color: var(--hover-bg-color);\n",
              "    box-shadow: 0 1px 2px rgba(60, 64, 67, 0.3), 0 1px 3px 1px rgba(60, 64, 67, 0.15);\n",
              "    fill: var(--button-hover-fill-color);\n",
              "  }\n",
              "\n",
              "  .colab-df-quickchart-complete:disabled,\n",
              "  .colab-df-quickchart-complete:disabled:hover {\n",
              "    background-color: var(--disabled-bg-color);\n",
              "    fill: var(--disabled-fill-color);\n",
              "    box-shadow: none;\n",
              "  }\n",
              "\n",
              "  .colab-df-spinner {\n",
              "    border: 2px solid var(--fill-color);\n",
              "    border-color: transparent;\n",
              "    border-bottom-color: var(--fill-color);\n",
              "    animation:\n",
              "      spin 1s steps(1) infinite;\n",
              "  }\n",
              "\n",
              "  @keyframes spin {\n",
              "    0% {\n",
              "      border-color: transparent;\n",
              "      border-bottom-color: var(--fill-color);\n",
              "      border-left-color: var(--fill-color);\n",
              "    }\n",
              "    20% {\n",
              "      border-color: transparent;\n",
              "      border-left-color: var(--fill-color);\n",
              "      border-top-color: var(--fill-color);\n",
              "    }\n",
              "    30% {\n",
              "      border-color: transparent;\n",
              "      border-left-color: var(--fill-color);\n",
              "      border-top-color: var(--fill-color);\n",
              "      border-right-color: var(--fill-color);\n",
              "    }\n",
              "    40% {\n",
              "      border-color: transparent;\n",
              "      border-right-color: var(--fill-color);\n",
              "      border-top-color: var(--fill-color);\n",
              "    }\n",
              "    60% {\n",
              "      border-color: transparent;\n",
              "      border-right-color: var(--fill-color);\n",
              "    }\n",
              "    80% {\n",
              "      border-color: transparent;\n",
              "      border-right-color: var(--fill-color);\n",
              "      border-bottom-color: var(--fill-color);\n",
              "    }\n",
              "    90% {\n",
              "      border-color: transparent;\n",
              "      border-bottom-color: var(--fill-color);\n",
              "    }\n",
              "  }\n",
              "</style>\n",
              "\n",
              "  <script>\n",
              "    async function quickchart(key) {\n",
              "      const quickchartButtonEl =\n",
              "        document.querySelector('#' + key + ' button');\n",
              "      quickchartButtonEl.disabled = true;  // To prevent multiple clicks.\n",
              "      quickchartButtonEl.classList.add('colab-df-spinner');\n",
              "      try {\n",
              "        const charts = await google.colab.kernel.invokeFunction(\n",
              "            'suggestCharts', [key], {});\n",
              "      } catch (error) {\n",
              "        console.error('Error during call to suggestCharts:', error);\n",
              "      }\n",
              "      quickchartButtonEl.classList.remove('colab-df-spinner');\n",
              "      quickchartButtonEl.classList.add('colab-df-quickchart-complete');\n",
              "    }\n",
              "    (() => {\n",
              "      let quickchartButtonEl =\n",
              "        document.querySelector('#df-94ca871c-7da1-488e-af5b-788d448216d0 button');\n",
              "      quickchartButtonEl.style.display =\n",
              "        google.colab.kernel.accessAllowed ? 'block' : 'none';\n",
              "    })();\n",
              "  </script>\n",
              "</div>\n",
              "    </div>\n",
              "  </div>\n"
            ]
          },
          "metadata": {},
          "execution_count": 95
        }
      ],
      "source": [
        "X = dados_encode.drop('Evadiu', axis = 1)\n",
        "X.head()"
      ]
    },
    {
      "cell_type": "code",
      "execution_count": null,
      "metadata": {
        "colab": {
          "base_uri": "https://localhost:8080/"
        },
        "id": "ogX0HP0qFosL",
        "outputId": "2a28fec6-056a-4f95-9f25-254220a5e148"
      },
      "outputs": [
        {
          "output_type": "execute_result",
          "data": {
            "text/plain": [
              "0    0\n",
              "1    0\n",
              "2    1\n",
              "3    1\n",
              "4    1\n",
              "Name: Evadiu, dtype: int64"
            ]
          },
          "metadata": {},
          "execution_count": 96
        }
      ],
      "source": [
        "Y = dados_encode['Evadiu']\n",
        "Y.head()"
      ]
    },
    {
      "cell_type": "code",
      "execution_count": null,
      "metadata": {
        "colab": {
          "base_uri": "https://localhost:8080/"
        },
        "id": "gfJDLNeQF5aH",
        "outputId": "a4bce0ae-3722-4abc-dc3f-7bd17120ae16"
      },
      "outputs": [
        {
          "output_type": "stream",
          "name": "stdout",
          "text": [
            "(10348, 27)\n",
            "(10348,)\n"
          ]
        }
      ],
      "source": [
        "ros = RandomOverSampler(random_state=42)\n",
        "X_balanceado, y_balanceado = ros.fit_resample(X, Y)\n",
        "print(X_balanceado.shape)\n",
        "print(y_balanceado.shape)"
      ]
    },
    {
      "cell_type": "code",
      "execution_count": null,
      "metadata": {
        "colab": {
          "base_uri": "https://localhost:8080/",
          "height": 461
        },
        "id": "md-2lXXTGG-l",
        "outputId": "5f633371-87ec-41f8-c47c-5b9f66fb8caf"
      },
      "outputs": [
        {
          "output_type": "execute_result",
          "data": {
            "text/plain": [
              "       Metodo_pagamento_Cartao Credito (automatico)  \\\n",
              "0                                                 0   \n",
              "1                                                 0   \n",
              "2                                                 0   \n",
              "3                                                 0   \n",
              "4                                                 0   \n",
              "...                                             ...   \n",
              "10343                                             0   \n",
              "10344                                             0   \n",
              "10345                                             1   \n",
              "10346                                             0   \n",
              "10347                                             0   \n",
              "\n",
              "       Metodo_pagamento_Cheque Eletronico  Metodo_pagamento_Cheque por Email  \\\n",
              "0                                       0                                  1   \n",
              "1                                       0                                  1   \n",
              "2                                       1                                  0   \n",
              "3                                       1                                  0   \n",
              "4                                       0                                  1   \n",
              "...                                   ...                                ...   \n",
              "10343                                   0                                  1   \n",
              "10344                                   1                                  0   \n",
              "10345                                   0                                  0   \n",
              "10346                                   1                                  0   \n",
              "10347                                   0                                  1   \n",
              "\n",
              "       Metodo_pagamento_Transferencia Bancaria (automatico)  \\\n",
              "0                                                      0      \n",
              "1                                                      0      \n",
              "2                                                      0      \n",
              "3                                                      0      \n",
              "4                                                      0      \n",
              "...                                                  ...      \n",
              "10343                                                  0      \n",
              "10344                                                  0      \n",
              "10345                                                  0      \n",
              "10346                                                  0      \n",
              "10347                                                  0      \n",
              "\n",
              "       Tipo_contrato_Anual  Tipo_contrato_Bianual  Tipo_contrato_Mes a Mes  \\\n",
              "0                        1                      0                        0   \n",
              "1                        0                      0                        1   \n",
              "2                        0                      0                        1   \n",
              "3                        0                      0                        1   \n",
              "4                        0                      0                        1   \n",
              "...                    ...                    ...                      ...   \n",
              "10343                    0                      0                        1   \n",
              "10344                    0                      0                        1   \n",
              "10345                    0                      0                        1   \n",
              "10346                    0                      0                        1   \n",
              "10347                    0                      0                        1   \n",
              "\n",
              "       Servico_internet_DSL  Servico_internet_Fibra optica  \\\n",
              "0                         1                              0   \n",
              "1                         1                              0   \n",
              "2                         0                              1   \n",
              "3                         0                              1   \n",
              "4                         0                              1   \n",
              "...                     ...                            ...   \n",
              "10343                     0                              1   \n",
              "10344                     1                              0   \n",
              "10345                     1                              0   \n",
              "10346                     0                              1   \n",
              "10347                     0                              1   \n",
              "\n",
              "       Servico_internet_Nao  ...  Fatura_online  Gasto_mensal  Gasto_total  \\\n",
              "0                         0  ...              1         65.60       593.30   \n",
              "1                         0  ...              0         59.90       542.40   \n",
              "2                         0  ...              1         73.90       280.85   \n",
              "3                         0  ...              1         98.00      1237.85   \n",
              "4                         0  ...              1         83.90       267.40   \n",
              "...                     ...  ...            ...           ...          ...   \n",
              "10343                     0  ...              1         96.65      1162.85   \n",
              "10344                     0  ...              0         49.35       219.65   \n",
              "10345                     0  ...              1         40.10       293.30   \n",
              "10346                     0  ...              1         70.10       659.65   \n",
              "10347                     0  ...              0         75.45       480.75   \n",
              "\n",
              "       Seguranca_online  Backup_online  Protecao_de_aparelho  Suporte_tecnico  \\\n",
              "0                     0              1                     0                1   \n",
              "1                     0              0                     0                0   \n",
              "2                     0              0                     1                0   \n",
              "3                     0              1                     1                0   \n",
              "4                     0              0                     0                1   \n",
              "...                 ...            ...                   ...              ...   \n",
              "10343                 0              0                     1                0   \n",
              "10344                 1              0                     0                0   \n",
              "10345                 0              1                     0                0   \n",
              "10346                 0              0                     0                0   \n",
              "10347                 0              0                     0                0   \n",
              "\n",
              "       Assinatura_tv  Assinatura_filme  Gasto_diario  \n",
              "0                  1                 0      2.186667  \n",
              "1                  0                 1      1.996667  \n",
              "2                  0                 0      2.463333  \n",
              "3                  1                 1      3.266667  \n",
              "4                  1                 0      2.796667  \n",
              "...              ...               ...           ...  \n",
              "10343              1                 1      3.221667  \n",
              "10344              0                 0      1.645000  \n",
              "10345              0                 1      1.336667  \n",
              "10346              0                 0      2.336667  \n",
              "10347              0                 0      2.515000  \n",
              "\n",
              "[10348 rows x 27 columns]"
            ],
            "text/html": [
              "\n",
              "  <div id=\"df-55dfefaf-bd24-4b2e-a4b3-a396d6b2a63e\" class=\"colab-df-container\">\n",
              "    <div>\n",
              "<style scoped>\n",
              "    .dataframe tbody tr th:only-of-type {\n",
              "        vertical-align: middle;\n",
              "    }\n",
              "\n",
              "    .dataframe tbody tr th {\n",
              "        vertical-align: top;\n",
              "    }\n",
              "\n",
              "    .dataframe thead th {\n",
              "        text-align: right;\n",
              "    }\n",
              "</style>\n",
              "<table border=\"1\" class=\"dataframe\">\n",
              "  <thead>\n",
              "    <tr style=\"text-align: right;\">\n",
              "      <th></th>\n",
              "      <th>Metodo_pagamento_Cartao Credito (automatico)</th>\n",
              "      <th>Metodo_pagamento_Cheque Eletronico</th>\n",
              "      <th>Metodo_pagamento_Cheque por Email</th>\n",
              "      <th>Metodo_pagamento_Transferencia Bancaria (automatico)</th>\n",
              "      <th>Tipo_contrato_Anual</th>\n",
              "      <th>Tipo_contrato_Bianual</th>\n",
              "      <th>Tipo_contrato_Mes a Mes</th>\n",
              "      <th>Servico_internet_DSL</th>\n",
              "      <th>Servico_internet_Fibra optica</th>\n",
              "      <th>Servico_internet_Nao</th>\n",
              "      <th>...</th>\n",
              "      <th>Fatura_online</th>\n",
              "      <th>Gasto_mensal</th>\n",
              "      <th>Gasto_total</th>\n",
              "      <th>Seguranca_online</th>\n",
              "      <th>Backup_online</th>\n",
              "      <th>Protecao_de_aparelho</th>\n",
              "      <th>Suporte_tecnico</th>\n",
              "      <th>Assinatura_tv</th>\n",
              "      <th>Assinatura_filme</th>\n",
              "      <th>Gasto_diario</th>\n",
              "    </tr>\n",
              "  </thead>\n",
              "  <tbody>\n",
              "    <tr>\n",
              "      <th>0</th>\n",
              "      <td>0</td>\n",
              "      <td>0</td>\n",
              "      <td>1</td>\n",
              "      <td>0</td>\n",
              "      <td>1</td>\n",
              "      <td>0</td>\n",
              "      <td>0</td>\n",
              "      <td>1</td>\n",
              "      <td>0</td>\n",
              "      <td>0</td>\n",
              "      <td>...</td>\n",
              "      <td>1</td>\n",
              "      <td>65.60</td>\n",
              "      <td>593.30</td>\n",
              "      <td>0</td>\n",
              "      <td>1</td>\n",
              "      <td>0</td>\n",
              "      <td>1</td>\n",
              "      <td>1</td>\n",
              "      <td>0</td>\n",
              "      <td>2.186667</td>\n",
              "    </tr>\n",
              "    <tr>\n",
              "      <th>1</th>\n",
              "      <td>0</td>\n",
              "      <td>0</td>\n",
              "      <td>1</td>\n",
              "      <td>0</td>\n",
              "      <td>0</td>\n",
              "      <td>0</td>\n",
              "      <td>1</td>\n",
              "      <td>1</td>\n",
              "      <td>0</td>\n",
              "      <td>0</td>\n",
              "      <td>...</td>\n",
              "      <td>0</td>\n",
              "      <td>59.90</td>\n",
              "      <td>542.40</td>\n",
              "      <td>0</td>\n",
              "      <td>0</td>\n",
              "      <td>0</td>\n",
              "      <td>0</td>\n",
              "      <td>0</td>\n",
              "      <td>1</td>\n",
              "      <td>1.996667</td>\n",
              "    </tr>\n",
              "    <tr>\n",
              "      <th>2</th>\n",
              "      <td>0</td>\n",
              "      <td>1</td>\n",
              "      <td>0</td>\n",
              "      <td>0</td>\n",
              "      <td>0</td>\n",
              "      <td>0</td>\n",
              "      <td>1</td>\n",
              "      <td>0</td>\n",
              "      <td>1</td>\n",
              "      <td>0</td>\n",
              "      <td>...</td>\n",
              "      <td>1</td>\n",
              "      <td>73.90</td>\n",
              "      <td>280.85</td>\n",
              "      <td>0</td>\n",
              "      <td>0</td>\n",
              "      <td>1</td>\n",
              "      <td>0</td>\n",
              "      <td>0</td>\n",
              "      <td>0</td>\n",
              "      <td>2.463333</td>\n",
              "    </tr>\n",
              "    <tr>\n",
              "      <th>3</th>\n",
              "      <td>0</td>\n",
              "      <td>1</td>\n",
              "      <td>0</td>\n",
              "      <td>0</td>\n",
              "      <td>0</td>\n",
              "      <td>0</td>\n",
              "      <td>1</td>\n",
              "      <td>0</td>\n",
              "      <td>1</td>\n",
              "      <td>0</td>\n",
              "      <td>...</td>\n",
              "      <td>1</td>\n",
              "      <td>98.00</td>\n",
              "      <td>1237.85</td>\n",
              "      <td>0</td>\n",
              "      <td>1</td>\n",
              "      <td>1</td>\n",
              "      <td>0</td>\n",
              "      <td>1</td>\n",
              "      <td>1</td>\n",
              "      <td>3.266667</td>\n",
              "    </tr>\n",
              "    <tr>\n",
              "      <th>4</th>\n",
              "      <td>0</td>\n",
              "      <td>0</td>\n",
              "      <td>1</td>\n",
              "      <td>0</td>\n",
              "      <td>0</td>\n",
              "      <td>0</td>\n",
              "      <td>1</td>\n",
              "      <td>0</td>\n",
              "      <td>1</td>\n",
              "      <td>0</td>\n",
              "      <td>...</td>\n",
              "      <td>1</td>\n",
              "      <td>83.90</td>\n",
              "      <td>267.40</td>\n",
              "      <td>0</td>\n",
              "      <td>0</td>\n",
              "      <td>0</td>\n",
              "      <td>1</td>\n",
              "      <td>1</td>\n",
              "      <td>0</td>\n",
              "      <td>2.796667</td>\n",
              "    </tr>\n",
              "    <tr>\n",
              "      <th>...</th>\n",
              "      <td>...</td>\n",
              "      <td>...</td>\n",
              "      <td>...</td>\n",
              "      <td>...</td>\n",
              "      <td>...</td>\n",
              "      <td>...</td>\n",
              "      <td>...</td>\n",
              "      <td>...</td>\n",
              "      <td>...</td>\n",
              "      <td>...</td>\n",
              "      <td>...</td>\n",
              "      <td>...</td>\n",
              "      <td>...</td>\n",
              "      <td>...</td>\n",
              "      <td>...</td>\n",
              "      <td>...</td>\n",
              "      <td>...</td>\n",
              "      <td>...</td>\n",
              "      <td>...</td>\n",
              "      <td>...</td>\n",
              "      <td>...</td>\n",
              "    </tr>\n",
              "    <tr>\n",
              "      <th>10343</th>\n",
              "      <td>0</td>\n",
              "      <td>0</td>\n",
              "      <td>1</td>\n",
              "      <td>0</td>\n",
              "      <td>0</td>\n",
              "      <td>0</td>\n",
              "      <td>1</td>\n",
              "      <td>0</td>\n",
              "      <td>1</td>\n",
              "      <td>0</td>\n",
              "      <td>...</td>\n",
              "      <td>1</td>\n",
              "      <td>96.65</td>\n",
              "      <td>1162.85</td>\n",
              "      <td>0</td>\n",
              "      <td>0</td>\n",
              "      <td>1</td>\n",
              "      <td>0</td>\n",
              "      <td>1</td>\n",
              "      <td>1</td>\n",
              "      <td>3.221667</td>\n",
              "    </tr>\n",
              "    <tr>\n",
              "      <th>10344</th>\n",
              "      <td>0</td>\n",
              "      <td>1</td>\n",
              "      <td>0</td>\n",
              "      <td>0</td>\n",
              "      <td>0</td>\n",
              "      <td>0</td>\n",
              "      <td>1</td>\n",
              "      <td>1</td>\n",
              "      <td>0</td>\n",
              "      <td>0</td>\n",
              "      <td>...</td>\n",
              "      <td>0</td>\n",
              "      <td>49.35</td>\n",
              "      <td>219.65</td>\n",
              "      <td>1</td>\n",
              "      <td>0</td>\n",
              "      <td>0</td>\n",
              "      <td>0</td>\n",
              "      <td>0</td>\n",
              "      <td>0</td>\n",
              "      <td>1.645000</td>\n",
              "    </tr>\n",
              "    <tr>\n",
              "      <th>10345</th>\n",
              "      <td>1</td>\n",
              "      <td>0</td>\n",
              "      <td>0</td>\n",
              "      <td>0</td>\n",
              "      <td>0</td>\n",
              "      <td>0</td>\n",
              "      <td>1</td>\n",
              "      <td>1</td>\n",
              "      <td>0</td>\n",
              "      <td>0</td>\n",
              "      <td>...</td>\n",
              "      <td>1</td>\n",
              "      <td>40.10</td>\n",
              "      <td>293.30</td>\n",
              "      <td>0</td>\n",
              "      <td>1</td>\n",
              "      <td>0</td>\n",
              "      <td>0</td>\n",
              "      <td>0</td>\n",
              "      <td>1</td>\n",
              "      <td>1.336667</td>\n",
              "    </tr>\n",
              "    <tr>\n",
              "      <th>10346</th>\n",
              "      <td>0</td>\n",
              "      <td>1</td>\n",
              "      <td>0</td>\n",
              "      <td>0</td>\n",
              "      <td>0</td>\n",
              "      <td>0</td>\n",
              "      <td>1</td>\n",
              "      <td>0</td>\n",
              "      <td>1</td>\n",
              "      <td>0</td>\n",
              "      <td>...</td>\n",
              "      <td>1</td>\n",
              "      <td>70.10</td>\n",
              "      <td>659.65</td>\n",
              "      <td>0</td>\n",
              "      <td>0</td>\n",
              "      <td>0</td>\n",
              "      <td>0</td>\n",
              "      <td>0</td>\n",
              "      <td>0</td>\n",
              "      <td>2.336667</td>\n",
              "    </tr>\n",
              "    <tr>\n",
              "      <th>10347</th>\n",
              "      <td>0</td>\n",
              "      <td>0</td>\n",
              "      <td>1</td>\n",
              "      <td>0</td>\n",
              "      <td>0</td>\n",
              "      <td>0</td>\n",
              "      <td>1</td>\n",
              "      <td>0</td>\n",
              "      <td>1</td>\n",
              "      <td>0</td>\n",
              "      <td>...</td>\n",
              "      <td>0</td>\n",
              "      <td>75.45</td>\n",
              "      <td>480.75</td>\n",
              "      <td>0</td>\n",
              "      <td>0</td>\n",
              "      <td>0</td>\n",
              "      <td>0</td>\n",
              "      <td>0</td>\n",
              "      <td>0</td>\n",
              "      <td>2.515000</td>\n",
              "    </tr>\n",
              "  </tbody>\n",
              "</table>\n",
              "<p>10348 rows × 27 columns</p>\n",
              "</div>\n",
              "    <div class=\"colab-df-buttons\">\n",
              "\n",
              "  <div class=\"colab-df-container\">\n",
              "    <button class=\"colab-df-convert\" onclick=\"convertToInteractive('df-55dfefaf-bd24-4b2e-a4b3-a396d6b2a63e')\"\n",
              "            title=\"Convert this dataframe to an interactive table.\"\n",
              "            style=\"display:none;\">\n",
              "\n",
              "  <svg xmlns=\"http://www.w3.org/2000/svg\" height=\"24px\" viewBox=\"0 -960 960 960\">\n",
              "    <path d=\"M120-120v-720h720v720H120Zm60-500h600v-160H180v160Zm220 220h160v-160H400v160Zm0 220h160v-160H400v160ZM180-400h160v-160H180v160Zm440 0h160v-160H620v160ZM180-180h160v-160H180v160Zm440 0h160v-160H620v160Z\"/>\n",
              "  </svg>\n",
              "    </button>\n",
              "\n",
              "  <style>\n",
              "    .colab-df-container {\n",
              "      display:flex;\n",
              "      gap: 12px;\n",
              "    }\n",
              "\n",
              "    .colab-df-convert {\n",
              "      background-color: #E8F0FE;\n",
              "      border: none;\n",
              "      border-radius: 50%;\n",
              "      cursor: pointer;\n",
              "      display: none;\n",
              "      fill: #1967D2;\n",
              "      height: 32px;\n",
              "      padding: 0 0 0 0;\n",
              "      width: 32px;\n",
              "    }\n",
              "\n",
              "    .colab-df-convert:hover {\n",
              "      background-color: #E2EBFA;\n",
              "      box-shadow: 0px 1px 2px rgba(60, 64, 67, 0.3), 0px 1px 3px 1px rgba(60, 64, 67, 0.15);\n",
              "      fill: #174EA6;\n",
              "    }\n",
              "\n",
              "    .colab-df-buttons div {\n",
              "      margin-bottom: 4px;\n",
              "    }\n",
              "\n",
              "    [theme=dark] .colab-df-convert {\n",
              "      background-color: #3B4455;\n",
              "      fill: #D2E3FC;\n",
              "    }\n",
              "\n",
              "    [theme=dark] .colab-df-convert:hover {\n",
              "      background-color: #434B5C;\n",
              "      box-shadow: 0px 1px 3px 1px rgba(0, 0, 0, 0.15);\n",
              "      filter: drop-shadow(0px 1px 2px rgba(0, 0, 0, 0.3));\n",
              "      fill: #FFFFFF;\n",
              "    }\n",
              "  </style>\n",
              "\n",
              "    <script>\n",
              "      const buttonEl =\n",
              "        document.querySelector('#df-55dfefaf-bd24-4b2e-a4b3-a396d6b2a63e button.colab-df-convert');\n",
              "      buttonEl.style.display =\n",
              "        google.colab.kernel.accessAllowed ? 'block' : 'none';\n",
              "\n",
              "      async function convertToInteractive(key) {\n",
              "        const element = document.querySelector('#df-55dfefaf-bd24-4b2e-a4b3-a396d6b2a63e');\n",
              "        const dataTable =\n",
              "          await google.colab.kernel.invokeFunction('convertToInteractive',\n",
              "                                                    [key], {});\n",
              "        if (!dataTable) return;\n",
              "\n",
              "        const docLinkHtml = 'Like what you see? Visit the ' +\n",
              "          '<a target=\"_blank\" href=https://colab.research.google.com/notebooks/data_table.ipynb>data table notebook</a>'\n",
              "          + ' to learn more about interactive tables.';\n",
              "        element.innerHTML = '';\n",
              "        dataTable['output_type'] = 'display_data';\n",
              "        await google.colab.output.renderOutput(dataTable, element);\n",
              "        const docLink = document.createElement('div');\n",
              "        docLink.innerHTML = docLinkHtml;\n",
              "        element.appendChild(docLink);\n",
              "      }\n",
              "    </script>\n",
              "  </div>\n",
              "\n",
              "\n",
              "<div id=\"df-a9ada487-0510-4c69-86f7-47c2e995071f\">\n",
              "  <button class=\"colab-df-quickchart\" onclick=\"quickchart('df-a9ada487-0510-4c69-86f7-47c2e995071f')\"\n",
              "            title=\"Suggest charts.\"\n",
              "            style=\"display:none;\">\n",
              "\n",
              "<svg xmlns=\"http://www.w3.org/2000/svg\" height=\"24px\"viewBox=\"0 0 24 24\"\n",
              "     width=\"24px\">\n",
              "    <g>\n",
              "        <path d=\"M19 3H5c-1.1 0-2 .9-2 2v14c0 1.1.9 2 2 2h14c1.1 0 2-.9 2-2V5c0-1.1-.9-2-2-2zM9 17H7v-7h2v7zm4 0h-2V7h2v10zm4 0h-2v-4h2v4z\"/>\n",
              "    </g>\n",
              "</svg>\n",
              "  </button>\n",
              "\n",
              "<style>\n",
              "  .colab-df-quickchart {\n",
              "      --bg-color: #E8F0FE;\n",
              "      --fill-color: #1967D2;\n",
              "      --hover-bg-color: #E2EBFA;\n",
              "      --hover-fill-color: #174EA6;\n",
              "      --disabled-fill-color: #AAA;\n",
              "      --disabled-bg-color: #DDD;\n",
              "  }\n",
              "\n",
              "  [theme=dark] .colab-df-quickchart {\n",
              "      --bg-color: #3B4455;\n",
              "      --fill-color: #D2E3FC;\n",
              "      --hover-bg-color: #434B5C;\n",
              "      --hover-fill-color: #FFFFFF;\n",
              "      --disabled-bg-color: #3B4455;\n",
              "      --disabled-fill-color: #666;\n",
              "  }\n",
              "\n",
              "  .colab-df-quickchart {\n",
              "    background-color: var(--bg-color);\n",
              "    border: none;\n",
              "    border-radius: 50%;\n",
              "    cursor: pointer;\n",
              "    display: none;\n",
              "    fill: var(--fill-color);\n",
              "    height: 32px;\n",
              "    padding: 0;\n",
              "    width: 32px;\n",
              "  }\n",
              "\n",
              "  .colab-df-quickchart:hover {\n",
              "    background-color: var(--hover-bg-color);\n",
              "    box-shadow: 0 1px 2px rgba(60, 64, 67, 0.3), 0 1px 3px 1px rgba(60, 64, 67, 0.15);\n",
              "    fill: var(--button-hover-fill-color);\n",
              "  }\n",
              "\n",
              "  .colab-df-quickchart-complete:disabled,\n",
              "  .colab-df-quickchart-complete:disabled:hover {\n",
              "    background-color: var(--disabled-bg-color);\n",
              "    fill: var(--disabled-fill-color);\n",
              "    box-shadow: none;\n",
              "  }\n",
              "\n",
              "  .colab-df-spinner {\n",
              "    border: 2px solid var(--fill-color);\n",
              "    border-color: transparent;\n",
              "    border-bottom-color: var(--fill-color);\n",
              "    animation:\n",
              "      spin 1s steps(1) infinite;\n",
              "  }\n",
              "\n",
              "  @keyframes spin {\n",
              "    0% {\n",
              "      border-color: transparent;\n",
              "      border-bottom-color: var(--fill-color);\n",
              "      border-left-color: var(--fill-color);\n",
              "    }\n",
              "    20% {\n",
              "      border-color: transparent;\n",
              "      border-left-color: var(--fill-color);\n",
              "      border-top-color: var(--fill-color);\n",
              "    }\n",
              "    30% {\n",
              "      border-color: transparent;\n",
              "      border-left-color: var(--fill-color);\n",
              "      border-top-color: var(--fill-color);\n",
              "      border-right-color: var(--fill-color);\n",
              "    }\n",
              "    40% {\n",
              "      border-color: transparent;\n",
              "      border-right-color: var(--fill-color);\n",
              "      border-top-color: var(--fill-color);\n",
              "    }\n",
              "    60% {\n",
              "      border-color: transparent;\n",
              "      border-right-color: var(--fill-color);\n",
              "    }\n",
              "    80% {\n",
              "      border-color: transparent;\n",
              "      border-right-color: var(--fill-color);\n",
              "      border-bottom-color: var(--fill-color);\n",
              "    }\n",
              "    90% {\n",
              "      border-color: transparent;\n",
              "      border-bottom-color: var(--fill-color);\n",
              "    }\n",
              "  }\n",
              "</style>\n",
              "\n",
              "  <script>\n",
              "    async function quickchart(key) {\n",
              "      const quickchartButtonEl =\n",
              "        document.querySelector('#' + key + ' button');\n",
              "      quickchartButtonEl.disabled = true;  // To prevent multiple clicks.\n",
              "      quickchartButtonEl.classList.add('colab-df-spinner');\n",
              "      try {\n",
              "        const charts = await google.colab.kernel.invokeFunction(\n",
              "            'suggestCharts', [key], {});\n",
              "      } catch (error) {\n",
              "        console.error('Error during call to suggestCharts:', error);\n",
              "      }\n",
              "      quickchartButtonEl.classList.remove('colab-df-spinner');\n",
              "      quickchartButtonEl.classList.add('colab-df-quickchart-complete');\n",
              "    }\n",
              "    (() => {\n",
              "      let quickchartButtonEl =\n",
              "        document.querySelector('#df-a9ada487-0510-4c69-86f7-47c2e995071f button');\n",
              "      quickchartButtonEl.style.display =\n",
              "        google.colab.kernel.accessAllowed ? 'block' : 'none';\n",
              "    })();\n",
              "  </script>\n",
              "</div>\n",
              "    </div>\n",
              "  </div>\n"
            ]
          },
          "metadata": {},
          "execution_count": 98
        }
      ],
      "source": [
        "X_balanceado"
      ]
    },
    {
      "cell_type": "code",
      "execution_count": null,
      "metadata": {
        "colab": {
          "base_uri": "https://localhost:8080/"
        },
        "id": "qATkU8OPGM3Q",
        "outputId": "71bf5987-e930-488a-c0f0-28e00377b139"
      },
      "outputs": [
        {
          "output_type": "execute_result",
          "data": {
            "text/plain": [
              "0    5174\n",
              "1    5174\n",
              "Name: Evadiu, dtype: int64"
            ]
          },
          "metadata": {},
          "execution_count": 99
        }
      ],
      "source": [
        "y_balanceado.value_counts()"
      ]
    },
    {
      "cell_type": "markdown",
      "metadata": {
        "id": "xKiPwF39GlX2"
      },
      "source": [
        "### Revendo Correlação"
      ]
    },
    {
      "cell_type": "code",
      "execution_count": null,
      "metadata": {
        "colab": {
          "base_uri": "https://localhost:8080/",
          "height": 1000
        },
        "id": "NuIs3cfSGSb7",
        "outputId": "7acf183f-aec0-40ff-a261-d4e8fee989a6"
      },
      "outputs": [
        {
          "output_type": "execute_result",
          "data": {
            "text/plain": [
              "<Axes: >"
            ]
          },
          "metadata": {},
          "execution_count": 100
        },
        {
          "output_type": "display_data",
          "data": {
            "text/plain": [
              "<Figure size 1200x800 with 2 Axes>"
            ],
            "image/png": "[encoded data removed]"
          },
          "metadata": {}
        }
      ],
      "source": [
        "plt.figure(figsize = (12, 8))\n",
        "sns.heatmap(X_balanceado.corr())"
      ]
    },
    {
      "cell_type": "markdown",
      "metadata": {
        "id": "az2j2uP6Hf40"
      },
      "source": [
        "1. Este gráfico mostra que há correlação alta entre variáveis sem serviço de internet e não tem produto porque não tem serviço de internet. Vamos tirar as colunas de não ter produto porque não tem internet"
      ]
    },
    {
      "cell_type": "markdown",
      "metadata": {
        "id": "QhfXDZcw5xB7"
      },
      "source": [
        "# Usar Standard Scalar"
      ]
    },
    {
      "cell_type": "code",
      "execution_count": null,
      "metadata": {
        "id": "y5LXg3vf5v-R"
      },
      "outputs": [],
      "source": [
        "from sklearn.preprocessing import StandardScaler\n",
        "scaler = StandardScaler()"
      ]
    },
    {
      "cell_type": "code",
      "execution_count": null,
      "metadata": {
        "id": "wAg5KJ145vvf"
      },
      "outputs": [],
      "source": [
        "scaler.fit(X_balanceado)\n",
        "X_balanceado = scaler.transform(X_balanceado)"
      ]
    },
    {
      "cell_type": "markdown",
      "metadata": {
        "id": "BoYyI8EmInux"
      },
      "source": [
        "# Separar os dados em treino, teste e validação.\n",
        "1. Vou separar os dados de treino e de teste.\n",
        "2. Vou separa os dados de teste em: teste e validação"
      ]
    },
    {
      "cell_type": "code",
      "execution_count": null,
      "metadata": {
        "colab": {
          "base_uri": "https://localhost:8080/"
        },
        "id": "w7IyZQYRIhEu",
        "outputId": "3ee1280d-ecf0-4df3-9f4d-d7dfd163a8ea"
      },
      "outputs": [
        {
          "output_type": "stream",
          "name": "stdout",
          "text": [
            "(8278, 27)\n",
            "(8278,)\n"
          ]
        }
      ],
      "source": [
        "#1 - Treino e Teste\n",
        "x_treino, x_teste, y_treino, y_teste = train_test_split(X_balanceado, y_balanceado, test_size = 0.20, random_state = 42)\n",
        "print(x_treino.shape)\n",
        "print(y_treino.shape)"
      ]
    },
    {
      "cell_type": "code",
      "execution_count": null,
      "metadata": {
        "colab": {
          "base_uri": "https://localhost:8080/"
        },
        "id": "sxaE3yIiJlmG",
        "outputId": "42f1063e-4351-45d7-e7e1-91c18a40b10e"
      },
      "outputs": [
        {
          "output_type": "stream",
          "name": "stdout",
          "text": [
            "(2070, 27)\n",
            "(2070,)\n"
          ]
        }
      ],
      "source": [
        "print(x_teste.shape)\n",
        "print(y_teste.shape)"
      ]
    },
    {
      "cell_type": "code",
      "execution_count": null,
      "metadata": {
        "colab": {
          "base_uri": "https://localhost:8080/"
        },
        "id": "nY8bNMUMJrcX",
        "outputId": "ef92c58b-f2a0-49df-b061-60d3ccfe02fb"
      },
      "outputs": [
        {
          "output_type": "stream",
          "name": "stdout",
          "text": [
            "(1552, 27)\n",
            "(1552,)\n"
          ]
        }
      ],
      "source": [
        "#2 - Teste e Validação\n",
        "x_teste, x_validacao, y_teste, y_validacao = train_test_split(x_teste, y_teste, test_size = 0.25, random_state = 42)\n",
        "print(x_teste.shape)\n",
        "print(y_teste.shape)"
      ]
    },
    {
      "cell_type": "code",
      "execution_count": null,
      "metadata": {
        "colab": {
          "base_uri": "https://localhost:8080/"
        },
        "id": "G6N-J66HJ-R3",
        "outputId": "4b90792d-a30d-407c-e870-019068f4a60e"
      },
      "outputs": [
        {
          "output_type": "stream",
          "name": "stdout",
          "text": [
            "(518, 27)\n",
            "(518,)\n"
          ]
        }
      ],
      "source": [
        "print(x_validacao.shape)\n",
        "print(y_validacao.shape)"
      ]
    },
    {
      "cell_type": "code",
      "execution_count": null,
      "metadata": {
        "id": "u5L52z0WFX-p",
        "colab": {
          "base_uri": "https://localhost:8080/"
        },
        "outputId": "db246cbb-41b4-4857-fe6d-653a26976a8d"
      },
      "outputs": [
        {
          "output_type": "execute_result",
          "data": {
            "text/plain": [
              "4541     0\n",
              "5709     0\n",
              "7393     1\n",
              "10026    1\n",
              "3578     0\n",
              "        ..\n",
              "5734     0\n",
              "5191     0\n",
              "5390     0\n",
              "860      0\n",
              "7270     1\n",
              "Name: Evadiu, Length: 8278, dtype: int64"
            ]
          },
          "metadata": {},
          "execution_count": 116
        }
      ],
      "source": [
        "y_treino"
      ]
    },
    {
      "cell_type": "markdown",
      "metadata": {
        "id": "Tm7FK8P_KIj0"
      },
      "source": [
        "# Criar os Modelos de Classificação e escolher métricas apropriadas\n",
        "\n",
        "1. Cria a baseline\n",
        "2. Irei escolher 3 modelos de classificação\n",
        "3. Escolher a melhor métrica para utilizar\n",
        "4. Irei treina-los usando Validação Cruzada\n",
        "5. Escolher melhor modelos para otimização baseando na métrica"
      ]
    },
    {
      "cell_type": "markdown",
      "metadata": {
        "id": "p41bqKZb1e9O"
      },
      "source": [
        "### BaseLine\n",
        "1. Dummy\n",
        "2. LogisticRegression"
      ]
    },
    {
      "cell_type": "code",
      "execution_count": null,
      "metadata": {
        "id": "qDfsgfly2eR5"
      },
      "outputs": [],
      "source": [
        "#Função de Classificação com Cross_validate e KFold\n",
        "from sklearn.dummy import DummyClassifier\n",
        "from sklearn.model_selection import cross_validate, KFold, cross_val_score\n",
        "from sklearn.metrics import accuracy_score\n",
        "from sklearn.metrics import make_scorer, precision_score, recall_score, f1_score, confusion_matrix\n",
        "import seaborn as sns\n",
        "\n",
        "validador = KFold(n_splits = 5, shuffle = True, random_state = 42)\n",
        "scoring = {'accuracy' : make_scorer(accuracy_score),\n",
        "           'precision' : make_scorer(precision_score),\n",
        "           'recall' : make_scorer(recall_score),\n",
        "           'f1_score' : make_scorer(f1_score)}\n",
        "\n",
        "def cruzada(modelo, x, y, cv):\n",
        "  resultados = cross_validate(modelo, x, y, cv = cv, scoring= scoring)\n",
        "\n",
        "  media_acc = round(resultados['test_accuracy'].mean(),3)\n",
        "  std_acc = round(resultados['test_accuracy'].std(),3)\n",
        "\n",
        "\n",
        "  media_precision = round(resultados['test_precision'].mean(),3)\n",
        "  std_precision = round(resultados['test_precision'].std(),3)\n",
        "\n",
        "  media_recall = round(resultados['test_recall'].mean(),3)\n",
        "  std_recall = round(resultados['test_recall'].std(),3)\n",
        "\n",
        "  media_f1 = round(resultados['test_f1_score'].mean(),3)\n",
        "  std_f1 = round(resultados['test_f1_score'].std(),3)\n",
        "\n",
        "  print(f\"Média de Acurácia: {media_acc}, Desvio Acurácia: {std_acc}\")\n",
        "  print(f\"Média de Precisão: {media_precision}, Desvio Precisão: {std_precision}\")\n",
        "  print(f\"Média de Recall: {media_recall}, Devio Recall: {std_recall}\")\n",
        "  print(f\"Média de F1: {media_f1}, Devio Recall: {std_f1}\")\n",
        "\n",
        "  print('----------------------------TESTES-----------------------')\n",
        "  modelo.fit(x_treino,y_treino)\n",
        "  scores = cross_val_score(modelo, x_teste, y_teste, cv =validador, scoring = make_scorer(accuracy_score))\n",
        "  print(f'Média Acurácia Teste: {round(scores.mean(),2)}')\n",
        "  scores = cross_val_score(modelo, x_teste, y_teste, cv =validador, scoring = make_scorer(precision_score))\n",
        "  print(f'Média Precisão Teste: {round(scores.mean(),2)}')\n",
        "\n",
        "  scores = cross_val_score(modelo, x_teste, y_teste, cv =validador, scoring = make_scorer(recall_score))\n",
        "  print(f'Média Recall Teste: {round(scores.mean(),2)}')\n",
        "  return resultados\n",
        "\n",
        "def matrix_confusao(modelo):\n",
        "  modelo.fit(x_treino, y_treino)\n",
        "  y_pred = modelo.predict(x_teste)\n",
        "  matriz = confusion_matrix(y_teste, y_pred)\n",
        "  plt.figure(figsize=(8, 6))\n",
        "  sns.set(font_scale=1.4)  # Ajusta o tamanho da fonte\n",
        "  sns.heatmap(matriz, annot=True, fmt=\"d\", cmap=\"Blues\", cbar=False)\n",
        "  plt.xlabel('Valores Previstos')\n",
        "  plt.ylabel('Valores Reais')\n",
        "  plt.show()\n",
        "\n"
      ]
    },
    {
      "cell_type": "code",
      "execution_count": null,
      "metadata": {
        "colab": {
          "base_uri": "https://localhost:8080/"
        },
        "id": "CNPKIhO2KA2I",
        "outputId": "49db4248-1ced-486c-9213-21eec55d604c"
      },
      "outputs": [
        {
          "output_type": "stream",
          "name": "stdout",
          "text": [
            "Média de Acurácia: 0.498, Desvio Acurácia: 0.02\n",
            "Média de Precisão: 0.498, Desvio Precisão: 0.019\n",
            "Média de Recall: 0.498, Devio Recall: 0.023\n",
            "Média de F1: 0.498, Devio Recall: 0.018\n",
            "----------------------------TESTES-----------------------\n",
            "Média Acurácia Teste: 0.53\n",
            "Média Precisão Teste: 0.51\n",
            "Média Recall Teste: 0.5\n"
          ]
        }
      ],
      "source": [
        "# Dummy\n",
        "dummy = DummyClassifier(strategy=\"uniform\")\n",
        "resultados = cruzada(dummy, x_treino, y_treino, validador)\n",
        "\n",
        "\n"
      ]
    },
    {
      "cell_type": "code",
      "execution_count": null,
      "metadata": {
        "colab": {
          "base_uri": "https://localhost:8080/"
        },
        "id": "gOeqUz0T2Z6M",
        "outputId": "f3d99bda-c17c-4c82-80fe-56dbd98c7566"
      },
      "outputs": [
        {
          "output_type": "stream",
          "name": "stdout",
          "text": [
            "Média de Acurácia: 0.766, Desvio Acurácia: 0.01\n",
            "Média de Precisão: 0.743, Desvio Precisão: 0.009\n",
            "Média de Recall: 0.811, Devio Recall: 0.012\n",
            "Média de F1: 0.776, Devio Recall: 0.009\n",
            "----------------------------TESTES-----------------------\n",
            "Média Acurácia Teste: 0.76\n",
            "Média Precisão Teste: 0.75\n",
            "Média Recall Teste: 0.78\n"
          ]
        }
      ],
      "source": [
        "from sklearn.linear_model import LogisticRegression\n",
        "\n",
        "modelo_LR = LogisticRegression()\n",
        "resultados = cruzada(modelo_LR, x_treino, y_treino, validador)"
      ]
    },
    {
      "cell_type": "markdown",
      "metadata": {
        "id": "NvwNyrbC7jo3"
      },
      "source": [
        "#### Usando Feature Importance"
      ]
    },
    {
      "cell_type": "code",
      "execution_count": null,
      "metadata": {
        "colab": {
          "base_uri": "https://localhost:8080/",
          "height": 603
        },
        "id": "PR_e2vAk6xVO",
        "outputId": "de11167b-26f6-4022-e2cd-d04629520105"
      },
      "outputs": [
        {
          "output_type": "stream",
          "name": "stderr",
          "text": [
            "/usr/local/lib/python3.10/dist-packages/yellowbrick/model_selection/importances.py:194: YellowbrickWarning: detected multi-dimensional feature importances but stack=False, using mean to aggregate them.\n",
            "  warnings.warn(\n"
          ]
        },
        {
          "output_type": "display_data",
          "data": {
            "text/plain": [
              "<Figure size 800x550 with 1 Axes>"
            ],
            "image/png": "[encoded data removed]"
          },
          "metadata": {}
        },
        {
          "output_type": "execute_result",
          "data": {
            "text/plain": [
              "<Axes: title={'center': 'Feature Importances of 27 Features using LogisticRegression'}, xlabel='relative coefficient magnitude'>"
            ]
          },
          "metadata": {},
          "execution_count": 120
        }
      ],
      "source": [
        "from yellowbrick.model_selection import FeatureImportances\n",
        "viz = FeatureImportances(modelo_LR)\n",
        "viz.fit(x_treino, y_treino)\n",
        "viz.show()"
      ]
    },
    {
      "cell_type": "code",
      "execution_count": null,
      "metadata": {
        "colab": {
          "base_uri": "https://localhost:8080/",
          "height": 363
        },
        "id": "dAJIRI8z9E9S",
        "outputId": "34dcf8c1-1152-4f81-8651-13fa94661da9"
      },
      "outputs": [
        {
          "output_type": "execute_result",
          "data": {
            "text/plain": [
              "    feature  importances\n",
              "8         3    -4.935734\n",
              "9        13    -4.482205\n",
              "10        0    -4.248192\n",
              "11        4    -2.041511\n",
              "12        2    -1.296170\n",
              "13       15     0.873414\n",
              "14       10     1.017666\n",
              "15       12     1.108619\n",
              "16       21     2.203868\n",
              "17       22     4.414409"
            ],
            "text/html": [
              "\n",
              "  <div id=\"df-58b744f4-0c75-4eb3-b1dd-3f3a61140f33\" class=\"colab-df-container\">\n",
              "    <div>\n",
              "<style scoped>\n",
              "    .dataframe tbody tr th:only-of-type {\n",
              "        vertical-align: middle;\n",
              "    }\n",
              "\n",
              "    .dataframe tbody tr th {\n",
              "        vertical-align: top;\n",
              "    }\n",
              "\n",
              "    .dataframe thead th {\n",
              "        text-align: right;\n",
              "    }\n",
              "</style>\n",
              "<table border=\"1\" class=\"dataframe\">\n",
              "  <thead>\n",
              "    <tr style=\"text-align: right;\">\n",
              "      <th></th>\n",
              "      <th>feature</th>\n",
              "      <th>importances</th>\n",
              "    </tr>\n",
              "  </thead>\n",
              "  <tbody>\n",
              "    <tr>\n",
              "      <th>8</th>\n",
              "      <td>3</td>\n",
              "      <td>-4.935734</td>\n",
              "    </tr>\n",
              "    <tr>\n",
              "      <th>9</th>\n",
              "      <td>13</td>\n",
              "      <td>-4.482205</td>\n",
              "    </tr>\n",
              "    <tr>\n",
              "      <th>10</th>\n",
              "      <td>0</td>\n",
              "      <td>-4.248192</td>\n",
              "    </tr>\n",
              "    <tr>\n",
              "      <th>11</th>\n",
              "      <td>4</td>\n",
              "      <td>-2.041511</td>\n",
              "    </tr>\n",
              "    <tr>\n",
              "      <th>12</th>\n",
              "      <td>2</td>\n",
              "      <td>-1.296170</td>\n",
              "    </tr>\n",
              "    <tr>\n",
              "      <th>13</th>\n",
              "      <td>15</td>\n",
              "      <td>0.873414</td>\n",
              "    </tr>\n",
              "    <tr>\n",
              "      <th>14</th>\n",
              "      <td>10</td>\n",
              "      <td>1.017666</td>\n",
              "    </tr>\n",
              "    <tr>\n",
              "      <th>15</th>\n",
              "      <td>12</td>\n",
              "      <td>1.108619</td>\n",
              "    </tr>\n",
              "    <tr>\n",
              "      <th>16</th>\n",
              "      <td>21</td>\n",
              "      <td>2.203868</td>\n",
              "    </tr>\n",
              "    <tr>\n",
              "      <th>17</th>\n",
              "      <td>22</td>\n",
              "      <td>4.414409</td>\n",
              "    </tr>\n",
              "  </tbody>\n",
              "</table>\n",
              "</div>\n",
              "    <div class=\"colab-df-buttons\">\n",
              "\n",
              "  <div class=\"colab-df-container\">\n",
              "    <button class=\"colab-df-convert\" onclick=\"convertToInteractive('df-58b744f4-0c75-4eb3-b1dd-3f3a61140f33')\"\n",
              "            title=\"Convert this dataframe to an interactive table.\"\n",
              "            style=\"display:none;\">\n",
              "\n",
              "  <svg xmlns=\"http://www.w3.org/2000/svg\" height=\"24px\" viewBox=\"0 -960 960 960\">\n",
              "    <path d=\"M120-120v-720h720v720H120Zm60-500h600v-160H180v160Zm220 220h160v-160H400v160Zm0 220h160v-160H400v160ZM180-400h160v-160H180v160Zm440 0h160v-160H620v160ZM180-180h160v-160H180v160Zm440 0h160v-160H620v160Z\"/>\n",
              "  </svg>\n",
              "    </button>\n",
              "\n",
              "  <style>\n",
              "    .colab-df-container {\n",
              "      display:flex;\n",
              "      gap: 12px;\n",
              "    }\n",
              "\n",
              "    .colab-df-convert {\n",
              "      background-color: #E8F0FE;\n",
              "      border: none;\n",
              "      border-radius: 50%;\n",
              "      cursor: pointer;\n",
              "      display: none;\n",
              "      fill: #1967D2;\n",
              "      height: 32px;\n",
              "      padding: 0 0 0 0;\n",
              "      width: 32px;\n",
              "    }\n",
              "\n",
              "    .colab-df-convert:hover {\n",
              "      background-color: #E2EBFA;\n",
              "      box-shadow: 0px 1px 2px rgba(60, 64, 67, 0.3), 0px 1px 3px 1px rgba(60, 64, 67, 0.15);\n",
              "      fill: #174EA6;\n",
              "    }\n",
              "\n",
              "    .colab-df-buttons div {\n",
              "      margin-bottom: 4px;\n",
              "    }\n",
              "\n",
              "    [theme=dark] .colab-df-convert {\n",
              "      background-color: #3B4455;\n",
              "      fill: #D2E3FC;\n",
              "    }\n",
              "\n",
              "    [theme=dark] .colab-df-convert:hover {\n",
              "      background-color: #434B5C;\n",
              "      box-shadow: 0px 1px 3px 1px rgba(0, 0, 0, 0.15);\n",
              "      filter: drop-shadow(0px 1px 2px rgba(0, 0, 0, 0.3));\n",
              "      fill: #FFFFFF;\n",
              "    }\n",
              "  </style>\n",
              "\n",
              "    <script>\n",
              "      const buttonEl =\n",
              "        document.querySelector('#df-58b744f4-0c75-4eb3-b1dd-3f3a61140f33 button.colab-df-convert');\n",
              "      buttonEl.style.display =\n",
              "        google.colab.kernel.accessAllowed ? 'block' : 'none';\n",
              "\n",
              "      async function convertToInteractive(key) {\n",
              "        const element = document.querySelector('#df-58b744f4-0c75-4eb3-b1dd-3f3a61140f33');\n",
              "        const dataTable =\n",
              "          await google.colab.kernel.invokeFunction('convertToInteractive',\n",
              "                                                    [key], {});\n",
              "        if (!dataTable) return;\n",
              "\n",
              "        const docLinkHtml = 'Like what you see? Visit the ' +\n",
              "          '<a target=\"_blank\" href=https://colab.research.google.com/notebooks/data_table.ipynb>data table notebook</a>'\n",
              "          + ' to learn more about interactive tables.';\n",
              "        element.innerHTML = '';\n",
              "        dataTable['output_type'] = 'display_data';\n",
              "        await google.colab.output.renderOutput(dataTable, element);\n",
              "        const docLink = document.createElement('div');\n",
              "        docLink.innerHTML = docLinkHtml;\n",
              "        element.appendChild(docLink);\n",
              "      }\n",
              "    </script>\n",
              "  </div>\n",
              "\n",
              "\n",
              "<div id=\"df-a53ddb32-2711-42ed-8e66-9a8c4f9de5e0\">\n",
              "  <button class=\"colab-df-quickchart\" onclick=\"quickchart('df-a53ddb32-2711-42ed-8e66-9a8c4f9de5e0')\"\n",
              "            title=\"Suggest charts.\"\n",
              "            style=\"display:none;\">\n",
              "\n",
              "<svg xmlns=\"http://www.w3.org/2000/svg\" height=\"24px\"viewBox=\"0 0 24 24\"\n",
              "     width=\"24px\">\n",
              "    <g>\n",
              "        <path d=\"M19 3H5c-1.1 0-2 .9-2 2v14c0 1.1.9 2 2 2h14c1.1 0 2-.9 2-2V5c0-1.1-.9-2-2-2zM9 17H7v-7h2v7zm4 0h-2V7h2v10zm4 0h-2v-4h2v4z\"/>\n",
              "    </g>\n",
              "</svg>\n",
              "  </button>\n",
              "\n",
              "<style>\n",
              "  .colab-df-quickchart {\n",
              "      --bg-color: #E8F0FE;\n",
              "      --fill-color: #1967D2;\n",
              "      --hover-bg-color: #E2EBFA;\n",
              "      --hover-fill-color: #174EA6;\n",
              "      --disabled-fill-color: #AAA;\n",
              "      --disabled-bg-color: #DDD;\n",
              "  }\n",
              "\n",
              "  [theme=dark] .colab-df-quickchart {\n",
              "      --bg-color: #3B4455;\n",
              "      --fill-color: #D2E3FC;\n",
              "      --hover-bg-color: #434B5C;\n",
              "      --hover-fill-color: #FFFFFF;\n",
              "      --disabled-bg-color: #3B4455;\n",
              "      --disabled-fill-color: #666;\n",
              "  }\n",
              "\n",
              "  .colab-df-quickchart {\n",
              "    background-color: var(--bg-color);\n",
              "    border: none;\n",
              "    border-radius: 50%;\n",
              "    cursor: pointer;\n",
              "    display: none;\n",
              "    fill: var(--fill-color);\n",
              "    height: 32px;\n",
              "    padding: 0;\n",
              "    width: 32px;\n",
              "  }\n",
              "\n",
              "  .colab-df-quickchart:hover {\n",
              "    background-color: var(--hover-bg-color);\n",
              "    box-shadow: 0 1px 2px rgba(60, 64, 67, 0.3), 0 1px 3px 1px rgba(60, 64, 67, 0.15);\n",
              "    fill: var(--button-hover-fill-color);\n",
              "  }\n",
              "\n",
              "  .colab-df-quickchart-complete:disabled,\n",
              "  .colab-df-quickchart-complete:disabled:hover {\n",
              "    background-color: var(--disabled-bg-color);\n",
              "    fill: var(--disabled-fill-color);\n",
              "    box-shadow: none;\n",
              "  }\n",
              "\n",
              "  .colab-df-spinner {\n",
              "    border: 2px solid var(--fill-color);\n",
              "    border-color: transparent;\n",
              "    border-bottom-color: var(--fill-color);\n",
              "    animation:\n",
              "      spin 1s steps(1) infinite;\n",
              "  }\n",
              "\n",
              "  @keyframes spin {\n",
              "    0% {\n",
              "      border-color: transparent;\n",
              "      border-bottom-color: var(--fill-color);\n",
              "      border-left-color: var(--fill-color);\n",
              "    }\n",
              "    20% {\n",
              "      border-color: transparent;\n",
              "      border-left-color: var(--fill-color);\n",
              "      border-top-color: var(--fill-color);\n",
              "    }\n",
              "    30% {\n",
              "      border-color: transparent;\n",
              "      border-left-color: var(--fill-color);\n",
              "      border-top-color: var(--fill-color);\n",
              "      border-right-color: var(--fill-color);\n",
              "    }\n",
              "    40% {\n",
              "      border-color: transparent;\n",
              "      border-right-color: var(--fill-color);\n",
              "      border-top-color: var(--fill-color);\n",
              "    }\n",
              "    60% {\n",
              "      border-color: transparent;\n",
              "      border-right-color: var(--fill-color);\n",
              "    }\n",
              "    80% {\n",
              "      border-color: transparent;\n",
              "      border-right-color: var(--fill-color);\n",
              "      border-bottom-color: var(--fill-color);\n",
              "    }\n",
              "    90% {\n",
              "      border-color: transparent;\n",
              "      border-bottom-color: var(--fill-color);\n",
              "    }\n",
              "  }\n",
              "</style>\n",
              "\n",
              "  <script>\n",
              "    async function quickchart(key) {\n",
              "      const quickchartButtonEl =\n",
              "        document.querySelector('#' + key + ' button');\n",
              "      quickchartButtonEl.disabled = true;  // To prevent multiple clicks.\n",
              "      quickchartButtonEl.classList.add('colab-df-spinner');\n",
              "      try {\n",
              "        const charts = await google.colab.kernel.invokeFunction(\n",
              "            'suggestCharts', [key], {});\n",
              "      } catch (error) {\n",
              "        console.error('Error during call to suggestCharts:', error);\n",
              "      }\n",
              "      quickchartButtonEl.classList.remove('colab-df-spinner');\n",
              "      quickchartButtonEl.classList.add('colab-df-quickchart-complete');\n",
              "    }\n",
              "    (() => {\n",
              "      let quickchartButtonEl =\n",
              "        document.querySelector('#df-a53ddb32-2711-42ed-8e66-9a8c4f9de5e0 button');\n",
              "      quickchartButtonEl.style.display =\n",
              "        google.colab.kernel.accessAllowed ? 'block' : 'none';\n",
              "    })();\n",
              "  </script>\n",
              "</div>\n",
              "    </div>\n",
              "  </div>\n"
            ]
          },
          "metadata": {},
          "execution_count": 121
        }
      ],
      "source": [
        "df_importances = pd.DataFrame({'feature':viz.features_, 'importances':viz.feature_importances_})\n",
        "df_importances.query(\"importances > -5 and importances <5\")"
      ]
    },
    {
      "cell_type": "code",
      "execution_count": null,
      "metadata": {
        "colab": {
          "base_uri": "https://localhost:8080/"
        },
        "id": "Werc4-n_93ir",
        "outputId": "58049e38-987e-47b4-8f31-02e14a6a2eff"
      },
      "outputs": [
        {
          "output_type": "execute_result",
          "data": {
            "text/plain": [
              "array([ 7, 23, 20,  3, 13,  0,  4,  2, 15, 10, 12, 21, 22, 11,  1, 17, 16])"
            ]
          },
          "metadata": {},
          "execution_count": 122
        }
      ],
      "source": [
        "posicoes_retirar = df_importances.query(\"importances > -15 and importances <15\")['feature'].values\n",
        "posicoes_retirar"
      ]
    },
    {
      "cell_type": "code",
      "execution_count": null,
      "metadata": {
        "id": "EUgNUuVD8kN5"
      },
      "outputs": [],
      "source": [
        "x_treino_novo = np.delete(x_treino, posicoes_retirar, axis = 1)"
      ]
    },
    {
      "cell_type": "code",
      "execution_count": null,
      "metadata": {
        "colab": {
          "base_uri": "https://localhost:8080/"
        },
        "id": "AoI3KKk5-HsV",
        "outputId": "4275756b-006d-4b7a-93a4-d24d5fd506a3"
      },
      "outputs": [
        {
          "output_type": "stream",
          "name": "stdout",
          "text": [
            "Média de Acurácia: 0.762, Desvio Acurácia: 0.012\n",
            "Média de Precisão: 0.741, Desvio Precisão: 0.011\n",
            "Média de Recall: 0.805, Devio Recall: 0.013\n",
            "Média de F1: 0.771, Devio Recall: 0.011\n",
            "----------------------------TESTES-----------------------\n",
            "Média Acurácia Teste: 0.76\n",
            "Média Precisão Teste: 0.75\n",
            "Média Recall Teste: 0.78\n"
          ]
        }
      ],
      "source": [
        "resultados = cruzada(modelo_LR, x_treino_novo, y_treino, validador)"
      ]
    },
    {
      "cell_type": "code",
      "execution_count": null,
      "metadata": {
        "colab": {
          "base_uri": "https://localhost:8080/",
          "height": 603
        },
        "id": "sNpKW6GM-OyA",
        "outputId": "af5c28d5-7dea-490d-d88f-4ebe0bc1331a"
      },
      "outputs": [
        {
          "output_type": "stream",
          "name": "stderr",
          "text": [
            "/usr/local/lib/python3.10/dist-packages/yellowbrick/model_selection/importances.py:194: YellowbrickWarning: detected multi-dimensional feature importances but stack=False, using mean to aggregate them.\n",
            "  warnings.warn(\n"
          ]
        },
        {
          "output_type": "display_data",
          "data": {
            "text/plain": [
              "<Figure size 800x550 with 1 Axes>"
            ],
            "image/png": "[encoded data removed]"
          },
          "metadata": {}
        },
        {
          "output_type": "execute_result",
          "data": {
            "text/plain": [
              "<Axes: title={'center': 'Feature Importances of 10 Features using LogisticRegression'}, xlabel='relative coefficient magnitude'>"
            ]
          },
          "metadata": {},
          "execution_count": 125
        }
      ],
      "source": [
        "modelo_LR = LogisticRegression()\n",
        "viz = FeatureImportances(modelo_LR)\n",
        "viz.fit(x_treino_novo, y_treino)\n",
        "viz.show()"
      ]
    },
    {
      "cell_type": "markdown",
      "metadata": {
        "id": "yBcCojrt-p1d"
      },
      "source": [
        "* Não estou vendo diferença entre retirar features com menores coeficientes de magnitude.\n",
        "\n",
        "\n",
        "\n",
        "> Resultado da BaseLine será o do Regressão Logística:\n",
        "\n",
        "----------------------------TESTES-----------------------\n",
        "\n",
        "Média Acurácia Teste: 0.76\n",
        "\n",
        "Média Precisão Teste: 0.75\n",
        "\n",
        "Média Recall Teste: 0.78\n"
      ]
    },
    {
      "cell_type": "markdown",
      "metadata": {
        "id": "4eV-Pw1vwxqj"
      },
      "source": [
        "#### Qual a melhor métrica para utilizar?\n",
        "* Precision = $\\frac{TP}{TP + FP}$ -  Tem foco em dizer quão bem o modelo classifica como positivo.\n",
        "* Recall = $\\frac{TP}{TP + FN}$ -  Tem foco em dizer quão bem o modelo encontra todos os positivos.\n",
        "* F1_score = $2  \\frac{precision * recall}{precision + recall}$ - É a média harmônica entre precision e recall.\n",
        "\n",
        "**Objetivo**: Classificar qual cliente é um possível evasor. Neste caso é melhor classificar menos FN, porque assim perderemos clientes.\n",
        "\n",
        "Classificar menos FP significa que não teremos muita dúvida ao classifica um cliente de evasor, porém teremos dúvida quanto a classificá-lo como não evasor.\n",
        "\n",
        "**Melhor Métrica:** Vou utilizar o Recall para diminuir os Falsos Negativos"
      ]
    },
    {
      "cell_type": "markdown",
      "metadata": {
        "id": "G1Qxzld1HGav"
      },
      "source": [
        "## Treinar os Modelos\n",
        "\n",
        "1. DecisionTreeClassifier\n",
        "2. AdaBoost\n",
        "3. BernoulliNB\n",
        "\n",
        "\n",
        "Média Acurácia Teste: 0.76\n",
        "\n",
        "Média Precisão Teste: 0.75\n",
        "\n",
        "Média Recall Teste: 0.78\n"
      ]
    },
    {
      "cell_type": "markdown",
      "metadata": {
        "id": "bz38wZz_HuSi"
      },
      "source": [
        "### DecisionTree"
      ]
    },
    {
      "cell_type": "code",
      "execution_count": null,
      "metadata": {
        "colab": {
          "base_uri": "https://localhost:8080/"
        },
        "id": "PsBXj-wm--bQ",
        "outputId": "64e24515-2b40-4846-d6f7-866f45b02bd0"
      },
      "outputs": [
        {
          "output_type": "stream",
          "name": "stdout",
          "text": [
            "Média de Acurácia: 0.844, Desvio Acurácia: 0.01\n",
            "Média de Precisão: 0.803, Desvio Precisão: 0.013\n",
            "Média de Recall: 0.91, Devio Recall: 0.01\n",
            "Média de F1: 0.853, Devio Recall: 0.01\n",
            "----------------------------TESTES-----------------------\n",
            "Média Acurácia Teste: 0.72\n",
            "Média Precisão Teste: 0.72\n",
            "Média Recall Teste: 0.73\n"
          ]
        }
      ],
      "source": [
        "from sklearn.tree import DecisionTreeClassifier\n",
        "modelo_DT = DecisionTreeClassifier(random_state = 42)\n",
        "\n",
        "resultados = cruzada(modelo_DT, x_treino, y_treino, validador)"
      ]
    },
    {
      "cell_type": "markdown",
      "metadata": {
        "id": "sOsRDT_LLQlI"
      },
      "source": [
        "1. Treino está bem menor do que o teste. Overfitting\n",
        "2. Valor de teste menor que a baseline"
      ]
    },
    {
      "cell_type": "markdown",
      "metadata": {
        "id": "DtD6qA6mHxXL"
      },
      "source": [
        "### AdaBoost"
      ]
    },
    {
      "cell_type": "code",
      "execution_count": null,
      "metadata": {
        "colab": {
          "base_uri": "https://localhost:8080/"
        },
        "id": "1pkCvQjmHyZu",
        "outputId": "05efbda6-1c4d-4fe6-a5ef-2cdcf6f38a38"
      },
      "outputs": [
        {
          "output_type": "stream",
          "name": "stdout",
          "text": [
            "Média de Acurácia: 0.774, Desvio Acurácia: 0.008\n",
            "Média de Precisão: 0.75, Desvio Precisão: 0.013\n",
            "Média de Recall: 0.821, Devio Recall: 0.016\n",
            "Média de F1: 0.783, Devio Recall: 0.01\n",
            "----------------------------TESTES-----------------------\n",
            "Média Acurácia Teste: 0.76\n",
            "Média Precisão Teste: 0.74\n",
            "Média Recall Teste: 0.79\n"
          ]
        }
      ],
      "source": [
        "from sklearn.ensemble import AdaBoostClassifier\n",
        "modelo_AB = AdaBoostClassifier(random_state = 42)\n",
        "\n",
        "resultados = cruzada(modelo_AB, x_treino, y_treino, validador)"
      ]
    },
    {
      "cell_type": "markdown",
      "metadata": {
        "id": "7Y0PaQzSLcP6"
      },
      "source": [
        "1. Treino está bem menor do que o teste\n",
        "2. Valor de teste igual que a baseline\n",
        "\n",
        "\n"
      ]
    },
    {
      "cell_type": "markdown",
      "metadata": {
        "id": "IWXam6BSHy1w"
      },
      "source": [
        "### Bernoulli\n",
        "\n",
        "* Funciona melhor em dados menos e binários. Para dados não binários há uma transformação em dados binários."
      ]
    },
    {
      "cell_type": "code",
      "execution_count": null,
      "metadata": {
        "colab": {
          "base_uri": "https://localhost:8080/"
        },
        "id": "66J4NPKKH1Dr",
        "outputId": "307b4d99-e409-42d0-c375-f034f1d0a039"
      },
      "outputs": [
        {
          "output_type": "stream",
          "name": "stdout",
          "text": [
            "Média de Acurácia: 0.752, Desvio Acurácia: 0.013\n",
            "Média de Precisão: 0.746, Desvio Precisão: 0.011\n",
            "Média de Recall: 0.761, Devio Recall: 0.019\n",
            "Média de F1: 0.754, Devio Recall: 0.014\n",
            "----------------------------TESTES-----------------------\n",
            "Média Acurácia Teste: 0.75\n",
            "Média Precisão Teste: 0.75\n",
            "Média Recall Teste: 0.74\n"
          ]
        }
      ],
      "source": [
        "from sklearn.naive_bayes  import BernoulliNB\n",
        "modelo_NB = BernoulliNB()\n",
        "\n",
        "resultados = cruzada(modelo_NB, x_treino, y_treino, validador)"
      ]
    },
    {
      "cell_type": "markdown",
      "metadata": {
        "id": "4CA0v4RvLf9F"
      },
      "source": [
        "1. Treino está bem igual do que o teste\n",
        "2. Valor de teste igual que a baseline"
      ]
    },
    {
      "cell_type": "markdown",
      "metadata": {
        "id": "esnCyJYdJoHg"
      },
      "source": [
        "### SVC"
      ]
    },
    {
      "cell_type": "code",
      "execution_count": null,
      "metadata": {
        "colab": {
          "base_uri": "https://localhost:8080/"
        },
        "id": "W_hbstoGIJkm",
        "outputId": "535ef278-2e6a-4649-8369-b7fd9524a917"
      },
      "outputs": [
        {
          "output_type": "stream",
          "name": "stdout",
          "text": [
            "Média de Acurácia: 0.785, Desvio Acurácia: 0.007\n",
            "Média de Precisão: 0.759, Desvio Precisão: 0.009\n",
            "Média de Recall: 0.834, Devio Recall: 0.009\n",
            "Média de F1: 0.795, Devio Recall: 0.006\n",
            "----------------------------TESTES-----------------------\n",
            "Média Acurácia Teste: 0.73\n",
            "Média Precisão Teste: 0.72\n",
            "Média Recall Teste: 0.77\n"
          ]
        }
      ],
      "source": [
        "from sklearn.svm import SVC\n",
        "modelo_SVC = SVC(random_state = 42)\n",
        "\n",
        "resultados = cruzada(modelo_SVC, x_treino, y_treino, validador)"
      ]
    },
    {
      "cell_type": "markdown",
      "metadata": {
        "id": "vWF1j6foL1IJ"
      },
      "source": [
        "1. Treino está maior do que o teste\n",
        "2. Valor de teste menor que a baseline"
      ]
    },
    {
      "cell_type": "markdown",
      "metadata": {
        "id": "BieiSGKvRC_G"
      },
      "source": [
        "#### RandomForest"
      ]
    },
    {
      "cell_type": "code",
      "execution_count": null,
      "metadata": {
        "colab": {
          "base_uri": "https://localhost:8080/"
        },
        "id": "8GFSfF5ZO0rC",
        "outputId": "317a51ed-5f78-4820-d0a5-00ed9dc0bdb6"
      },
      "outputs": [
        {
          "output_type": "stream",
          "name": "stdout",
          "text": [
            "Média de Acurácia: 0.871, Desvio Acurácia: 0.008\n",
            "Média de Precisão: 0.833, Desvio Precisão: 0.008\n",
            "Média de Recall: 0.928, Devio Recall: 0.008\n",
            "Média de F1: 0.878, Devio Recall: 0.007\n",
            "----------------------------TESTES-----------------------\n",
            "Média Acurácia Teste: 0.78\n",
            "Média Precisão Teste: 0.76\n",
            "Média Recall Teste: 0.8\n"
          ]
        }
      ],
      "source": [
        "from sklearn.ensemble import RandomForestClassifier\n",
        "modelo_RF = RandomForestClassifier(random_state = 42)\n",
        "\n",
        "resultados = cruzada(modelo_RF, x_treino, y_treino, validador)\n"
      ]
    },
    {
      "cell_type": "markdown",
      "metadata": {
        "id": "SoCrAdQVQKug"
      },
      "source": [
        "1. Overfitting\n",
        "2. Menor que baseline"
      ]
    },
    {
      "cell_type": "markdown",
      "metadata": {
        "id": "UWMwJVBjRExs"
      },
      "source": [
        "#### GradientBoosting"
      ]
    },
    {
      "cell_type": "code",
      "execution_count": null,
      "metadata": {
        "colab": {
          "base_uri": "https://localhost:8080/"
        },
        "id": "qQZwSqL3O0fu",
        "outputId": "483a4390-0e70-4401-c65d-876c967b4d71"
      },
      "outputs": [
        {
          "output_type": "stream",
          "name": "stdout",
          "text": [
            "Média de Acurácia: 0.785, Desvio Acurácia: 0.011\n",
            "Média de Precisão: 0.761, Desvio Precisão: 0.014\n",
            "Média de Recall: 0.831, Devio Recall: 0.016\n",
            "Média de F1: 0.794, Devio Recall: 0.012\n",
            "----------------------------TESTES-----------------------\n",
            "Média Acurácia Teste: 0.75\n",
            "Média Precisão Teste: 0.73\n",
            "Média Recall Teste: 0.79\n"
          ]
        }
      ],
      "source": [
        "from sklearn.ensemble import GradientBoostingClassifier\n",
        "modelo_GB = GradientBoostingClassifier(random_state = 42)\n",
        "\n",
        "resultados = cruzada(modelo_GB, x_treino, y_treino, validador)\n"
      ]
    },
    {
      "cell_type": "code",
      "source": [
        "modelos = ['svc', 'decision tree', 'random forest']\n",
        "y_pred_treinos = [svc.predict(X_treino), dtree.predict(X_treino), rforest.predict(X_treino)]\n",
        "y_pred_testes = [y_pred_svc, y_pred_dt, y_pred_rf]"
      ],
      "metadata": {
        "id": "PP998va9JhO3"
      },
      "execution_count": null,
      "outputs": []
    },
    {
      "cell_type": "markdown",
      "metadata": {
        "id": "UTl7Dqz6EhkE"
      },
      "source": [
        "### Métrica por Bussines\n",
        "\n",
        "A métrica por Bussines funciona associando o valor de perda de dinheiro por cliente dado como falso negativo, e associando retenção de dinheiro ao cliente dado por Verdadeiro Positivo.\n",
        "\n",
        "Se o modelo classificar um evasor como não evasor(FN) perdemos 100% do gasto desse cliente. Se o modelo classificar um evasor como evasor (TP) então temos a chance de manter o cliente.\n",
        "\n",
        "\\$ perdido =  $\\frac{\\$(FN)}{\\$(TN + FN)}$\n",
        "\n",
        "\\$ recuperado =  $\\frac{\\$(TP)}{\\$(TP + FP)}$"
      ]
    },
    {
      "cell_type": "code",
      "execution_count": null,
      "metadata": {
        "id": "BY4cXviKNL1W"
      },
      "outputs": [],
      "source": [
        "def metrica_bussines(modelo):\n",
        "  modelo.fit(x_treino, y_treino)\n",
        "  predito = modelo.predict(x_teste)\n",
        "  conf_matrix = confusion_matrix(y_teste, predito)\n",
        "  TN, FP, FN, TP = conf_matrix.ravel()\n",
        "\n",
        "  # Calculando a FNR\n",
        "  taxa_perdido= round(100*FN / (FN + TN),2)\n",
        "  taxa_recuperado = round(100*TP/ (TP + FP), 2)\n",
        "  print(f'taxa perdido: {taxa_perdido} \\ntaxa recuperado: {taxa_recuperado}')"
      ]
    },
    {
      "cell_type": "code",
      "execution_count": null,
      "metadata": {
        "colab": {
          "base_uri": "https://localhost:8080/"
        },
        "id": "m19qbf7xNv35",
        "outputId": "1d92ae03-3273-4965-8881-2b847414f0c5"
      },
      "outputs": [
        {
          "output_type": "stream",
          "name": "stdout",
          "text": [
            "taxa perdido: 20.45 \n",
            "taxa recuperado: 73.82\n"
          ]
        }
      ],
      "source": [
        "# LogisticRegression\n",
        "metrica_bussines(modelo_LR)"
      ]
    },
    {
      "cell_type": "code",
      "execution_count": null,
      "metadata": {
        "colab": {
          "base_uri": "https://localhost:8080/"
        },
        "id": "v0S8enW4Iuck",
        "outputId": "35ed43a8-019a-4ba1-eade-7a06d40ae36c"
      },
      "outputs": [
        {
          "output_type": "stream",
          "name": "stdout",
          "text": [
            "taxa perdido: 8.09 \n",
            "taxa recuperado: 82.0\n"
          ]
        }
      ],
      "source": [
        "# Decision Tree\n",
        "metrica_bussines(modelo_DT)\n"
      ]
    },
    {
      "cell_type": "code",
      "execution_count": null,
      "metadata": {
        "colab": {
          "base_uri": "https://localhost:8080/"
        },
        "id": "lyJuIvdaK_E7",
        "outputId": "3c5add8c-0304-43f4-e32f-9267e21a02dd"
      },
      "outputs": [
        {
          "output_type": "stream",
          "name": "stdout",
          "text": [
            "taxa perdido: 20.31 \n",
            "taxa recuperado: 74.91\n"
          ]
        }
      ],
      "source": [
        "#AdaBoost\n",
        "metrica_bussines(modelo_AB)"
      ]
    },
    {
      "cell_type": "code",
      "execution_count": null,
      "metadata": {
        "colab": {
          "base_uri": "https://localhost:8080/"
        },
        "id": "T_ufoIMALHby",
        "outputId": "39d5fabf-6ac5-44a4-f40f-72a7f1fdda88"
      },
      "outputs": [
        {
          "output_type": "stream",
          "name": "stdout",
          "text": [
            "taxa perdido: 25.0 \n",
            "taxa recuperado: 75.0\n"
          ]
        }
      ],
      "source": [
        "#Bernoulli\n",
        "metrica_bussines(modelo_NB)"
      ]
    },
    {
      "cell_type": "code",
      "execution_count": null,
      "metadata": {
        "colab": {
          "base_uri": "https://localhost:8080/"
        },
        "id": "jc-3joXzLKRH",
        "outputId": "1981b867-2573-4326-e66a-3ae7b8cbd765"
      },
      "outputs": [
        {
          "output_type": "stream",
          "name": "stdout",
          "text": [
            "taxa perdido: 18.23 \n",
            "taxa recuperado: 75.53\n"
          ]
        }
      ],
      "source": [
        "#SVC\n",
        "metrica_bussines(modelo_SVC)"
      ]
    },
    {
      "cell_type": "code",
      "execution_count": null,
      "metadata": {
        "colab": {
          "base_uri": "https://localhost:8080/"
        },
        "id": "RoLdKdhPQczS",
        "outputId": "05f6f613-8781-4a0f-b981-ac0536ac79c0"
      },
      "outputs": [
        {
          "output_type": "stream",
          "name": "stdout",
          "text": [
            "taxa perdido: 5.47 \n",
            "taxa recuperado: 85.41\n"
          ]
        }
      ],
      "source": [
        "metrica_bussines(modelo_RF)"
      ]
    },
    {
      "cell_type": "code",
      "execution_count": null,
      "metadata": {
        "colab": {
          "base_uri": "https://localhost:8080/"
        },
        "id": "jMvJ2aIsQcsr",
        "outputId": "7fa84ec7-7ecd-494b-fd5a-f81a05760598"
      },
      "outputs": [
        {
          "output_type": "stream",
          "name": "stdout",
          "text": [
            "taxa perdido: 18.67 \n",
            "taxa recuperado: 75.5\n"
          ]
        }
      ],
      "source": [
        "metrica_bussines(modelo_GB)"
      ]
    },
    {
      "cell_type": "markdown",
      "metadata": {
        "id": "E35vW-drPuS0"
      },
      "source": [
        "# Otimização do Modelo Random Forest\n",
        "O melhor modelo dada a métrica de Bussines:**Random Forest Classfier**\n",
        "\n",
        "Este modelo será otimizado a seguir.\n",
        "\n",
        "Média Acurácia Teste: 0.77\n",
        "\n",
        "Média Precisão Teste: 0.77\n",
        "\n",
        "Média Recall Teste: 0.78\n",
        "\n",
        "taxa perdido: 5.2\n",
        "\n",
        "taxa recuperado: 85.35"
      ]
    },
    {
      "cell_type": "code",
      "execution_count": null,
      "metadata": {
        "id": "hY2KH8CFMjDv"
      },
      "outputs": [],
      "source": [
        "from sklearn.model_selection import GridSearchCV\n",
        "SEED=42\n",
        "np.random.seed(SEED)\n",
        "# Colocar os default\n",
        "espaco_de_parametros = {\n",
        "    \"criterion\" : ['gini'],\n",
        "    \"n_estimators\": [ 96,94,90 ],\n",
        "    \"min_samples_split\": [2, 3, 4],\n",
        "    \"min_samples_leaf\": [1,2,3],\n",
        "    \"max_depth\":[None, 6,8,12],\n",
        "    \"bootstrap\":[True, False],\n",
        "    \"min_impurity_decrease\": [0,0.1],}\n",
        "\n",
        "\n",
        "\n",
        "\n",
        "busca = GridSearchCV(modelo_RF,\n",
        "                    espaco_de_parametros,\n",
        "                    cv = validador)\n",
        "\n",
        "busca.fit(x_treino, y_treino)"
      ]
    },
    {
      "cell_type": "markdown",
      "source": [
        "1. Primeira busca resultou em modelo Default como o melhor"
      ],
      "metadata": {
        "id": "Cw1IQ4Q8BLNL"
      }
    },
    {
      "cell_type": "code",
      "execution_count": null,
      "metadata": {
        "id": "9XN-doeORSN_",
        "colab": {
          "base_uri": "https://localhost:8080/",
          "height": 127
        },
        "outputId": "7ba05712-9740-4337-a378-55b17c5fc18b"
      },
      "outputs": [
        {
          "output_type": "stream",
          "name": "stdout",
          "text": [
            "{'bootstrap': False, 'criterion': 'gini', 'max_depth': None, 'min_impurity_decrease': 0, 'min_samples_leaf': 1, 'min_samples_split': 4, 'n_estimators': 100}\n",
            "87.83536202694222\n"
          ]
        },
        {
          "output_type": "execute_result",
          "data": {
            "text/plain": [
              "RandomForestClassifier(bootstrap=False, min_impurity_decrease=0,\n",
              "                       min_samples_split=4, random_state=42)"
            ],
            "text/html": [
              "<style>#sk-container-id-28 {color: black;background-color: white;}#sk-container-id-28 pre{padding: 0;}#sk-container-id-28 div.sk-toggleable {background-color: white;}#sk-container-id-28 label.sk-toggleable__label {cursor: pointer;display: block;width: 100%;margin-bottom: 0;padding: 0.3em;box-sizing: border-box;text-align: center;}#sk-container-id-28 label.sk-toggleable__label-arrow:before {content: \"▸\";float: left;margin-right: 0.25em;color: #696969;}#sk-container-id-28 label.sk-toggleable__label-arrow:hover:before {color: black;}#sk-container-id-28 div.sk-estimator:hover label.sk-toggleable__label-arrow:before {color: black;}#sk-container-id-28 div.sk-toggleable__content {max-height: 0;max-width: 0;overflow: hidden;text-align: left;background-color: #f0f8ff;}#sk-container-id-28 div.sk-toggleable__content pre {margin: 0.2em;color: black;border-radius: 0.25em;background-color: #f0f8ff;}#sk-container-id-28 input.sk-toggleable__control:checked~div.sk-toggleable__content {max-height: 200px;max-width: 100%;overflow: auto;}#sk-container-id-28 input.sk-toggleable__control:checked~label.sk-toggleable__label-arrow:before {content: \"▾\";}#sk-container-id-28 div.sk-estimator input.sk-toggleable__control:checked~label.sk-toggleable__label {background-color: #d4ebff;}#sk-container-id-28 div.sk-label input.sk-toggleable__control:checked~label.sk-toggleable__label {background-color: #d4ebff;}#sk-container-id-28 input.sk-hidden--visually {border: 0;clip: rect(1px 1px 1px 1px);clip: rect(1px, 1px, 1px, 1px);height: 1px;margin: -1px;overflow: hidden;padding: 0;position: absolute;width: 1px;}#sk-container-id-28 div.sk-estimator {font-family: monospace;background-color: #f0f8ff;border: 1px dotted black;border-radius: 0.25em;box-sizing: border-box;margin-bottom: 0.5em;}#sk-container-id-28 div.sk-estimator:hover {background-color: #d4ebff;}#sk-container-id-28 div.sk-parallel-item::after {content: \"\";width: 100%;border-bottom: 1px solid gray;flex-grow: 1;}#sk-container-id-28 div.sk-label:hover label.sk-toggleable__label {background-color: #d4ebff;}#sk-container-id-28 div.sk-serial::before {content: \"\";position: absolute;border-left: 1px solid gray;box-sizing: border-box;top: 0;bottom: 0;left: 50%;z-index: 0;}#sk-container-id-28 div.sk-serial {display: flex;flex-direction: column;align-items: center;background-color: white;padding-right: 0.2em;padding-left: 0.2em;position: relative;}#sk-container-id-28 div.sk-item {position: relative;z-index: 1;}#sk-container-id-28 div.sk-parallel {display: flex;align-items: stretch;justify-content: center;background-color: white;position: relative;}#sk-container-id-28 div.sk-item::before, #sk-container-id-28 div.sk-parallel-item::before {content: \"\";position: absolute;border-left: 1px solid gray;box-sizing: border-box;top: 0;bottom: 0;left: 50%;z-index: -1;}#sk-container-id-28 div.sk-parallel-item {display: flex;flex-direction: column;z-index: 1;position: relative;background-color: white;}#sk-container-id-28 div.sk-parallel-item:first-child::after {align-self: flex-end;width: 50%;}#sk-container-id-28 div.sk-parallel-item:last-child::after {align-self: flex-start;width: 50%;}#sk-container-id-28 div.sk-parallel-item:only-child::after {width: 0;}#sk-container-id-28 div.sk-dashed-wrapped {border: 1px dashed gray;margin: 0 0.4em 0.5em 0.4em;box-sizing: border-box;padding-bottom: 0.4em;background-color: white;}#sk-container-id-28 div.sk-label label {font-family: monospace;font-weight: bold;display: inline-block;line-height: 1.2em;}#sk-container-id-28 div.sk-label-container {text-align: center;}#sk-container-id-28 div.sk-container {/* jupyter's `normalize.less` sets `[hidden] { display: none; }` but bootstrap.min.css set `[hidden] { display: none !important; }` so we also need the `!important` here to be able to override the default hidden behavior on the sphinx rendered scikit-learn.org. See: https://github.com/scikit-learn/scikit-learn/issues/21755 */display: inline-block !important;position: relative;}#sk-container-id-28 div.sk-text-repr-fallback {display: none;}</style><div id=\"sk-container-id-28\" class=\"sk-top-container\"><div class=\"sk-text-repr-fallback\"><pre>RandomForestClassifier(bootstrap=False, min_impurity_decrease=0,\n",
              "                       min_samples_split=4, random_state=42)</pre><b>In a Jupyter environment, please rerun this cell to show the HTML representation or trust the notebook. <br />On GitHub, the HTML representation is unable to render, please try loading this page with nbviewer.org.</b></div><div class=\"sk-container\" hidden><div class=\"sk-item\"><div class=\"sk-estimator sk-toggleable\"><input class=\"sk-toggleable__control sk-hidden--visually\" id=\"sk-estimator-id-56\" type=\"checkbox\" checked><label for=\"sk-estimator-id-56\" class=\"sk-toggleable__label sk-toggleable__label-arrow\">RandomForestClassifier</label><div class=\"sk-toggleable__content\"><pre>RandomForestClassifier(bootstrap=False, min_impurity_decrease=0,\n",
              "                       min_samples_split=4, random_state=42)</pre></div></div></div></div></div>"
            ]
          },
          "metadata": {},
          "execution_count": 255
        }
      ],
      "source": [
        "print(busca.best_params_)\n",
        "print(busca.best_score_ * 100)\n",
        "busca.best_estimator_"
      ]
    },
    {
      "cell_type": "code",
      "source": [
        "from sklearn.model_selection import cross_val_score\n",
        "modelo_RF2 = RandomForestClassifier(**busca.best_params_, random_state = SEED)\n",
        "scores = cross_val_score(modelo_RF2, x_teste, y_teste, cv = KFold(n_splits=5, shuffle=True), scoring = make_scorer(recall_score))\n",
        "print(f'Média: {round(scores.mean(),3)}, Desvio: {round(scores.std(),3)}')\n",
        "\n",
        "metrica_bussines(modelo_RF2)"
      ],
      "metadata": {
        "colab": {
          "base_uri": "https://localhost:8080/"
        },
        "id": "zunTO2A6Odl6",
        "outputId": "66b9fd18-0f55-4755-ced3-5d51c363d51a"
      },
      "execution_count": null,
      "outputs": [
        {
          "output_type": "stream",
          "name": "stdout",
          "text": [
            "Média: 0.772, Desvio: 0.047\n",
            "taxa perdido: 6.46 \n",
            "taxa recuperado: 87.64\n"
          ]
        }
      ]
    },
    {
      "cell_type": "code",
      "source": [
        "from sklearn.model_selection import cross_val_score\n",
        "modelo_RF2 = RandomForestClassifier(n_estimators=90,min_samples_split=2,max_depth= 12, random_state = SEED)\n",
        "scores = cross_val_score(modelo_RF2, x_teste, y_teste, cv = KFold(n_splits=5, shuffle=True), scoring = make_scorer(recall_score))\n",
        "print(f'Média: {round(scores.mean(),3)}, Desvio: {round(scores.std(),3)}')\n",
        "\n",
        "metrica_bussines(modelo_RF2)"
      ],
      "metadata": {
        "colab": {
          "base_uri": "https://localhost:8080/"
        },
        "id": "H8M16qKnsDqz",
        "outputId": "458175c6-94e6-4871-e139-4bcdfc67870c"
      },
      "execution_count": null,
      "outputs": [
        {
          "output_type": "stream",
          "name": "stdout",
          "text": [
            "Média: 0.811, Desvio: 0.032\n",
            "taxa perdido: 6.74 \n",
            "taxa recuperado: 80.76\n"
          ]
        }
      ]
    },
    {
      "cell_type": "markdown",
      "source": [
        "O modelo alterando Max_depth e n_estimators está melhor que o dado pelo SearchGridCV"
      ],
      "metadata": {
        "id": "W3ZQ6lpXt4T0"
      }
    },
    {
      "cell_type": "code",
      "source": [
        "matrix_confusao(modelo_RF)"
      ],
      "metadata": {
        "colab": {
          "base_uri": "https://localhost:8080/",
          "height": 565
        },
        "id": "II2XA4GeU6YX",
        "outputId": "bf444598-960f-4cb8-9965-724ec7f840ff"
      },
      "execution_count": null,
      "outputs": [
        {
          "output_type": "display_data",
          "data": {
            "text/plain": [
              "<Figure size 800x600 with 1 Axes>"
            ],
            "image/png": "[encoded data removed]"
          },
          "metadata": {}
        }
      ]
    },
    {
      "cell_type": "code",
      "source": [
        "matrix_confusao(modelo_RF2)"
      ],
      "metadata": {
        "colab": {
          "base_uri": "https://localhost:8080/",
          "height": 565
        },
        "id": "csMdMspeU6P7",
        "outputId": "995600a3-1b54-454b-ed5e-a8fbfecd35c5"
      },
      "execution_count": null,
      "outputs": [
        {
          "output_type": "display_data",
          "data": {
            "text/plain": [
              "<Figure size 800x600 with 1 Axes>"
            ],
            "image/png": "[encoded data removed]"
          },
          "metadata": {}
        }
      ]
    },
    {
      "cell_type": "markdown",
      "source": [
        "Com base nas métricas o modelo:\n",
        "1. Aumentou a taxa corretamente classificar como evasor\n",
        "2. Aumentou perda em 6 clientes, e classificamos menos não evasores\n",
        "3. Diminuiu a taxa de Verdadeiro positivos.\n",
        "* Com base nos resultados o modelo RF2 é o melhor modelo otimizado\n",
        "\n",
        "Recall: 80% -> 81.1%\n",
        "\n",
        "taxa perdido: 5.2% -> 6.74%\n",
        "\n",
        "O modelo consegue prever melhor um possível evasor, com perdas de 6.7% (taxa de falso negativo)."
      ],
      "metadata": {
        "id": "uAP5ZlwcRYud"
      }
    },
    {
      "cell_type": "markdown",
      "source": [
        "# Otimização do GradientBoost\n",
        "O melhor modelo dada estar acima da Baseline em Recall e Bussines:**Gradient Boost**\n",
        "\n",
        "Este modelo será otimizado a seguir.\n",
        "\n",
        "Média Acurácia Teste: 0.75\n",
        "\n",
        "Média Precisão Teste: 0.73\n",
        "\n",
        "Média Recall Teste: 0.79\n",
        "\n",
        "taxa perdido: 18.67\n",
        "\n",
        "taxa recuperado: 75.5"
      ],
      "metadata": {
        "id": "wUrM8WJIBUT2"
      }
    },
    {
      "cell_type": "code",
      "execution_count": null,
      "metadata": {
        "id": "lp1-4ZA4UDe7",
        "colab": {
          "base_uri": "https://localhost:8080/",
          "height": 127
        },
        "outputId": "82b0ee4b-66cd-4f81-9b0d-5b091ecfac96"
      },
      "outputs": [
        {
          "output_type": "stream",
          "name": "stdout",
          "text": [
            "{'criterion': 'squared_error', 'learning_rate': 0.5, 'loss': 'log_loss', 'n_estimators': 110, 'subsample': 1}\n",
            "81.03413021585884\n"
          ]
        },
        {
          "output_type": "execute_result",
          "data": {
            "text/plain": [
              "GradientBoostingClassifier(criterion='squared_error', learning_rate=0.5,\n",
              "                           n_estimators=110, random_state=42, subsample=1)"
            ],
            "text/html": [
              "<style>#sk-container-id-12 {color: black;background-color: white;}#sk-container-id-12 pre{padding: 0;}#sk-container-id-12 div.sk-toggleable {background-color: white;}#sk-container-id-12 label.sk-toggleable__label {cursor: pointer;display: block;width: 100%;margin-bottom: 0;padding: 0.3em;box-sizing: border-box;text-align: center;}#sk-container-id-12 label.sk-toggleable__label-arrow:before {content: \"▸\";float: left;margin-right: 0.25em;color: #696969;}#sk-container-id-12 label.sk-toggleable__label-arrow:hover:before {color: black;}#sk-container-id-12 div.sk-estimator:hover label.sk-toggleable__label-arrow:before {color: black;}#sk-container-id-12 div.sk-toggleable__content {max-height: 0;max-width: 0;overflow: hidden;text-align: left;background-color: #f0f8ff;}#sk-container-id-12 div.sk-toggleable__content pre {margin: 0.2em;color: black;border-radius: 0.25em;background-color: #f0f8ff;}#sk-container-id-12 input.sk-toggleable__control:checked~div.sk-toggleable__content {max-height: 200px;max-width: 100%;overflow: auto;}#sk-container-id-12 input.sk-toggleable__control:checked~label.sk-toggleable__label-arrow:before {content: \"▾\";}#sk-container-id-12 div.sk-estimator input.sk-toggleable__control:checked~label.sk-toggleable__label {background-color: #d4ebff;}#sk-container-id-12 div.sk-label input.sk-toggleable__control:checked~label.sk-toggleable__label {background-color: #d4ebff;}#sk-container-id-12 input.sk-hidden--visually {border: 0;clip: rect(1px 1px 1px 1px);clip: rect(1px, 1px, 1px, 1px);height: 1px;margin: -1px;overflow: hidden;padding: 0;position: absolute;width: 1px;}#sk-container-id-12 div.sk-estimator {font-family: monospace;background-color: #f0f8ff;border: 1px dotted black;border-radius: 0.25em;box-sizing: border-box;margin-bottom: 0.5em;}#sk-container-id-12 div.sk-estimator:hover {background-color: #d4ebff;}#sk-container-id-12 div.sk-parallel-item::after {content: \"\";width: 100%;border-bottom: 1px solid gray;flex-grow: 1;}#sk-container-id-12 div.sk-label:hover label.sk-toggleable__label {background-color: #d4ebff;}#sk-container-id-12 div.sk-serial::before {content: \"\";position: absolute;border-left: 1px solid gray;box-sizing: border-box;top: 0;bottom: 0;left: 50%;z-index: 0;}#sk-container-id-12 div.sk-serial {display: flex;flex-direction: column;align-items: center;background-color: white;padding-right: 0.2em;padding-left: 0.2em;position: relative;}#sk-container-id-12 div.sk-item {position: relative;z-index: 1;}#sk-container-id-12 div.sk-parallel {display: flex;align-items: stretch;justify-content: center;background-color: white;position: relative;}#sk-container-id-12 div.sk-item::before, #sk-container-id-12 div.sk-parallel-item::before {content: \"\";position: absolute;border-left: 1px solid gray;box-sizing: border-box;top: 0;bottom: 0;left: 50%;z-index: -1;}#sk-container-id-12 div.sk-parallel-item {display: flex;flex-direction: column;z-index: 1;position: relative;background-color: white;}#sk-container-id-12 div.sk-parallel-item:first-child::after {align-self: flex-end;width: 50%;}#sk-container-id-12 div.sk-parallel-item:last-child::after {align-self: flex-start;width: 50%;}#sk-container-id-12 div.sk-parallel-item:only-child::after {width: 0;}#sk-container-id-12 div.sk-dashed-wrapped {border: 1px dashed gray;margin: 0 0.4em 0.5em 0.4em;box-sizing: border-box;padding-bottom: 0.4em;background-color: white;}#sk-container-id-12 div.sk-label label {font-family: monospace;font-weight: bold;display: inline-block;line-height: 1.2em;}#sk-container-id-12 div.sk-label-container {text-align: center;}#sk-container-id-12 div.sk-container {/* jupyter's `normalize.less` sets `[hidden] { display: none; }` but bootstrap.min.css set `[hidden] { display: none !important; }` so we also need the `!important` here to be able to override the default hidden behavior on the sphinx rendered scikit-learn.org. See: https://github.com/scikit-learn/scikit-learn/issues/21755 */display: inline-block !important;position: relative;}#sk-container-id-12 div.sk-text-repr-fallback {display: none;}</style><div id=\"sk-container-id-12\" class=\"sk-top-container\"><div class=\"sk-text-repr-fallback\"><pre>GradientBoostingClassifier(criterion=&#x27;squared_error&#x27;, learning_rate=0.5,\n",
              "                           n_estimators=110, random_state=42, subsample=1)</pre><b>In a Jupyter environment, please rerun this cell to show the HTML representation or trust the notebook. <br />On GitHub, the HTML representation is unable to render, please try loading this page with nbviewer.org.</b></div><div class=\"sk-container\" hidden><div class=\"sk-item\"><div class=\"sk-estimator sk-toggleable\"><input class=\"sk-toggleable__control sk-hidden--visually\" id=\"sk-estimator-id-24\" type=\"checkbox\" checked><label for=\"sk-estimator-id-24\" class=\"sk-toggleable__label sk-toggleable__label-arrow\">GradientBoostingClassifier</label><div class=\"sk-toggleable__content\"><pre>GradientBoostingClassifier(criterion=&#x27;squared_error&#x27;, learning_rate=0.5,\n",
              "                           n_estimators=110, random_state=42, subsample=1)</pre></div></div></div></div></div>"
            ]
          },
          "metadata": {},
          "execution_count": 194
        }
      ],
      "source": [
        "SEED=42\n",
        "np.random.seed(SEED)\n",
        "# Colocar os default\n",
        "espaco_de_parametros = {\n",
        "    \"loss\" : ['log_loss','exponential'],\n",
        "    \"learning_rate\": [0.1,0.2,0.5 ],\n",
        "    \"n_estimators\": [100, 90, 110],\n",
        "    \"subsample\": [0.1, 0.5, 1],\n",
        "    \"criterion\":['friedman_mse', 'squared_error']}\n",
        "\n",
        "\n",
        "\n",
        "\n",
        "busca = GridSearchCV(modelo_GB,\n",
        "                    espaco_de_parametros,\n",
        "                    cv = validador)\n",
        "\n",
        "busca.fit(x_treino, y_treino)\n",
        "print(busca.best_params_)\n",
        "print(busca.best_score_ * 100)\n",
        "busca.best_estimator_"
      ]
    },
    {
      "cell_type": "code",
      "source": [
        "\n",
        "modelo_GB2 = GradientBoostingClassifier(criterion='squared_error', learning_rate=0.5,\n",
        "                           n_estimators=110, subsample=1, random_state = SEED)\n",
        "scores = cross_val_score(modelo_GB2, x_teste, y_teste, cv = KFold(n_splits=5, shuffle=True), scoring = make_scorer(recall_score))\n",
        "print(f'Média: {round(scores.mean(),3)}, Desvio: {round(scores.std(),3)}')\n",
        "\n",
        "metrica_bussines(modelo_GB2)"
      ],
      "metadata": {
        "colab": {
          "base_uri": "https://localhost:8080/"
        },
        "id": "t7cH7j9QCqHq",
        "outputId": "a6ea197d-3ce5-4918-95a8-0d7a957012b2"
      },
      "execution_count": null,
      "outputs": [
        {
          "output_type": "stream",
          "name": "stdout",
          "text": [
            "Média: 0.787, Desvio: 0.025\n",
            "taxa perdido: 16.15 \n",
            "taxa recuperado: 77.98\n"
          ]
        }
      ]
    },
    {
      "cell_type": "markdown",
      "source": [
        "# Validação do modelo: RandomForest"
      ],
      "metadata": {
        "id": "ziWk0iE7vEDQ"
      }
    },
    {
      "cell_type": "code",
      "source": [
        "modelo_final = RandomForestClassifier(n_estimators=90,min_samples_split=2,max_depth= 12, random_state = SEED)\n",
        "scores = cross_val_score(modelo_final, x_validacao, y_validacao, cv = KFold(n_splits=5, shuffle=True), scoring = make_scorer(recall_score))\n",
        "print(f'Média: {round(scores.mean(),3)}, Desvio: {round(scores.std(),3)}')"
      ],
      "metadata": {
        "colab": {
          "base_uri": "https://localhost:8080/"
        },
        "id": "SX9ho6gULCa5",
        "outputId": "258dba7b-5342-44b2-f714-b378c8b6f539"
      },
      "execution_count": null,
      "outputs": [
        {
          "output_type": "stream",
          "name": "stdout",
          "text": [
            "Média: 0.813, Desvio: 0.027\n"
          ]
        }
      ]
    },
    {
      "cell_type": "code",
      "source": [
        "metrica_bussines(modelo_final)"
      ],
      "metadata": {
        "colab": {
          "base_uri": "https://localhost:8080/"
        },
        "id": "0Pot0hNgvR72",
        "outputId": "fed110f9-14aa-4707-eddd-95bd49be9c74"
      },
      "execution_count": null,
      "outputs": [
        {
          "output_type": "stream",
          "name": "stdout",
          "text": [
            "taxa perdido: 6.74 \n",
            "taxa recuperado: 80.76\n"
          ]
        }
      ]
    },
    {
      "cell_type": "markdown",
      "source": [
        "## Resultados Validação:\n",
        "\n",
        "Recall:81.3%\n",
        "\n",
        "taxa perdido: 6.74%\n",
        "\n",
        "# Salvar com Pickle"
      ],
      "metadata": {
        "id": "PSBi97gYvcbs"
      }
    },
    {
      "cell_type": "code",
      "source": [
        "import pickle\n",
        "\n",
        "with open('modelo_Churn.pkl', 'wb') as arquivo:\n",
        "    pickle.dump(modelo_final, arquivo)\n"
      ],
      "metadata": {
        "id": "9746nN4XvXAc"
      },
      "execution_count": null,
      "outputs": []
    },
    {
      "cell_type": "code",
      "source": [],
      "metadata": {
        "id": "MjYy_F8IwZFP"
      },
      "execution_count": null,
      "outputs": []
    }
  ],
  "metadata": {
    "colab": {
      "provenance": [],
      "authorship_tag": "ABX9TyNW1iuj3DKPVW+v6P2Z5Qd7",
      "include_colab_link": true
    },
    "kernelspec": {
      "display_name": "Python 3",
      "name": "python3"
    },
    "language_info": {
      "name": "python"
    }
  },
  "nbformat": 4,
  "nbformat_minor": 0
}